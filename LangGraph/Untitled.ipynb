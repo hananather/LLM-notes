{
 "cells": [
  {
   "cell_type": "code",
   "execution_count": null,
   "id": "0f2618d6-4dca-45e3-9bdc-183f6fd0808c",
   "metadata": {},
   "outputs": [],
   "source": []
  },
  {
   "cell_type": "markdown",
   "id": "42990230-f380-491c-9fae-01d7912841bb",
   "metadata": {
    "jp-MarkdownHeadingCollapsed": true
   },
   "source": [
    "# Graphs\n",
    "At its core, `LangGraph` models AI systems as graphs. You define the behaviour of your system using three components:\n",
    "1. `State`: A shared data structure that represents the current snapshot of our application (typically a `TypedDict` or Pydantic `BaseModel`)\n",
    "2. `Nodes`: Python functions that encode the logic of our system. They recieve the current `State` as input, perfrom some computation and return the updated `State`.\n",
    "3. `Edges`: Python functions that determine which `Node` to execute next based on the current `State`. They can be conditional branches or fixed transitions.\n",
    "\n",
    "By composing `Nodes` and `Edges`, we can create complex, looping workflows that evolve the `State` over time. The real power comes from how LangGraph manages `State`. To emphasize: `Nodes` and `Edges` are nothing more than Python functions. They can contain an LLM or just Python code.\n",
    "\n",
    "In short: *nodes to the work. edges tell us what to do next.*\n",
    "\n",
    "LangGraph's underlying graph algorithm uses message passing to define a general program. When a `Node` completes its operation, it sends messages along one or more edges to other node(s). These recipients nodes then execute their functions, pass the resulting messages to the next set of nodes, and the process continues.\n",
    "\n",
    "The program proceeds in discrete \"super-steps\".\n",
    "\n",
    "- A super-step can be considered a single iteration over the graph nodes. \n",
    "- Nodes that run in parallel are part of the same super step, while nodes that run sequentially belong to separate super steps.\n",
    "- At the start of graph execution all nodes begin in an `inactive` state. A node becomes `active` when it receives a new message (state) on any of its incoming edges (or \"channels\").\n",
    "- The active node then runs it function and responds with updates\n",
    "\n",
    "\n",
    "### `StateGraph`\n",
    "The `StateGraph` class is the main graph class. It is prarameterized by a user defined `State` object. \n",
    "\n",
    "**Compiling Graphs**\n",
    "\n",
    "You MUST compile your graph before you can use it.\n",
    "\n",
    "\n",
    "To build a graph, we frist define the `state`, then add `nodes` and `edges`, and then we compile it. What exactly is compiling your graph and why is it needed?\n",
    "\n",
    "- compiling provides a few basic checks on the structure of our graph (no orphaned nodes, etc.)\n",
    "- it is also where we specify runtime args like `checkpointers` and `breakpoints`\n"
   ]
  },
  {
   "cell_type": "markdown",
   "id": "98b1de6f-c8f9-4662-b8cb-3a35298e351f",
   "metadata": {},
   "source": [
    "## Pydantic\n",
    "`TypedDicted` and `dataclasses` provide type hints but they don't enforce types at runtime. This means that we can potentially assign invalid valaues without raises an error.\n",
    "\n",
    "Pydantic is a data validation library using Python type  annotations. Its particularly well suited for defining state schemas in LangGraph due to its validation capabilities.\n",
    "\n",
    "Pydantic can perfrom validation to check whether data conform to the specific types and constrants at runtime.\n"
   ]
  },
  {
   "cell_type": "code",
   "execution_count": 5,
   "id": "658e1692-f970-41a2-9125-fda5639a525c",
   "metadata": {},
   "outputs": [],
   "source": [
    "from pydantic import BaseModel, field_validator, ValidationError\n",
    "\n",
    "class PydanticState(BaseModel):\n",
    "    name: str\n",
    "    result: str # \"passed\" or \"failed\"\n",
    "\n",
    "    @field_validator('result')\n",
    "    @classmethod\n",
    "    def validate_mood(cls, value):\n",
    "        if value not in ['success', 'failure']:\n",
    "            raise ValueError(\"Each result must be either 'happy' or 'sad'\")"
   ]
  },
  {
   "cell_type": "code",
   "execution_count": 6,
   "id": "1ff1c6fd-5aa0-4103-aa98-676e7fb6d1bf",
   "metadata": {},
   "outputs": [
    {
     "name": "stdout",
     "output_type": "stream",
     "text": [
      "1 validation error for PydanticState\n",
      "result\n",
      "  Value error, Each result must be either 'happy' or 'sad' [type=value_error, input_value='undefined', input_type=str]\n",
      "    For further information visit https://errors.pydantic.dev/2.10/v/value_error\n"
     ]
    }
   ],
   "source": [
    "try: \n",
    "    state = PydanticState(name='Script-1', result='undefined')\n",
    "except ValidationError as e:\n",
    "    print(e)"
   ]
  },
  {
   "cell_type": "code",
   "execution_count": 7,
   "id": "391fbf7e-f0b4-4903-8d8d-49f70cc17552",
   "metadata": {},
   "outputs": [
    {
     "data": {
      "image/png": "[encoded data removed]",
      "text/plain": [
       "<IPython.core.display.Image object>"
      ]
     },
     "metadata": {},
     "output_type": "display_data"
    }
   ],
   "source": [
    "import random\n",
    "from typing_extensions import TypedDict\n",
    "from typing import Literal\n",
    "\n",
    "from IPython.display import Image, display\n",
    "from langgraph.graph import StateGraph, START, END\n",
    "\n",
    "\n",
    "def node_1(state):\n",
    "    print(\"---Node 1---\")\n",
    "    return {\"name\": state.name + \" result is... \"}\n",
    "\n",
    "def node_2(state):\n",
    "    print(\"---Node 2---\")\n",
    "    return {\"result\": \"success\"}\n",
    "\n",
    "def node_3(state):\n",
    "    print(\"---Node 3---\")\n",
    "    return {\"result\": \"failure\"}\n",
    "\n",
    "def decide_result(state) -> Literal[\"node_2\", \"node_3\"]:\n",
    "        \n",
    "    # Here, let's just do a 50 / 50 split between nodes 2, 3\n",
    "    if random.random() < 0.5:\n",
    "\n",
    "        # 50% of the time, we return Node 2\n",
    "        return \"node_2\"\n",
    "    \n",
    "    # 50% of the time, we return Node 3\n",
    "    return \"node_3\"\n",
    "\n",
    "# Build graph\n",
    "builder = StateGraph(PydanticState)\n",
    "builder.add_node(\"node_1\", node_1)\n",
    "builder.add_node(\"node_2\", node_2)\n",
    "builder.add_node(\"node_3\", node_3)\n",
    "\n",
    "\n",
    "# Logic\n",
    "builder.add_edge(START, \"node_1\")\n",
    "builder.add_conditional_edges(\"node_1\", decide_result)\n",
    "builder.add_edge(\"node_2\", END)\n",
    "builder.add_edge(\"node_3\", END)\n",
    "\n",
    "# Add\n",
    "graph = builder.compile()\n",
    "\n",
    "# View\n",
    "display(Image(graph.get_graph().draw_mermaid_png()))"
   ]
  },
  {
   "cell_type": "code",
   "execution_count": 8,
   "id": "73d21aeb-aa93-498e-a9a2-4dc3575a4bab",
   "metadata": {},
   "outputs": [
    {
     "name": "stdout",
     "output_type": "stream",
     "text": [
      "---Node 1---\n",
      "---Node 2---\n"
     ]
    },
    {
     "data": {
      "text/plain": [
       "{'name': 'Script-1 result is... ', 'result': 'success'}"
      ]
     },
     "execution_count": 8,
     "metadata": {},
     "output_type": "execute_result"
    }
   ],
   "source": [
    "graph.invoke(PydanticState(name=\"Script-1\",result=\"success\"))"
   ]
  },
  {
   "cell_type": "markdown",
   "id": "312f8609-bbef-447f-844b-66b1e32611c5",
   "metadata": {},
   "source": [
    "# Reducers\n",
    "Now that we have covered a few different ways to define LangGraph state schema, including `TypedDict`, `Pydantic` or `dataclasses`, now we can dive into **reducers**, which specify how state updates are performed on specific keys/ channels in the state schema.\n",
    "\n",
    "Reducers are key to understanding how to updates from nodes are applied to the `State`. Each key in the `State` has its own independent reducer function. If no reducer functon is explicitly specified then its assumed that all updates to they key should over ride it =. \n",
    "\n",
    "There are a few different types of reducers, starting with the default type of reducer:"
   ]
  },
  {
   "cell_type": "code",
   "execution_count": 22,
   "id": "294ef108-d7dd-450c-9ba3-87b73101e5e4",
   "metadata": {},
   "outputs": [
    {
     "data": {
      "image/png": "[encoded data removed]",
      "text/plain": [
       "<IPython.core.display.Image object>"
      ]
     },
     "metadata": {},
     "output_type": "display_data"
    }
   ],
   "source": [
    "from typing_extensions import TypedDict\n",
    "from langgraph.graph import MessagesState\n",
    "\n",
    "\n",
    "class State(TypedDict):\n",
    "    foo: int\n",
    "    bar: list[str]\n",
    "\n",
    "def node_1(state):\n",
    "    return {\"foo\": [state['foo'][0] + 1], \"bar\": ['bye']}\n",
    "# Build graph\n",
    "builder = StateGraph(State)\n",
    "builder.add_node(\"node_1\", node_1)\n",
    "\n",
    "# Logic\n",
    "builder.add_edge(START, \"node_1\")\n",
    "builder.add_edge(\"node_1\", END)\n",
    "\n",
    "# Add\n",
    "graph = builder.compile()\n",
    "\n",
    "# View\n",
    "display(Image(graph.get_graph().draw_mermaid_png()))"
   ]
  },
  {
   "cell_type": "code",
   "execution_count": 20,
   "id": "0d29b653-0b7f-4693-a289-dea3038ce270",
   "metadata": {},
   "outputs": [
    {
     "data": {
      "text/plain": [
       "{'foo': [2], 'bar': ['HI']}"
      ]
     },
     "execution_count": 20,
     "metadata": {},
     "output_type": "execute_result"
    }
   ],
   "source": [
    "graph.invoke({\"foo\" : [1], 'bar': ['Hi']})"
   ]
  },
  {
   "cell_type": "code",
   "execution_count": 23,
   "id": "a20cc149-5477-4ba4-b9b5-e37e70c91bdf",
   "metadata": {},
   "outputs": [
    {
     "data": {
      "image/png": "[encoded data removed]",
      "text/plain": [
       "<IPython.core.display.Image object>"
      ]
     },
     "metadata": {},
     "output_type": "display_data"
    }
   ],
   "source": [
    "from typing_extensions import TypedDict\n",
    "from langgraph.graph import MessagesState\n",
    "\n",
    "\n",
    "class State(TypedDict):\n",
    "    foo: Annotated[list[int], add]\n",
    "    bar: Annotated[list[str], add]\n",
    "\n",
    "def node_1(state):\n",
    "    return {\"foo\": [state['foo'][0] + 1], \"bar\": ['bye']}\n",
    "# Build graph\n",
    "builder = StateGraph(State)\n",
    "builder.add_node(\"node_1\", node_1)\n",
    "\n",
    "# Logic\n",
    "builder.add_edge(START, \"node_1\")\n",
    "builder.add_edge(\"node_1\", END)\n",
    "\n",
    "# Add\n",
    "graph = builder.compile()\n",
    "\n",
    "# View\n",
    "display(Image(graph.get_graph().draw_mermaid_png()))"
   ]
  },
  {
   "cell_type": "code",
   "execution_count": 24,
   "id": "8dca9ef9-0af0-4111-9c35-191381b2ede5",
   "metadata": {},
   "outputs": [
    {
     "data": {
      "text/plain": [
       "{'foo': [1, 2], 'bar': ['Hi', 'bye']}"
      ]
     },
     "execution_count": 24,
     "metadata": {},
     "output_type": "execute_result"
    }
   ],
   "source": [
    "graph.invoke({\"foo\" : [1], 'bar': ['Hi']})"
   ]
  },
  {
   "cell_type": "markdown",
   "id": "03ac10df-fa53-441c-a7ca-80a0003b1f80",
   "metadata": {},
   "source": [
    "We can use `Annotated` type to specify a reducer function (`operator.add`). "
   ]
  },
  {
   "cell_type": "code",
   "execution_count": 16,
   "id": "411d7dfb-1d90-4469-9f24-aed69376dbd7",
   "metadata": {},
   "outputs": [
    {
     "data": {
      "image/png": "[encoded data removed]",
      "text/plain": [
       "<IPython.core.display.Image object>"
      ]
     },
     "metadata": {},
     "output_type": "display_data"
    }
   ],
   "source": [
    "from operator import add\n",
    "from typing import Annotated\n",
    "\n",
    "class State(TypedDict):\n",
    "    foo: Annotated[list[int], add]\n",
    "\n",
    "def node_1(state):\n",
    "    return {\"foo\": [state['foo'][0] + 1]}\n",
    "# Build graph\n",
    "builder = StateGraph(State)\n",
    "builder.add_node(\"node_1\", node_1)\n",
    "\n",
    "# Logic\n",
    "builder.add_edge(START, \"node_1\")\n",
    "builder.add_edge(\"node_1\", END)\n",
    "\n",
    "# Add\n",
    "graph = builder.compile()\n",
    "\n",
    "# View\n",
    "display(Image(graph.get_graph().draw_mermaid_png()))"
   ]
  },
  {
   "cell_type": "code",
   "execution_count": 17,
   "id": "b3c85eef-0349-43a7-b926-4787714a2667",
   "metadata": {},
   "outputs": [
    {
     "data": {
      "text/plain": [
       "{'foo': [1, 2]}"
      ]
     },
     "execution_count": 17,
     "metadata": {},
     "output_type": "execute_result"
    }
   ],
   "source": [
    "graph.invoke({\"foo\" : [1]})"
   ]
  },
  {
   "cell_type": "markdown",
   "id": "ca10263d-d517-491b-9818-22b16d5bea3c",
   "metadata": {},
   "source": [
    "Now our state key `foo` is a list. This `operator.add` reducer function will append updates from each node to this list."
   ]
  },
  {
   "cell_type": "markdown",
   "id": "46cb4288-2c35-4a7c-85b7-23e1ab197611",
   "metadata": {},
   "source": [
    "### Multiple Schema\n",
    "\n",
    "\n",
    "\n",
    "Typically all graph nodes communicate with a single schema. This means they will read and write to the same static channels. But there are cases where we want more control over this:\n",
    "\n",
    "1. Internal nodes can pass information that is not required in the graph's input/output\n",
    "2. we may also want to use different input/output schemas for graphs. The output might only contain a single relevant output key. \n",
    "\n",
    "\n",
    "### Private State\n",
    "\n",
    "In some cases, we may want nodes to exchange information that is crucial for intermediate logic but doesn't need to be part of the main schema of the graph. This private data is not relevant to the overall input/output of the graph and should be shared between certain nodes."
   ]
  },
  {
   "cell_type": "code",
   "execution_count": 9,
   "id": "93bc7775-5078-477a-939c-353a6de09242",
   "metadata": {},
   "outputs": [
    {
     "data": {
      "image/png": "[encoded data removed]",
      "text/plain": [
       "<IPython.core.display.Image object>"
      ]
     },
     "metadata": {},
     "output_type": "display_data"
    }
   ],
   "source": [
    "from typing_extensions import TypedDict\n",
    "from IPython.display import Image, display\n",
    "from langgraph.graph import StateGraph, START, END\n",
    "\n",
    "\n",
    "class OverallState(TypedDict):\n",
    "    foo: int\n",
    "\n",
    "class PrivateState(TypedDict):\n",
    "    baz: int\n",
    "\n",
    "\n",
    "def node_1(state: OverallState) -> PrivateState:\n",
    "    return {\"baz\": state['foo'] + 1}\n",
    "\n",
    "def node_2(state: PrivateState) -> OverallState:\n",
    "    return {\"foo\": state['baz'] + 1}\n",
    "\n",
    "# Build graph\n",
    "builder = StateGraph(OverallState)\n",
    "builder.add_node(\"node_1\", node_1)\n",
    "builder.add_node(\"node_2\", node_2)\n",
    "\n",
    "# Logic\n",
    "builder.add_edge(START, \"node_1\")\n",
    "builder.add_edge(\"node_1\", \"node_2\")\n",
    "builder.add_edge(\"node_2\", END)\n",
    "\n",
    "\n",
    "# Add\n",
    "graph = builder.compile()\n",
    "\n",
    "# View\n",
    "display(Image(graph.get_graph().draw_mermaid_png()))"
   ]
  },
  {
   "cell_type": "code",
   "execution_count": 10,
   "id": "26f94711-17b8-4c59-9893-0ca8706d3667",
   "metadata": {},
   "outputs": [
    {
     "data": {
      "text/plain": [
       "{'foo': 3}"
      ]
     },
     "execution_count": 10,
     "metadata": {},
     "output_type": "execute_result"
    }
   ],
   "source": [
    "graph.invoke({\"foo\" : 1})"
   ]
  },
  {
   "cell_type": "markdown",
   "id": "c3051bd7-3d83-49cb-8e41-89e8599f1fea",
   "metadata": {},
   "source": [
    "# Input/Output schema\n",
    "\n",
    "By default, `StateGraph` operates with a single schema, and all nodes are expected to communicate using that schema. However, its also possible to define input and output schemas for a graph.\n",
    "\n",
    "When distinct schemas are specified, an interal schema will still be used for communication between nodes. The input schema ensures that the provided input matches the expected structure, while the output schema filters the interal data to return only the relevant informtion according to the defined output schema."
   ]
  },
  {
   "cell_type": "code",
   "execution_count": 11,
   "id": "3fc0f3d0-7a8d-4be3-9df3-2e76d38abed6",
   "metadata": {},
   "outputs": [
    {
     "data": {
      "image/png": "[encoded data removed]",
      "text/plain": [
       "<IPython.core.display.Image object>"
      ]
     },
     "metadata": {},
     "output_type": "display_data"
    },
    {
     "data": {
      "text/plain": [
       "{'answer': 'bye Lance'}"
      ]
     },
     "execution_count": 11,
     "metadata": {},
     "output_type": "execute_result"
    }
   ],
   "source": [
    "class OverallState(TypedDict):\n",
    "    question: str\n",
    "    answer: str\n",
    "    notes: str\n",
    "\n",
    "class InputState(TypedDict):\n",
    "    question: str\n",
    "\n",
    "class OutputState(TypedDict):\n",
    "    answer: str\n",
    "\n",
    "\n",
    "def thinking_node(state: InputState):\n",
    "    return {\"answer\": \"bye\", \"notes\": \"... his is name is Lance\"}\n",
    "\n",
    "def answer_node(state: OverallState) -> OutputState:\n",
    "    return {\"answer\": \"bye Lance\"}\n",
    "\n",
    "graph = StateGraph(OverallState, input=InputState, output=OutputState)\n",
    "graph.add_node(\"answer_node\", answer_node)\n",
    "graph.add_node(\"thinking_node\", thinking_node)\n",
    "graph.add_edge(START, \"thinking_node\")\n",
    "graph.add_edge(\"thinking_node\", \"answer_node\")\n",
    "graph.add_edge(\"answer_node\", END)\n",
    "\n",
    "graph = graph.compile()\n",
    "\n",
    "# View\n",
    "display(Image(graph.get_graph().draw_mermaid_png()))\n",
    "\n",
    "graph.invoke({\"question\":\"hi\"})"
   ]
  },
  {
   "cell_type": "code",
   "execution_count": 13,
   "id": "ad810c42-ddd6-4bb3-a6be-3ad839f0b399",
   "metadata": {},
   "outputs": [],
   "source": [
    "from typing_extensions import TypedDict\n",
    "from langgraph.graph import StateGraph, START, END\n",
    "\n",
    "# ── Public input: what a user must supply to run the graph\n",
    "class InputState(TypedDict):\n",
    "    raw_sas_code: str\n",
    "\n",
    "# ── Private-only state: intermediate data not exposed at the end\n",
    "class AstState(TypedDict):\n",
    "    ast: dict\n",
    "\n",
    "class ExplanationState(TypedDict):\n",
    "    explanation: str\n",
    "\n",
    "# ── Public output: what the graph returns to the caller\n",
    "class OutputState(TypedDict):\n",
    "    python_code: str\n",
    "\n",
    "# ── Internal union: lets every node see both public and private keys\n",
    "class OverallState(TypedDict):\n",
    "    raw_sas_code: str\n",
    "    ast: dict\n",
    "    explanation: str\n",
    "    python_code: str"
   ]
  },
  {
   "cell_type": "markdown",
   "id": "cef868fd-fc38-430f-9714-2b1c14e6ffea",
   "metadata": {},
   "source": [
    "### Parsing the SAS into an AST\n",
    "- This function reads raw_sas_code and writes a new key, ast.\n",
    "- Later nodes can inspect ast but it never appears in the final output"
   ]
  },
  {
   "cell_type": "code",
   "execution_count": 14,
   "id": "15687a24-9e63-423f-8d2e-145a2784d2d1",
   "metadata": {},
   "outputs": [],
   "source": [
    "def parseSasNode(state: InputState) -> AstState:\n",
    "    # Take the raw SAS string and produce an AST dictionary.\n",
    "    sas_text = state[\"raw_sas_code\"]\n",
    "    # Here you’d call your SAS parser library.\n",
    "    # We simulate by constructing a simple dict:\n",
    "    ast_dict = {\n",
    "        \"procedure\": \"PRINT\",\n",
    "        \"data\": \"mydata\",\n",
    "        \"variables\": [\"x\", \"y\"]\n",
    "    }\n",
    "    return {\"ast\": ast_dict}"
   ]
  },
  {
   "cell_type": "markdown",
   "id": "8bbd6241-9d59-47de-9605-e0c1435c0f19",
   "metadata": {},
   "source": [
    "### Explaining the AST with an LLM"
   ]
  },
  {
   "cell_type": "code",
   "execution_count": 15,
   "id": "b6bed3fa-beb4-4c18-9fa3-d9337d3c7a6c",
   "metadata": {},
   "outputs": [],
   "source": [
    "def explainAstNode(state: AstState) -> ExplanationState:\n",
    "    # Simulate calling an LLM to describe the AST’s intent.\n",
    "    ast = state[\"ast\"]\n",
    "    explanation_text = (\n",
    "        f\"This AST indicates a PRINT procedure on table '{ast['data']}', \"\n",
    "        f\"selecting columns {ast['variables']}.\"\n",
    "    )\n",
    "    return {\"explanation\": explanation_text}"
   ]
  },
  {
   "cell_type": "code",
   "execution_count": null,
   "id": "3bee303f-8236-4c3b-a3d1-d02279415944",
   "metadata": {},
   "outputs": [],
   "source": []
  },
  {
   "cell_type": "code",
   "execution_count": 17,
   "id": "2f38da64-3123-4413-a86d-6927a9ef1019",
   "metadata": {},
   "outputs": [],
   "source": [
    "def generatePythonNode(state: OverallState) -> OutputState:\n",
    "    # Simulate an LLM generating Python code based on the AST.\n",
    "    ast = state[\"ast\"]\n",
    "    # In a real system, you’d include ast and maybe explanation in your prompt.\n",
    "    python_snippet = f\"print(df[{ast['variables']}])\"\n",
    "    return {\"python_code\": python_snippet}"
   ]
  },
  {
   "cell_type": "code",
   "execution_count": 18,
   "id": "e13259ef-b3b1-431d-a844-3c5b64a8af27",
   "metadata": {},
   "outputs": [
    {
     "name": "stdout",
     "output_type": "stream",
     "text": [
      "{'python_code': \"print(df[['x', 'y']])\"}\n"
     ]
    }
   ],
   "source": [
    "# Construct the graph with explicit public I/O\n",
    "graph = StateGraph(\n",
    "    OverallState,       # union of all keys\n",
    "    input=InputState,   # only raw_sas_code accepted\n",
    "    output=OutputState  # only python_code returned\n",
    ")\n",
    "\n",
    "# Add our three nodes in sequence\n",
    "graph.add_node(\"parseSas\",      parseSasNode)\n",
    "graph.add_node(\"explainAst\",    explainAstNode)\n",
    "graph.add_node(\"generatePython\", generatePythonNode)\n",
    "\n",
    "# Wire up the flow\n",
    "graph.add_edge(START,          \"parseSas\")\n",
    "graph.add_edge(\"parseSas\",     \"explainAst\")\n",
    "graph.add_edge(\"explainAst\",   \"generatePython\")\n",
    "graph.add_edge(\"generatePython\", END)\n",
    "\n",
    "# Compile and invoke\n",
    "graph = graph.compile()\n",
    "result = graph.invoke({\n",
    "    \"raw_sas_code\": \"proc print data=mydata; var x y; run;\"\n",
    "})\n",
    "print(result)\n",
    "# Expected output: {'python_code': \"print(df[['x', 'y']])\"}"
   ]
  },
  {
   "cell_type": "markdown",
   "id": "51c3652f-9393-434e-a682-b3003cb0bfc5",
   "metadata": {},
   "source": [
    "- private keys exist on the internal graph state but are filtered out at the boundary thanks to the output schema.\n",
    "- It’s easy to miss that if you specify input/output schemas, only the START node uses the input schema and each node either uses its own declared schema or falls back to the internal schema."
   ]
  },
  {
   "cell_type": "markdown",
   "id": "2dc365a6-c760-4475-b1ff-376f34e94c6c",
   "metadata": {},
   "source": [
    "# Streaming\n",
    "There are three main types of data we'll want to stream:\n",
    "1. Workflow progress (e.g., get state updates after each graph node is executed)\n",
    "2. LLM tokens as they're generated.\n",
    "3. Custom Update (e.g., Fetched 10/100 records\").\n",
    "\n",
    "`.stream` and `.astream` are sync and async methods for streaming back outputs from a graph run. There are several modes we can specify when calling these methods \n",
    "\n",
    "# Breakpoints\n",
    "For `human-in-the-loop`, we often want to see our graph outputs as its running. Streaming allows us to do that (will be covered)\n",
    "\n",
    "There are a few motivations for human-in-the-loop for AI systems:\n",
    "1. Approval - we can interrupt our agent, surface the state to a user, allow the user to accept an action\n",
    "2. Debugging - We can rewind the graph to reproduce or avoid issues\n",
    "3. Editing - You can modify the state\n",
    "\n",
    "First, lets go over the concept of breakpoints, which provide a simple way to stop the graph at specific steps. This will allow us to enable user `approval`.\n",
    "\n",
    "#### Break points for human approval\n",
    "\n",
    "Lets re-consider a very simple agent. Assume we are concerned with tool use: we want to approve the agent to use any of its tools. All we need to do is simply compile the graph with `interrupt_before=[\"tools\"]`, where `tools` is our tools node. This means that the execution will be interrupted before the node `tools`, which executes the tool call. "
   ]
  },
  {
   "cell_type": "code",
   "execution_count": 20,
   "id": "ec433363-28f3-4ca5-b4e4-9e7a636404cb",
   "metadata": {},
   "outputs": [],
   "source": [
    "import os\n",
    "from langchain_openai import AzureChatOpenAI\n",
    "from langgraph.graph import StateGraph, END\n",
    "\n",
    "\n",
    "def multiply(a: int, b: int) -> int:\n",
    "    \"\"\"Multiply a and b.\n",
    "\n",
    "    Args:\n",
    "        a: first int\n",
    "        b: second int\n",
    "    \"\"\"\n",
    "    return a * b\n",
    "\n",
    "# This will be a tool\n",
    "def add(a: int, b: int) -> int:\n",
    "    \"\"\"Adds a and b.\n",
    "\n",
    "    Args:\n",
    "        a: first int\n",
    "        b: second int\n",
    "    \"\"\"\n",
    "    return a + b\n",
    "\n",
    "def divide(a: int, b: int) -> float:\n",
    "    \"\"\"Divide a by b.\n",
    "\n",
    "    Args:\n",
    "        a: first int\n",
    "        b: second int\n",
    "    \"\"\"\n",
    "    return a / b\n",
    "\n",
    "\n",
    "tools = [add, multiply, divide]\n",
    "\n",
    "llm = AzureChatOpenAI(\n",
    "    azure_deployment= os.environ[\"AZURE_OPENAI_DEPLOYMENT\"],\n",
    "    api_version= os.environ[\"AZURE_OPENAI_API_VERSION\"],\n",
    ")\n",
    "\n",
    "llm_with_tools = llm.bind_tools(tools)"
   ]
  },
  {
   "cell_type": "code",
   "execution_count": 23,
   "id": "3f4316d1-ed5e-4158-9d2b-e31374bd60ba",
   "metadata": {},
   "outputs": [
    {
     "data": {
      "image/png": "[encoded data removed]",
      "text/plain": [
       "<IPython.core.display.Image object>"
      ]
     },
     "metadata": {},
     "output_type": "display_data"
    }
   ],
   "source": [
    "from IPython.display import Image, display\n",
    "\n",
    "from langgraph.checkpoint.memory import MemorySaver\n",
    "from langgraph.graph import MessagesState\n",
    "from langgraph.graph import START, StateGraph\n",
    "from langgraph.prebuilt import tools_condition, ToolNode\n",
    "\n",
    "from langchain_core.messages import AIMessage, HumanMessage, SystemMessage\n",
    "\n",
    "\n",
    "\n",
    "# System message\n",
    "sys_msg = SystemMessage(content=\"You are a helpful assistant tasked with performing arithmetic on a set of inputs.\")\n",
    "\n",
    "# Node\n",
    "def assistant(state: MessagesState):\n",
    "   return {\"messages\": [llm_with_tools.invoke([sys_msg] + state[\"messages\"])]}\n",
    "\n",
    "# Graph\n",
    "builder = StateGraph(MessagesState)\n",
    "\n",
    "\n",
    "# Define nodes: these do the work\n",
    "builder.add_node(\"assistant\", assistant)\n",
    "builder.add_node(\"tools\", ToolNode(tools))\n",
    "\n",
    "# Define edges: these determine the control flow\n",
    "builder.add_edge(START, \"assistant\")\n",
    "builder.add_conditional_edges(\n",
    "    \"assistant\",\n",
    "    # If the latest message (result) from assistant is a tool call -> tools_condition routes to tools\n",
    "    # If the latest message (result) from assistant is a not a tool call -> tools_condition routes to END\n",
    "    tools_condition,\n",
    ")\n",
    "builder.add_edge(\"tools\", \"assistant\")\n",
    "\n",
    "\n",
    "memory = MemorySaver()\n",
    "graph = builder.compile(interrupt_before=[\"tools\"], checkpointer=memory)\n",
    "\n",
    "\n",
    "# Show\n",
    "display(Image(graph.get_graph(xray=True).draw_mermaid_png()))"
   ]
  },
  {
   "cell_type": "code",
   "execution_count": 24,
   "id": "b1289474-2b21-45d6-9998-2d2735f95fc7",
   "metadata": {},
   "outputs": [
    {
     "name": "stdout",
     "output_type": "stream",
     "text": [
      "================================\u001b[1m Human Message \u001b[0m=================================\n",
      "\n",
      "Multiply 2 and 3\n",
      "==================================\u001b[1m Ai Message \u001b[0m==================================\n",
      "Tool Calls:\n",
      "  multiply (call_ecoMQIqshsJ8vizPbbOO4RTt)\n",
      " Call ID: call_ecoMQIqshsJ8vizPbbOO4RTt\n",
      "  Args:\n",
      "    a: 2\n",
      "    b: 3\n"
     ]
    }
   ],
   "source": [
    "# Input\n",
    "initial_input = {\"messages\": HumanMessage(content=\"Multiply 2 and 3\")}\n",
    "\n",
    "# Thread\n",
    "thread = {\"configurable\": {\"thread_id\": \"1\"}}\n",
    "\n",
    "# Run the graph until the first interruption\n",
    "for event in graph.stream(initial_input, thread, stream_mode=\"values\"):\n",
    "    event['messages'][-1].pretty_print()"
   ]
  },
  {
   "cell_type": "code",
   "execution_count": 25,
   "id": "52cbbf98-838c-4106-84f6-94ecdfa1291b",
   "metadata": {},
   "outputs": [
    {
     "name": "stdout",
     "output_type": "stream",
     "text": [
      "==================================\u001b[1m Ai Message \u001b[0m==================================\n",
      "Tool Calls:\n",
      "  multiply (call_ecoMQIqshsJ8vizPbbOO4RTt)\n",
      " Call ID: call_ecoMQIqshsJ8vizPbbOO4RTt\n",
      "  Args:\n",
      "    a: 2\n",
      "    b: 3\n",
      "=================================\u001b[1m Tool Message \u001b[0m=================================\n",
      "Name: multiply\n",
      "\n",
      "6\n",
      "==================================\u001b[1m Ai Message \u001b[0m==================================\n",
      "\n",
      "The product of 2 and 3 is 6.\n"
     ]
    }
   ],
   "source": [
    "for event in graph.stream(None, thread, stream_mode=\"values\"):\n",
    "    event['messages'][-1].pretty_print()"
   ]
  },
  {
   "cell_type": "markdown",
   "id": "7009cce6-ed2d-48d9-a414-2d0110255d09",
   "metadata": {},
   "source": [
    "Now, lets bring these together with a specific user approval step that accepts user input."
   ]
  },
  {
   "cell_type": "code",
   "execution_count": 28,
   "id": "b7d72a5f-702c-4b20-9959-8713b0cc31ff",
   "metadata": {},
   "outputs": [
    {
     "name": "stdout",
     "output_type": "stream",
     "text": [
      "================================\u001b[1m Human Message \u001b[0m=================================\n",
      "\n",
      "Multiply 2 and 3\n",
      "==================================\u001b[1m Ai Message \u001b[0m==================================\n",
      "Tool Calls:\n",
      "  multiply (call_rLR4dtY3GBo8QQXeaFk4yzmS)\n",
      " Call ID: call_rLR4dtY3GBo8QQXeaFk4yzmS\n",
      "  Args:\n",
      "    a: 2\n",
      "    b: 3\n"
     ]
    },
    {
     "name": "stdin",
     "output_type": "stream",
     "text": [
      "Do you want to call the tool? (yes/no):  no\n"
     ]
    },
    {
     "name": "stdout",
     "output_type": "stream",
     "text": [
      "Operation cancelled by user.\n"
     ]
    }
   ],
   "source": [
    "# Input\n",
    "initial_input = {\"messages\": HumanMessage(content=\"Multiply 2 and 3\")}\n",
    "\n",
    "# Thread\n",
    "thread = {\"configurable\": {\"thread_id\": \"2\"}}\n",
    "\n",
    "# Run the graph until the first interruption\n",
    "for event in graph.stream(initial_input, thread, stream_mode=\"values\"):\n",
    "    event['messages'][-1].pretty_print()\n",
    "\n",
    "# Get user feedback\n",
    "user_approval = input(\"Do you want to call the tool? (yes/no): \")\n",
    "\n",
    "# Check approval\n",
    "if user_approval.lower() == \"yes\":\n",
    "    \n",
    "    # If approved, continue the graph execution\n",
    "    for event in graph.stream(None, thread, stream_mode=\"values\"):\n",
    "        event['messages'][-1].pretty_print()\n",
    "        \n",
    "else:\n",
    "    print(\"Operation cancelled by user.\")"
   ]
  },
  {
   "cell_type": "code",
   "execution_count": 30,
   "id": "29183293-bf25-4c3f-b432-c0f2d79b91f4",
   "metadata": {},
   "outputs": [
    {
     "name": "stdout",
     "output_type": "stream",
     "text": [
      "================================\u001b[1m Human Message \u001b[0m=================================\n",
      "\n",
      "Multiply 2 and 3\n",
      "==================================\u001b[1m Ai Message \u001b[0m==================================\n",
      "Tool Calls:\n",
      "  multiply (call_AojDBiJNVTWHlhZ7Ug8TP1wk)\n",
      " Call ID: call_AojDBiJNVTWHlhZ7Ug8TP1wk\n",
      "  Args:\n",
      "    a: 2\n",
      "    b: 3\n"
     ]
    },
    {
     "name": "stdin",
     "output_type": "stream",
     "text": [
      "Do you want to call the tool? (yes/no):  YES\n"
     ]
    },
    {
     "name": "stdout",
     "output_type": "stream",
     "text": [
      "==================================\u001b[1m Ai Message \u001b[0m==================================\n",
      "Tool Calls:\n",
      "  multiply (call_AojDBiJNVTWHlhZ7Ug8TP1wk)\n",
      " Call ID: call_AojDBiJNVTWHlhZ7Ug8TP1wk\n",
      "  Args:\n",
      "    a: 2\n",
      "    b: 3\n",
      "=================================\u001b[1m Tool Message \u001b[0m=================================\n",
      "Name: multiply\n",
      "\n",
      "6\n",
      "==================================\u001b[1m Ai Message \u001b[0m==================================\n",
      "\n",
      "The result of multiplying 2 and 3 is 6.\n"
     ]
    }
   ],
   "source": [
    "# Input\n",
    "initial_input = {\"messages\": HumanMessage(content=\"Multiply 2 and 3\")}\n",
    "\n",
    "# Thread\n",
    "thread = {\"configurable\": {\"thread_id\": \"3\"}}\n",
    "\n",
    "# Run the graph until the first interruption\n",
    "for event in graph.stream(initial_input, thread, stream_mode=\"values\"):\n",
    "    event['messages'][-1].pretty_print()\n",
    "\n",
    "# Get user feedback\n",
    "user_approval = input(\"Do you want to call the tool? (yes/no): \")\n",
    "\n",
    "# Check approval\n",
    "if user_approval.lower() == \"yes\":\n",
    "    \n",
    "    # If approved, continue the graph execution\n",
    "    for event in graph.stream(None, thread, stream_mode=\"values\"):\n",
    "        event['messages'][-1].pretty_print()\n",
    "        \n",
    "else:\n",
    "    print(\"Operation cancelled by user.\")"
   ]
  },
  {
   "cell_type": "markdown",
   "id": "a09869ea-c25c-4d2f-ab3e-47425bb96a69",
   "metadata": {},
   "source": [
    "## Editing\n",
    "Now lets directly edit the graphs state and insert human feedback. **Breakpoints allow us to interrupt graph execution before a specific step**. At this breakpoint, we can manually edit the graph state and then resume from that spot to continue. \n"
   ]
  },
  {
   "cell_type": "code",
   "execution_count": 41,
   "id": "bab9b49f-3c45-454e-8199-c11e62c11bd5",
   "metadata": {},
   "outputs": [],
   "source": [
    "\n",
    "# System message\n",
    "sys_msg = SystemMessage(content=\"You are a helpful assistant tasked with performing arithmetic on a set of inputs.\")\n",
    "\n",
    "# Node\n",
    "def assistant(state: MessagesState):\n",
    "   return {\"messages\": [llm_with_tools.invoke([sys_msg] + state[\"messages\"])]}\n",
    "\n",
    "# Graph\n",
    "builder = StateGraph(MessagesState)\n",
    "\n",
    "# Define nodes: these do the work\n",
    "builder.add_node(\"assistant\", assistant)\n",
    "builder.add_node(\"tools\", ToolNode(tools))\n",
    "\n",
    "# Define edges: these determine the control flow\n",
    "builder.add_edge(START, \"assistant\")\n",
    "builder.add_conditional_edges(\n",
    "    \"assistant\",\n",
    "    # If the latest message (result) from assistant is a tool call -> tools_condition routes to tools\n",
    "    # If the latest message (result) from assistant is a not a tool call -> tools_condition routes to END\n",
    "    tools_condition,\n",
    ")\n",
    "builder.add_edge(\"tools\", \"assistant\")\n",
    "\n",
    "memory = MemorySaver()\n",
    "graph = builder.compile(interrupt_before=[\"assistant\"], checkpointer=memory)\n",
    "\n",
    "# Show"
   ]
  },
  {
   "cell_type": "code",
   "execution_count": 42,
   "id": "1bdafef4-ba08-4f60-8db6-9289f3ce45fa",
   "metadata": {},
   "outputs": [
    {
     "name": "stdout",
     "output_type": "stream",
     "text": [
      "================================\u001b[1m Human Message \u001b[0m=================================\n",
      "\n",
      "Multiply 2 and 3\n"
     ]
    }
   ],
   "source": [
    "\n",
    "\n",
    "# Input\n",
    "initial_input = {\"messages\": \"Multiply 2 and 3\"}\n",
    "\n",
    "# Thread\n",
    "thread = {\"configurable\": {\"thread_id\": \"1\"}}\n",
    "\n",
    "# Run the graph until the first interruption\n",
    "for event in graph.stream(initial_input, thread, stream_mode=\"values\"):\n",
    "    event['messages'][-1].pretty_print()\n"
   ]
  },
  {
   "cell_type": "markdown",
   "id": "30a6f01a-2858-4e0e-a593-9315e2c8be55",
   "metadata": {},
   "source": [
    "We can see the graph is interrupted before the chat model responds."
   ]
  },
  {
   "cell_type": "code",
   "execution_count": 43,
   "id": "de4e2941-db5f-4f71-95c0-c3020133fb9c",
   "metadata": {},
   "outputs": [
    {
     "data": {
      "text/plain": [
       "StateSnapshot(values={'messages': [HumanMessage(content='Multiply 2 and 3', additional_kwargs={}, response_metadata={}, id='2691e13b-9d09-45b6-ba8c-74940f110145')]}, next=('assistant',), config={'configurable': {'thread_id': '1', 'checkpoint_ns': '', 'checkpoint_id': '1f026375-4b53-6da0-8000-66d9f890edf7'}}, metadata={'source': 'loop', 'writes': None, 'step': 0, 'parents': {}, 'thread_id': '1'}, created_at='2025-05-01T02:52:33.470589+00:00', parent_config={'configurable': {'thread_id': '1', 'checkpoint_ns': '', 'checkpoint_id': '1f026375-4b50-63f8-bfff-4b7c7cf135f8'}}, tasks=(PregelTask(id='bce23f4b-2574-fd1e-c7b3-be7922a2aedc', name='assistant', path=('__pregel_pull', 'assistant'), error=None, interrupts=(), state=None, result=None),))"
      ]
     },
     "execution_count": 43,
     "metadata": {},
     "output_type": "execute_result"
    }
   ],
   "source": [
    "state = graph.get_state(thread)\n",
    "state"
   ]
  },
  {
   "cell_type": "markdown",
   "id": "f231261b-69e2-45ef-8289-8dbf70afc166",
   "metadata": {},
   "source": [
    "Now, we can directly apply a state update.\n",
    "\n",
    "Remember, updates to the `messages` key will use the `add_messages` reducer:\n",
    "- if we want to over-write the exisiting message, we can supply the message `id`\n",
    "- if we simply want to append to our list of messages, we can pass a message without an `id`\n"
   ]
  },
  {
   "cell_type": "code",
   "execution_count": 44,
   "id": "59ecce58-80d9-4964-86f4-e6cd46ca6088",
   "metadata": {},
   "outputs": [
    {
     "data": {
      "text/plain": [
       "{'configurable': {'thread_id': '1',\n",
       "  'checkpoint_ns': '',\n",
       "  'checkpoint_id': '1f026375-8d37-6eb0-8001-7ce12d5a8ecd'}}"
      ]
     },
     "execution_count": 44,
     "metadata": {},
     "output_type": "execute_result"
    }
   ],
   "source": [
    "graph.update_state(\n",
    "    thread,\n",
    "    {\"messages\": [HumanMessage(content=\"No, actually multiply 3 and 3!\")]},\n",
    ")\n"
   ]
  },
  {
   "cell_type": "markdown",
   "id": "91247881-ecd2-4118-b79b-4e47cba47230",
   "metadata": {},
   "source": [
    "We called `update_state` with a new message. We called update_state with a new message."
   ]
  },
  {
   "cell_type": "code",
   "execution_count": 46,
   "id": "9a074b7f-4f49-4e5d-aa40-a1210b880433",
   "metadata": {},
   "outputs": [
    {
     "name": "stdout",
     "output_type": "stream",
     "text": [
      "================================\u001b[1m Human Message \u001b[0m=================================\n",
      "\n",
      "Multiply 2 and 3\n",
      "================================\u001b[1m Human Message \u001b[0m=================================\n",
      "\n",
      "No, actually multiply 3 and 3!\n"
     ]
    }
   ],
   "source": [
    "new_state = graph.get_state(thread).values\n",
    "for m in new_state['messages']:\n",
    "    m.pretty_print()\n"
   ]
  },
  {
   "cell_type": "markdown",
   "id": "40d3f727-9770-43a5-9271-ead0dd542879",
   "metadata": {},
   "source": [
    "Now, let's proceed by simply by passing `None` and allowing it proceed from the current state. We emit the current and then proceed to execute the remaining nodes.\n",
    "\n",
    "\n"
   ]
  },
  {
   "cell_type": "code",
   "execution_count": 47,
   "id": "e2e8a725-452c-422c-b6a8-3eeb1b299779",
   "metadata": {},
   "outputs": [
    {
     "name": "stdout",
     "output_type": "stream",
     "text": [
      "================================\u001b[1m Human Message \u001b[0m=================================\n",
      "\n",
      "No, actually multiply 3 and 3!\n",
      "==================================\u001b[1m Ai Message \u001b[0m==================================\n",
      "Tool Calls:\n",
      "  multiply (call_k3al3qQuuiJ8TojCBWPYhr1Z)\n",
      " Call ID: call_k3al3qQuuiJ8TojCBWPYhr1Z\n",
      "  Args:\n",
      "    a: 3\n",
      "    b: 3\n",
      "=================================\u001b[1m Tool Message \u001b[0m=================================\n",
      "Name: multiply\n",
      "\n",
      "9\n"
     ]
    }
   ],
   "source": [
    "for event in graph.stream(None, thread, stream_mode=\"values\"):\n",
    "    event['messages'][-1].pretty_print()"
   ]
  },
  {
   "cell_type": "code",
   "execution_count": 48,
   "id": "2b842ce8-d373-424c-ac03-c5bfd6af487e",
   "metadata": {},
   "outputs": [
    {
     "name": "stdout",
     "output_type": "stream",
     "text": [
      "=================================\u001b[1m Tool Message \u001b[0m=================================\n",
      "Name: multiply\n",
      "\n",
      "9\n",
      "==================================\u001b[1m Ai Message \u001b[0m==================================\n",
      "\n",
      "The result of multiplying 3 and 3 is 9.\n"
     ]
    }
   ],
   "source": [
    "for event in graph.stream(None, thread, stream_mode=\"values\"):\n",
    "    event['messages'][-1].pretty_print()"
   ]
  },
  {
   "cell_type": "markdown",
   "id": "6253fdc2-1e9d-4170-9c63-f2415ca47fd0",
   "metadata": {},
   "source": [
    "## Awaiting user input\n",
    "So, it's clear that we can edit our agent state after a breakpoint. Now, what if we want to allow for human feedback to perform this state update?\n",
    "- We'll add a node that serves as a placeholder for human feedback within our agent.\n",
    "- This `human_feedback` node allow the user to add feedback directly to state.''\n",
    "We specify the breakpoint using `interrupt_before` our `human_feedback` node.\n",
    "\n",
    "\n",
    "We set up a checkpointer to save the state of the graph up until this node."
   ]
  },
  {
   "cell_type": "code",
   "execution_count": 53,
   "id": "f553238a-f63f-4d57-8515-55d347c108e5",
   "metadata": {},
   "outputs": [
    {
     "data": {
      "image/png": "[encoded data removed]",
      "text/plain": [
       "<IPython.core.display.Image object>"
      ]
     },
     "metadata": {},
     "output_type": "display_data"
    }
   ],
   "source": [
    "# System message\n",
    "sys_msg = SystemMessage(content=\"You are a helpful assistant tasked with performing arithmetic on a set of inputs.\")\n",
    "\n",
    "# no-op node that should be interrupted on\n",
    "def human_feedback(state: MessagesState):\n",
    "    pass\n",
    "\n",
    "# Assistant node\n",
    "def assistant(state: MessagesState):\n",
    "   return {\"messages\": [llm_with_tools.invoke([sys_msg] + state[\"messages\"])]}\n",
    "\n",
    "# Graph\n",
    "builder = StateGraph(MessagesState)\n",
    "\n",
    "# Define nodes: these do the work\n",
    "builder.add_node(\"assistant\", assistant)\n",
    "builder.add_node(\"tools\", ToolNode(tools))\n",
    "builder.add_node(\"human_feedback\", human_feedback)\n",
    "\n",
    "# Define edges: these determine the control flow\n",
    "builder.add_edge(START, \"human_feedback\")\n",
    "builder.add_edge(\"human_feedback\", \"assistant\")\n",
    "builder.add_conditional_edges(\n",
    "    \"assistant\",\n",
    "    # If the latest message (result) from assistant is a tool call -> tools_condition routes to tools\n",
    "    # If the latest message (result) from assistant is a not a tool call -> tools_condition routes to END\n",
    "    tools_condition,\n",
    ")\n",
    "builder.add_edge(\"tools\", \"human_feedback\")\n",
    "\n",
    "memory = MemorySaver()\n",
    "graph = builder.compile(interrupt_before=[\"human_feedback\"], checkpointer=memory)\n",
    "display(Image(graph.get_graph().draw_mermaid_png()))"
   ]
  },
  {
   "cell_type": "markdown",
   "id": "98de4333-680d-45e6-9553-98883c040d6b",
   "metadata": {},
   "source": [
    "We use `.update_state` to update the state of the graph with the human response we get, as before.\n",
    "We use the `as_node=\"human_feedback\"` parameter to apply this state update as the specified node, `human_feedback`."
   ]
  },
  {
   "cell_type": "code",
   "execution_count": 56,
   "id": "6a883050-8f29-48c0-877e-5f3e371cb705",
   "metadata": {},
   "outputs": [
    {
     "name": "stdout",
     "output_type": "stream",
     "text": [
      "================================\u001b[1m Human Message \u001b[0m=================================\n",
      "\n",
      "Multiply 2 and 3\n"
     ]
    },
    {
     "name": "stdin",
     "output_type": "stream",
     "text": [
      "Tell me how you want to update the state:  no, multiply 3 and 3\n"
     ]
    },
    {
     "name": "stdout",
     "output_type": "stream",
     "text": [
      "================================\u001b[1m Human Message \u001b[0m=================================\n",
      "\n",
      "no, multiply 3 and 3\n",
      "==================================\u001b[1m Ai Message \u001b[0m==================================\n",
      "Tool Calls:\n",
      "  multiply (call_KJjRvNPTMkonPnP4C9chSXDq)\n",
      " Call ID: call_KJjRvNPTMkonPnP4C9chSXDq\n",
      "  Args:\n",
      "    a: 3\n",
      "    b: 3\n",
      "=================================\u001b[1m Tool Message \u001b[0m=================================\n",
      "Name: multiply\n",
      "\n",
      "9\n"
     ]
    }
   ],
   "source": [
    "# Input\n",
    "initial_input = {\"messages\": \"Multiply 2 and 3\"}\n",
    "\n",
    "\n",
    "# Thread\n",
    "thread = {\"configurable\": {\"thread_id\": \"5\"}}\n",
    "\n",
    "# Run the graph until the first interruption\n",
    "for event in graph.stream(initial_input, thread, stream_mode=\"values\"):\n",
    "    event[\"messages\"][-1].pretty_print()\n",
    "\n",
    "# Get user input\n",
    "user_input = input(\"Tell me how you want to update the state: \")\n",
    "\n",
    "# We now update the state as if we are the human_feedback node\n",
    "graph.update_state(thread, {\"messages\": user_input}, as_node=\"human_feedback\")\n",
    "\n",
    "\n",
    "# Continue the graph execution\n",
    "for event in graph.stream(None, thread, stream_mode=\"values\"):\n",
    "    event[\"messages\"][-1].pretty_print()"
   ]
  },
  {
   "cell_type": "code",
   "execution_count": 57,
   "id": "42d60c78-61b5-40f6-95ab-928ef7935ef7",
   "metadata": {},
   "outputs": [
    {
     "name": "stdout",
     "output_type": "stream",
     "text": [
      "=================================\u001b[1m Tool Message \u001b[0m=================================\n",
      "Name: multiply\n",
      "\n",
      "9\n",
      "==================================\u001b[1m Ai Message \u001b[0m==================================\n",
      "\n",
      "The result of multiplying 3 and 3 is 9. Would you like to perform any additional operations with this result?\n"
     ]
    }
   ],
   "source": [
    "# Continue the graph execution\n",
    "for event in graph.stream(None, thread, stream_mode=\"values\"):\n",
    "    event[\"messages\"][-1].pretty_print()"
   ]
  },
  {
   "cell_type": "markdown",
   "id": "eaab71e2-d18a-4af9-baa4-954541253c73",
   "metadata": {},
   "source": [
    "# Dynamic breakpoints\n",
    "Breakpoints are set by the developer on a specific node during graph compilation. But, sometimes it is helpful to allow the graph dynamically interrupt itself! This is an internal breakpoint, and can be achieved using `NodeInterrupt`.\n",
    "\n",
    "\n",
    "This has a few specific benefits:\n",
    "\n",
    "1. you can do it conditionally (from inside a node based on developer-defined logic).\n",
    "\n",
    "2. you can communicate to the user why its interrupted (by passing whatever you want to the NodeInterrupt).\n",
    "\n",
    "Let's create a graph where a NodeInterrupt is thrown based upon length of the input.\n"
   ]
  },
  {
   "cell_type": "markdown",
   "id": "5400219e-9724-4fab-8a7f-83db76f767aa",
   "metadata": {},
   "source": [
    "# Time travel\n",
    "Now, let's look at how LangGraph supports debugging by viewing, re-playing, and even forking from past states.\n",
    "This is called: `time travel`.\n"
   ]
  },
  {
   "cell_type": "code",
   "execution_count": 58,
   "id": "74c6d68e-4cb3-4269-86d4-21a35d5ead98",
   "metadata": {},
   "outputs": [
    {
     "data": {
      "image/png": "[encoded data removed]",
      "text/plain": [
       "<IPython.core.display.Image object>"
      ]
     },
     "metadata": {},
     "output_type": "display_data"
    }
   ],
   "source": [
    "# System message\n",
    "sys_msg = SystemMessage(content=\"You are a helpful assistant tasked with performing arithmetic on a set of inputs.\")\n",
    "\n",
    "# Node\n",
    "def assistant(state: MessagesState):\n",
    "   return {\"messages\": [llm_with_tools.invoke([sys_msg] + state[\"messages\"])]}\n",
    "\n",
    "# Graph\n",
    "builder = StateGraph(MessagesState)\n",
    "\n",
    "# Define nodes: these do the work\n",
    "builder.add_node(\"assistant\", assistant)\n",
    "builder.add_node(\"tools\", ToolNode(tools))\n",
    "\n",
    "# Define edges: these determine the control flow\n",
    "builder.add_edge(START, \"assistant\")\n",
    "builder.add_conditional_edges(\n",
    "    \"assistant\",\n",
    "    # If the latest message (result) from assistant is a tool call -> tools_condition routes to tools\n",
    "    # If the latest message (result) from assistant is a not a tool call -> tools_condition routes to END\n",
    "    tools_condition,\n",
    ")\n",
    "builder.add_edge(\"tools\", \"assistant\")\n",
    "\n",
    "memory = MemorySaver()\n",
    "graph = builder.compile(checkpointer=MemorySaver())\n",
    "\n",
    "# Show\n",
    "display(Image(graph.get_graph(xray=True).draw_mermaid_png()))\n"
   ]
  },
  {
   "cell_type": "code",
   "execution_count": 61,
   "id": "cd200e1f-19d9-4420-bda8-c8224edf4457",
   "metadata": {},
   "outputs": [
    {
     "name": "stdout",
     "output_type": "stream",
     "text": [
      "================================\u001b[1m Human Message \u001b[0m=================================\n",
      "\n",
      "Multiply 2 and 3\n",
      "==================================\u001b[1m Ai Message \u001b[0m==================================\n",
      "Tool Calls:\n",
      "  multiply (call_tPU9Cs2wm0wnsBTg2BV5Dm11)\n",
      " Call ID: call_tPU9Cs2wm0wnsBTg2BV5Dm11\n",
      "  Args:\n",
      "    a: 2\n",
      "    b: 3\n",
      "=================================\u001b[1m Tool Message \u001b[0m=================================\n",
      "Name: multiply\n",
      "\n",
      "6\n",
      "==================================\u001b[1m Ai Message \u001b[0m==================================\n",
      "\n",
      "The product of 2 and 3 is 6.\n"
     ]
    }
   ],
   "source": [
    "# Input\n",
    "initial_input = {\"messages\": HumanMessage(content=\"Multiply 2 and 3\")}\n",
    "\n",
    "# Thread\n",
    "thread = {\"configurable\": {\"thread_id\": \"7\"}}\n",
    "\n",
    "# Run the graph until the first interruption\n",
    "for event in graph.stream(initial_input, thread, stream_mode=\"values\"):\n",
    "    event['messages'][-1].pretty_print()"
   ]
  },
  {
   "cell_type": "code",
   "execution_count": null,
   "id": "d79126cb-afb6-4fe1-bae8-6cc4b74f7ccc",
   "metadata": {},
   "outputs": [],
   "source": []
  },
  {
   "cell_type": "code",
   "execution_count": null,
   "id": "035cfb0b-a57b-4085-aaf5-5de6ab4317f7",
   "metadata": {},
   "outputs": [],
   "source": []
  },
  {
   "cell_type": "markdown",
   "id": "b94fae3e-6fe9-4c3e-bda1-542367fa5ca8",
   "metadata": {},
   "source": [
    "\n",
    "#### Browsing History\n",
    "We can use `get_state` to look at the current state of our graph, given the `thread_id`!"
   ]
  },
  {
   "cell_type": "code",
   "execution_count": 63,
   "id": "ffdf17a9-b887-45f2-91d2-66722271a105",
   "metadata": {},
   "outputs": [
    {
     "data": {
      "text/plain": [
       "StateSnapshot(values={'messages': [HumanMessage(content='Multiply 2 and 3', additional_kwargs={}, response_metadata={}, id='1d86ed30-5c69-4cff-bf98-91d5f1caaf28'), AIMessage(content='', additional_kwargs={'tool_calls': [{'id': 'call_tPU9Cs2wm0wnsBTg2BV5Dm11', 'function': {'arguments': '{\"a\": 2, \"b\": 3}', 'name': 'multiply'}, 'type': 'function'}], 'refusal': None}, response_metadata={'token_usage': {'completion_tokens': 34, 'prompt_tokens': 134, 'total_tokens': 168, 'completion_tokens_details': {'accepted_prediction_tokens': 0, 'audio_tokens': 0, 'reasoning_tokens': 0, 'rejected_prediction_tokens': 0}, 'prompt_tokens_details': {'audio_tokens': 0, 'cached_tokens': 0}}, 'model_name': 'o3-mini-2025-01-31', 'system_fingerprint': 'fp_ded0d14823', 'id': 'chatcmpl-BSF7ykPWZWub6S5CxJlDmaPtZFx84', 'prompt_filter_results': [{'prompt_index': 0, 'content_filter_results': {'hate': {'filtered': False, 'severity': 'safe'}, 'jailbreak': {'filtered': False, 'detected': False}, 'self_harm': {'filtered': False, 'severity': 'safe'}, 'sexual': {'filtered': False, 'severity': 'safe'}, 'violence': {'filtered': False, 'severity': 'safe'}}}], 'finish_reason': 'tool_calls', 'logprobs': None, 'content_filter_results': {}}, id='run-a687a8e3-ee88-4632-a3d1-90cc06889451-0', tool_calls=[{'name': 'multiply', 'args': {'a': 2, 'b': 3}, 'id': 'call_tPU9Cs2wm0wnsBTg2BV5Dm11', 'type': 'tool_call'}], usage_metadata={'input_tokens': 134, 'output_tokens': 34, 'total_tokens': 168, 'input_token_details': {'audio': 0, 'cache_read': 0}, 'output_token_details': {'audio': 0, 'reasoning': 0}}), ToolMessage(content='6', name='multiply', id='9ad70d69-8a70-433c-b1ef-1f740029d7eb', tool_call_id='call_tPU9Cs2wm0wnsBTg2BV5Dm11'), AIMessage(content='The product of 2 and 3 is 6.', additional_kwargs={'refusal': None}, response_metadata={'token_usage': {'completion_tokens': 24, 'prompt_tokens': 159, 'total_tokens': 183, 'completion_tokens_details': {'accepted_prediction_tokens': 0, 'audio_tokens': 0, 'reasoning_tokens': 0, 'rejected_prediction_tokens': 0}, 'prompt_tokens_details': {'audio_tokens': 0, 'cached_tokens': 0}}, 'model_name': 'o3-mini-2025-01-31', 'system_fingerprint': 'fp_ded0d14823', 'id': 'chatcmpl-BSF7zrSuL4BCpmpF6d4BHb7LvNwgF', 'prompt_filter_results': [{'prompt_index': 0, 'content_filter_results': {'hate': {'filtered': False, 'severity': 'safe'}, 'jailbreak': {'filtered': False, 'detected': False}, 'self_harm': {'filtered': False, 'severity': 'safe'}, 'sexual': {'filtered': False, 'severity': 'safe'}, 'violence': {'filtered': False, 'severity': 'safe'}}}], 'finish_reason': 'stop', 'logprobs': None, 'content_filter_results': {'hate': {'filtered': False, 'severity': 'safe'}, 'protected_material_code': {'filtered': False, 'detected': False}, 'protected_material_text': {'filtered': False, 'detected': False}, 'self_harm': {'filtered': False, 'severity': 'safe'}, 'sexual': {'filtered': False, 'severity': 'safe'}, 'violence': {'filtered': False, 'severity': 'safe'}}}, id='run-d121cae9-9ce2-4278-84fd-a738347ce860-0', usage_metadata={'input_tokens': 159, 'output_tokens': 24, 'total_tokens': 183, 'input_token_details': {'audio': 0, 'cache_read': 0}, 'output_token_details': {'audio': 0, 'reasoning': 0}})]}, next=(), config={'configurable': {'thread_id': '7', 'checkpoint_ns': '', 'checkpoint_id': '1f0263e8-28ed-67c0-8003-dcd425dd3ce3'}}, metadata={'source': 'loop', 'writes': {'assistant': {'messages': [AIMessage(content='The product of 2 and 3 is 6.', additional_kwargs={'refusal': None}, response_metadata={'token_usage': {'completion_tokens': 24, 'prompt_tokens': 159, 'total_tokens': 183, 'completion_tokens_details': {'accepted_prediction_tokens': 0, 'audio_tokens': 0, 'reasoning_tokens': 0, 'rejected_prediction_tokens': 0}, 'prompt_tokens_details': {'audio_tokens': 0, 'cached_tokens': 0}}, 'model_name': 'o3-mini-2025-01-31', 'system_fingerprint': 'fp_ded0d14823', 'id': 'chatcmpl-BSF7zrSuL4BCpmpF6d4BHb7LvNwgF', 'prompt_filter_results': [{'prompt_index': 0, 'content_filter_results': {'hate': {'filtered': False, 'severity': 'safe'}, 'jailbreak': {'filtered': False, 'detected': False}, 'self_harm': {'filtered': False, 'severity': 'safe'}, 'sexual': {'filtered': False, 'severity': 'safe'}, 'violence': {'filtered': False, 'severity': 'safe'}}}], 'finish_reason': 'stop', 'logprobs': None, 'content_filter_results': {'hate': {'filtered': False, 'severity': 'safe'}, 'protected_material_code': {'filtered': False, 'detected': False}, 'protected_material_text': {'filtered': False, 'detected': False}, 'self_harm': {'filtered': False, 'severity': 'safe'}, 'sexual': {'filtered': False, 'severity': 'safe'}, 'violence': {'filtered': False, 'severity': 'safe'}}}, id='run-d121cae9-9ce2-4278-84fd-a738347ce860-0', usage_metadata={'input_tokens': 159, 'output_tokens': 24, 'total_tokens': 183, 'input_token_details': {'audio': 0, 'cache_read': 0}, 'output_token_details': {'audio': 0, 'reasoning': 0}})]}}, 'step': 3, 'parents': {}, 'thread_id': '7'}, created_at='2025-05-01T03:43:56.871228+00:00', parent_config={'configurable': {'thread_id': '7', 'checkpoint_ns': '', 'checkpoint_id': '1f0263e8-1cba-6b56-8002-06ce5e7729e3'}}, tasks=())"
      ]
     },
     "execution_count": 63,
     "metadata": {},
     "output_type": "execute_result"
    }
   ],
   "source": [
    "graph.get_state({'configurable': {'thread_id': '7'}})"
   ]
  },
  {
   "cell_type": "markdown",
   "id": "8e680c38-9018-437e-a963-7d8ba7e935f6",
   "metadata": {},
   "source": [
    "We can also browse the state history of our graph. `get_state_history` lets us get the state at all prior steps."
   ]
  },
  {
   "cell_type": "code",
   "execution_count": 65,
   "id": "368f7fbf-627c-441d-bbae-28b9f94fa039",
   "metadata": {},
   "outputs": [],
   "source": [
    "all_states = [s for s in graph.get_state_history(thread)]"
   ]
  },
  {
   "cell_type": "code",
   "execution_count": 66,
   "id": "04e7e2a9-2a64-4e1e-95df-9344c40aceac",
   "metadata": {},
   "outputs": [
    {
     "data": {
      "text/plain": [
       "5"
      ]
     },
     "execution_count": 66,
     "metadata": {},
     "output_type": "execute_result"
    }
   ],
   "source": [
    "len(all_states)"
   ]
  }
 ],
 "metadata": {
  "kernelspec": {
   "display_name": "Python 3 (ipykernel)",
   "language": "python",
   "name": "python3"
  },
  "language_info": {
   "codemirror_mode": {
    "name": "ipython",
    "version": 3
   },
   "file_extension": ".py",
   "mimetype": "text/x-python",
   "name": "python",
   "nbconvert_exporter": "python",
   "pygments_lexer": "ipython3",
   "version": "3.13.1"
  }
 },
 "nbformat": 4,
 "nbformat_minor": 5
}
