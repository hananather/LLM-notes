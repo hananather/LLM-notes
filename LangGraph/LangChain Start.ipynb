{
 "cells": [
  {
   "cell_type": "code",
   "execution_count": 1,
   "id": "d47b7855-7134-4c49-8f88-8f36aaba9037",
   "metadata": {},
   "outputs": [],
   "source": [
    "import os\n",
    "from langchain_openai import AzureChatOpenAI\n",
    "from langgraph.graph import StateGraph, END\n",
    "\n",
    "\n",
    "llm = AzureChatOpenAI(\n",
    "    azure_deployment= os.environ[\"AZURE_OPENAI_DEPLOYMENT\"],\n",
    "    api_version= os.environ[\"AZURE_OPENAI_API_VERSION\"],\n",
    ")"
   ]
  },
  {
   "cell_type": "markdown",
   "id": "79760281",
   "metadata": {},
   "source": [
    "**State:**\n",
    "The first thing you do when you define a graph is define the `State` of the graph. The `State` schema servers as the input schema for all Nodes and Edges in the graph. This example users a simple dictionary structure with a single key `graph_state` of type str. \n",
    "\n",
    "**Nodes**:\n",
    "Nodes are just Python functions. The first positional argument is the state as defined above. \n",
    "Each node operates on the state. By default, each node will also override the prior state value.\n"
   ]
  },
  {
   "cell_type": "code",
   "execution_count": null,
   "id": "9800a36a",
   "metadata": {},
   "outputs": [],
   "source": []
  },
  {
   "cell_type": "code",
   "execution_count": 5,
   "id": "6f969f9d",
   "metadata": {},
   "outputs": [],
   "source": [
    "from typing import TypedDict, Literal\n",
    "\n",
    "class State(TypedDict):\n",
    "    graph_state: str\n",
    "\n",
    "def node_1(state):\n",
    "    return {\"graph_state\": state[\"graph_state\"] + \"I am\"}\n",
    "\n",
    "def node_2(state):\n",
    "    return {\"graph_state\": state[\"graph_state\"] + \"Happy\"}\n",
    "\n",
    "def node_3(state):\n",
    "    return {\"graph_state\": state[\"graph_state\"] + \"Sad\"}\n",
    "\n",
    "def decide_mood(state) -> Literal[\"node_2\", \"node_3\"]:\n",
    "    # often we will use the state to decide on the next node to visit\n",
    "    user_input = state['graph_state']\n",
    "    # this function just returns of nodes\n",
    "    pass "
   ]
  },
  {
   "cell_type": "code",
   "execution_count": 8,
   "id": "abc8247d",
   "metadata": {},
   "outputs": [
    {
     "data": {
      "image/png": "[encoded data removed]",
      "text/plain": [
       "<IPython.core.display.Image object>"
      ]
     },
     "metadata": {},
     "output_type": "display_data"
    }
   ],
   "source": [
    "from IPython.display import Image, display\n",
    "from langgraph.graph import StateGraph, START, END\n",
    "\n",
    "# Build  graph\n",
    "builder = StateGraph(State)\n",
    "builder.add_node(\"node_1\", node_1)\n",
    "builder.add_node(\"node_2\", node_2)\n",
    "builder.add_node(\"node_3\", node_3)\n",
    "\n",
    "# Logic \n",
    "builder.add_edge(START, \"node_1\")\n",
    "builder.add_conditional_edges(\"node_1\", decide_mood)\n",
    "builder.add_edge(\"node_2\", END)\n",
    "builder.add_edge(\"node_3\", END)\n",
    "\n",
    "# Add\n",
    "graph = builder.compile()\n",
    "\n",
    "\n",
    "display(Image(graph.get_graph().draw_mermaid_png()))"
   ]
  },
  {
   "cell_type": "markdown",
   "id": "ea35cba8-35ff-4860-bc4b-b59d74d0cfa4",
   "metadata": {},
   "source": [
    "`Annotated` lets you attach extra metadata to a type without changing the base type. In this case:\n",
    "- Base type: `list`\n",
    "- Metadata: `add_messages` (a function that defines how this field should be updated)\n",
    "\n",
    "LangGraph uses this to know **how to merge or update this state key** during execution.\n",
    "\n",
    "\n",
    "`TypedDict` defines a dictionry where each key has a known type."
   ]
  },
  {
   "cell_type": "code",
   "execution_count": 9,
   "id": "b8e11431-c5d3-430f-bd23-5823582d5854",
   "metadata": {},
   "outputs": [],
   "source": [
    "from typing import Annotated\n",
    "from typing_extensions import TypedDict\n",
    "from langgraph.graph import StateGraph, START, END\n",
    "from langgraph.graph.message import add_messages\n",
    "\n",
    "class State(TypedDict):\n",
    "    messages: Annotated[list, add_messages]\n",
    "\n",
    "\n",
    "graph_builder = StateGraph(State)"
   ]
  },
  {
   "cell_type": "markdown",
   "id": "2f94cbdd-5797-4270-a1f5-6359db66790d",
   "metadata": {},
   "source": [
    "- `State`: A shared data structure that represents the current snapshot of our application. It can be any Python type but its typically a `TyepDict` or Pydantic `BaseModel`\n",
    "- `Nodes`: Python functions can encode the logic of our agents. They receive the current `State` as an input, perform some computation and return an updated `State`\n",
    "- `Edges`: Python functions that determine `Node` to execute next based on the current `State`. They can be conditional branches or fixed transitions.\n",
    "\n",
    "\n",
    "The real power comes from how LangGraph manges `State`. To emphasize: `Nodes` and `Edges` are nothing more than Python functions. \n",
    "\n",
    "In short: nodes do the work and edges tell what to do next."
   ]
  },
  {
   "cell_type": "code",
   "execution_count": 10,
   "id": "3f0bcb8c-e6d2-4adc-ad60-b31210085894",
   "metadata": {},
   "outputs": [
    {
     "data": {
      "text/plain": [
       "<langgraph.graph.state.StateGraph at 0x11f6929e0>"
      ]
     },
     "execution_count": 10,
     "metadata": {},
     "output_type": "execute_result"
    }
   ],
   "source": [
    "def chatbot(state: State):\n",
    "    return {\"messages\": [llm.invoke(state[\"messages\"])]}\n",
    "\n",
    "\n",
    "# The first argument is the unique node name\n",
    "# The second argument is the function or object that will be called whenever\n",
    "# the node is used.\n",
    "graph_builder.add_node(\"chatbot\", chatbot)"
   ]
  },
  {
   "cell_type": "markdown",
   "id": "950f78bb-4447-46f4-be9a-ad3a372ae0df",
   "metadata": {},
   "source": [
    "Notice how the `chatbot` node function takes the current `State` as input and returns a dictionary containing an updated `messages` list under the key 'messages'"
   ]
  },
  {
   "cell_type": "code",
   "execution_count": 11,
   "id": "2556fab9-7bf3-4d08-b70c-63786fc75129",
   "metadata": {},
   "outputs": [],
   "source": [
    "graph_builder.add_edge(START, \"chatbot\")\n",
    "graph_builder.add_edge(\"chatbot\", END)\n",
    "graph = graph_builder.compile()"
   ]
  },
  {
   "cell_type": "code",
   "execution_count": 12,
   "id": "fc1888d6-95de-424b-96cf-a0b231498998",
   "metadata": {},
   "outputs": [
    {
     "data": {
      "image/png": "[encoded data removed]",
      "text/plain": [
       "<IPython.core.display.Image object>"
      ]
     },
     "metadata": {},
     "output_type": "display_data"
    }
   ],
   "source": [
    "from IPython.display import Image, display\n",
    "\n",
    "try:\n",
    "    display(Image(graph.get_graph().draw_mermaid_png()))\n",
    "except Exception:\n",
    "    # This requires some extra dependencies and is optional\n",
    "    pass"
   ]
  },
  {
   "cell_type": "code",
   "execution_count": 15,
   "id": "3c60c63b-5936-4602-bae1-861163358864",
   "metadata": {},
   "outputs": [
    {
     "name": "stdout",
     "output_type": "stream",
     "text": [
      "User:  I'm really new to lang graph tbh, can you help me develop a better understanding it?\n"
     ]
    },
    {
     "name": "stdout",
     "output_type": "stream",
     "text": [
      "Assistant: It sounds like you might be referring to a tool or framework that uses a graph‐oriented approach to building language model applications (sometimes called “LangGraph”). (If you’re referring to a different “lang graph,” let me know!) Assuming that you mean something like the emerging libraries that let you build pipelines or workflows for language model operations via nodes and edges, here’s an overview to help you get started.\n",
      "\n",
      "1. What Is a LangGraph?\n",
      " • The basic idea is to represent your application’s logic as a graph where each node is a distinct “operation” or “step” (for example, a prompt to a language model, a data transformation, or a decision point), and the edges indicate how data flows from one step to the next.\n",
      " • This approach lends itself to a visual, modular, and easily debuggable design. Instead of one long chain of function calls, you get a “map” of how input moves through multiple processing steps.\n",
      "\n",
      "2. Why Use a Graph-Based Approach for Language Models?\n",
      " • Visualization and Debugging: When your application logic is laid out as a graph, you can quickly see how components are connected. This helps in isolating problems or understanding how data is transformed.\n",
      " • Modularity: Each node represents a self-contained task (like generating text with a prompt, filtering outputs, or combining results), which makes it easier to modify or reuse parts of your pipeline.\n",
      " • Flexibility: Graphs allow for branching (different paths depending on conditions) and merging (combining results from several nodes), which is especially useful if your LLM-based application has multiple steps or interactive processes.\n",
      "\n",
      "3. How Does LangGraph Relate to Other Tools (Like LangChain)?\n",
      " • While LangChain focuses on creating “chains” of calls to language models (and is itself a popular framework), LangGraph extends some of those ideas by putting emphasis on graph structures. Think of it as a way to generalize the chain concept so that you can have multiple entry points, branches, and merges.\n",
      " • Some emerging libraries or projects might integrate with or build on top of tools like LangChain, but the graph structure gives you more freedom to design complex workflows.\n",
      "\n",
      "4. Practical Example\n",
      "Imagine you’re building a chatbot that:\n",
      " • Receives user input.\n",
      " • Uses one node to determine the intent.\n",
      " • Depending on the intent, routes the conversation to different nodes (e.g., one node for generating a factual response, another for humor, and yet another for asking follow-up questions).\n",
      " • Combines information from various nodes to generate the final output.\n",
      "\n",
      "In a LangGraph-based system, each of these steps is a node, and the edges define which node’s output is passed on to which other node. You not only define the operations, but you also get a visual or programmatic “map” of how data flows through your app.\n",
      "\n",
      "5. How to Get Started\n",
      " • Installation: Many of these systems are Python based. You might install the library via pip (for example, pip install langgraph) if it’s available.\n",
      " • Tutorials and Documentation: Look for getting-started guides on the repository or website. They often provide sample graphs, code snippets, and best practices.\n",
      " • Experimentation: Start by building a simple graph—for example, a two- or three-node flow (like receiving input → generating a simple reply) and gradually add more nodes as you get comfortable with the concepts.\n",
      "\n",
      "6. When to Use a LangGraph Approach\n",
      " • Complex Interactions: If your language application needs to handle multiple parallel tasks, conditional logic, or feedback loops.\n",
      " • Collaborative Development: Visual representations can help teams understand and contribute to the design, especially when the logic isn’t just a linear flow.\n",
      " • Debugging: When unexpected outputs occur, visually locating the “node” where data isn’t being handled as expected can be much simpler than tracking down a bug in a monolithic block of code.\n",
      "\n",
      "Final Thoughts\n",
      "\n",
      "LangGraph (or similar graph-based frameworks) is an exciting way to build language model applications. By breaking down your process into nodes and edges, you gain clarity, flexibility, and maintainability. I recommend checking the official documentation or GitHub repository (if available) for the specific tool you’re using—there might be tutorials, examples, and community guidelines.\n",
      "\n",
      "Does this high-level overview make sense? Are there particular aspects you’d like to dive into further (such as setting up a project, designing a specific type of graph, or comparing it to other frameworks)? Let me know how I can help!\n"
     ]
    },
    {
     "name": "stdout",
     "output_type": "stream",
     "text": [
      "User:  quit\n"
     ]
    },
    {
     "name": "stdout",
     "output_type": "stream",
     "text": [
      "Goodbye!\n"
     ]
    }
   ],
   "source": [
    "def stream_graph_updates(user_input: str):\n",
    "    for event in graph.stream({\"messages\": [{\"role\": \"user\", \"content\": user_input}]}):\n",
    "        for value in event.values():\n",
    "            print(\"Assistant:\", value[\"messages\"][-1].content)\n",
    "\n",
    "\n",
    "while True:\n",
    "    try:\n",
    "        user_input = input(\"User: \")\n",
    "        if user_input.lower() in [\"quit\", \"exit\", \"q\"]:\n",
    "            print(\"Goodbye!\")\n",
    "            break\n",
    "        stream_graph_updates(user_input)\n",
    "    except:\n",
    "        # fallback if input() is not available\n",
    "        user_input = \"What do you know about LangGraph?\"\n",
    "        print(\"User: \" + user_input)\n",
    "        stream_graph_updates(user_input)\n",
    "        break"
   ]
  },
  {
   "cell_type": "code",
   "execution_count": null,
   "id": "bf6cb27d-42ec-419c-90d2-b7199dadf1c8",
   "metadata": {},
   "outputs": [],
   "source": []
  }
 ],
 "metadata": {
  "kernelspec": {
   "display_name": "Python 3 (ipykernel)",
   "language": "python",
   "name": "python3"
  },
  "language_info": {
   "codemirror_mode": {
    "name": "ipython",
    "version": 3
   },
   "file_extension": ".py",
   "mimetype": "text/x-python",
   "name": "python",
   "nbconvert_exporter": "python",
   "pygments_lexer": "ipython3",
   "version": "3.13.1"
  }
 },
 "nbformat": 4,
 "nbformat_minor": 5
}
