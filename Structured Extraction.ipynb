<<<<<<< HEAD
{
 "cells": [
  {
   "cell_type": "markdown",
   "id": "a7c90463-feb6-4363-865f-b9e4f5a2bac3",
   "metadata": {},
   "source": [
    "## Structured Extraction\n",
    "\n",
    "**Structured extraction** is a process that transforms **unstructured text** into a **structured format**, such as JSON, making it easily accessible for further processing, analysis, or storage. \n",
    "\n",
    "\n",
    "To get the intution, lets implement a natural langugage processing parser that allows us to create structured tabular data from unstructued data. We can accomplish this by: \n",
    "1. Feed unstructured text into an LLM\n",
    "2. Receive structured JSON output\n",
    "3. Process the JSON into desired formats (e.g., dataframes)\n",
    "\n",
    "With the rise of LLMs, this task can now be accomplished efficiently and affordably, enabling enterprises to unlock valuable insights from large volumes of unstructured data, including PDFs, text files, and scanned documents."
   ]
  },
  {
   "cell_type": "code",
   "execution_count": 2,
   "id": "c53373b4-78fa-4089-9ce9-ece77f4aa8fe",
   "metadata": {},
   "outputs": [],
   "source": [
    "prompt = \"\"\"\n",
    "You are a data parsing assistant. \n",
    "User provides unstructued data containing addresses. \n",
    "Your goal is to output it as JSON.\n",
    "\"\"\"\n",
    "data =  \"\"\"\n",
    "The Ottawa Public Library is at 150 Elgin Street, Ottawa.\n",
    "Down the street, Sarah Wilson runs her bakery at 240 Laurier Avenue, Ottawa.\n",
    "Over in Kanata, Tech Corp's office is at 1385 Terry Fox Drive.\n",
    "\"\"\""
   ]
  },
  {
   "cell_type": "code",
   "execution_count": 3,
   "id": "9752380a-19c3-4989-abdf-00b8e5208610",
   "metadata": {},
   "outputs": [
    {
     "name": "stdout",
     "output_type": "stream",
     "text": [
      "```json\n",
      "[\n",
      "    {\n",
      "        \"name\": \"Ottawa Public Library\",\n",
      "        \"address\": \"150 Elgin Street\",\n",
      "        \"city\": \"Ottawa\"\n",
      "    },\n",
      "    {\n",
      "        \"name\": \"Sarah Wilson's Bakery\",\n",
      "        \"address\": \"240 Laurier Avenue\",\n",
      "        \"city\": \"Ottawa\"\n",
      "    },\n",
      "    {\n",
      "        \"name\": \"Tech Corp's office\",\n",
      "        \"address\": \"1385 Terry Fox Drive\",\n",
      "        \"city\": \"Kanata\"\n",
      "    }\n",
      "]\n",
      "```\n"
     ]
    }
   ],
   "source": [
    "import os\n",
    "from openai import OpenAI\n",
    "from openai.types.chat import ChatCompletion  \n",
    "\n",
    "\n",
    "def eval(prompt: str, message: str, model: str = \"gpt-4o\") -> ChatCompletion:\n",
    "    client = OpenAI(api_key=os.environ[\"OPENAI_API_KEY\"])\n",
    "    messages = [\n",
    "        {\"role\": \"system\", \"content\": prompt},\n",
    "        {\"role\": \"user\", \"content\": message},\n",
    "    ]\n",
    "\n",
    "    return client.chat.completions.create(\n",
    "        model=model,\n",
    "        messages=messages\n",
    "    )\n",
    "\n",
    "\n",
    "\n",
    "res = eval(prompt=prompt, message=data)\n",
    "json_data = res.choices[0].message.content\n",
    "\n",
    "print(json_data)"
   ]
  },
  {
   "cell_type": "markdown",
   "id": "071ae70c-42b5-44b1-a24c-486567fdd6ec",
   "metadata": {},
   "source": [
    "We can see that the model didn't return JSON, it returned markdown formated string containing JSON. The reason is that we didn't enable structured output in the API call."
   ]
  },
  {
   "cell_type": "code",
   "execution_count": 4,
   "id": "edcd677a-69b4-4182-beed-bdbecf0a9549",
   "metadata": {},
   "outputs": [
    {
     "name": "stdout",
     "output_type": "stream",
     "text": [
      "{\n",
      "  \"addresses\": [\n",
      "    {\n",
      "      \"name\": \"Ottawa Public Library\",\n",
      "      \"address\": \"150 Elgin Street\",\n",
      "      \"city\": \"Ottawa\"\n",
      "    },\n",
      "    {\n",
      "      \"name\": \"Sarah Wilson's Bakery\",\n",
      "      \"address\": \"240 Laurier Avenue\",\n",
      "      \"city\": \"Ottawa\"\n",
      "    },\n",
      "    {\n",
      "      \"name\": \"Tech Corp\",\n",
      "      \"address\": \"1385 Terry Fox Drive\",\n",
      "      \"city\": \"Kanata\"\n",
      "    }\n",
      "  ]\n",
      "}\n"
     ]
    }
   ],
   "source": [
    "def eval(prompt: str, message: str, model: str = \"gpt-4o\") -> ChatCompletion:\n",
    "    client = OpenAI(api_key=os.environ[\"OPENAI_API_KEY\"])\n",
    "    messages = [\n",
    "        {\"role\": \"system\", \"content\": prompt},\n",
    "        {\"role\": \"user\", \"content\": message},\n",
    "    ]\n",
    "\n",
    "    return client.chat.completions.create(\n",
    "        model=model,\n",
    "        messages=messages,\n",
    "        # Enable strctured output\n",
    "        response_format={\"type\": \"json_object\"},\n",
    "    )\n",
    "prompt = \"\"\"\n",
    "You are a data parsing assistant. \n",
    "User provides unstructued data containing addresses. \n",
    "Your goal is to output it as JSON.\n",
    "\"\"\"\n",
    "data =  \"\"\"\n",
    "The Ottawa Public Library is at 150 Elgin Street, Ottawa.\n",
    "Down the street, Sarah Wilson runs her bakery at 240 Laurier Avenue, Ottawa.\n",
    "Over in Kanata, Tech Corp's office is at 1385 Terry Fox Drive.\n",
    "\"\"\"\n",
    "\n",
    "\n",
    "res = eval(prompt=prompt, message=data)\n",
    "json_data = res.choices[0].message.content\n",
    "\n",
    "print(json_data)"
   ]
  },
  {
   "cell_type": "markdown",
   "id": "788e3e20-1d61-43ca-ae94-c11f72668423",
   "metadata": {},
   "source": [
    "Now, running the same code returns plain JSON. This is not only great because we don't need to parse anything extra but, but it also guarantees that the LLM won't include any free-from text such as \"Sure, here is your data!{}\"\n",
    "\n",
    "\n",
    "**The problem is, we don't have the data shaped defined; lets call it *schema*. Our schema is now up to the LLM, and it might change based on user input**. Lets reformat the data to see it in action. "
   ]
  },
  {
   "cell_type": "code",
   "execution_count": 5,
   "id": "e6be852a-6681-4c3e-af33-c7f4cdd0e6a8",
   "metadata": {},
   "outputs": [
    {
     "name": "stdout",
     "output_type": "stream",
     "text": [
      "{\n",
      "    \"results\": [\n",
      "        {\n",
      "            \"name\": \"Ottawa Public Library\",\n",
      "            \"branch\": \"Main Branch\",\n",
      "            \"address\": {\n",
      "                \"street\": \"150 Elgin Street\",\n",
      "                \"city\": \"Ottawa\",\n",
      "                \"postal_code\": \"K1P 1L7\"\n",
      "            },\n",
      "            \"contact\": {\n",
      "                \"email\": \"library@ottawa.ca\",\n",
      "                \"website\": \"https://biblioottawalibrary.ca\"\n",
      "            },\n",
      "            \"status\": \"Open Now\"\n",
      "        },\n",
      "        {\n",
      "            \"name\": \"Sarah's Bakery & Café\",\n",
      "            \"address\": {\n",
      "                \"line_1\": \"240 Laurier Avenue\",\n",
      "                \"city\": \"Ottawa\",\n",
      "                \"postal_code\": \"K1P 5J7\"\n",
      "            },\n",
      "            \"contact\": {\n",
      "                \"email\": \"sarah@sarahsbakery.ca\",\n",
      "                \"website\": \"www.sarahsbakery.ca\"\n",
      "            },\n",
      "            \"rating\": \"4.8\"\n",
      "        },\n",
      "        {\n",
      "            \"name\": \"TECH CORP GLOBAL\",\n",
      "            \"address\": {\n",
      "                \"street\": \"1385 Terry Fox Drive\",\n",
      "                \"city\": \"Kanata\",\n",
      "                \"province\": \"Ontario\",\n",
      "                \"postal_code\": \"K2K 3K2\"\n",
      "            },\n",
      "            \"contact\": {\n",
      "                \"email\": \"info@techcorp.com\",\n",
      "                \"website\": \"www.techcorp.com/contact\"\n",
      "            }\n",
      "        }\n",
      "    ]\n",
      "}\n"
     ]
    }
   ],
   "source": [
    "# Messy web-scraped format with typical HTML artifacts and inconsistent formatting\n",
    "data_2 = \"\"\"\n",
    "[Search Results]\n",
    "* Ottawa Public Library *\n",
    "Contact Us > Main Branch\n",
    "Located at: &nbsp;150 Elgin Street, Ottawa\n",
    "Status: OPEN NOW! 📚\n",
    "Customer Service: library@ottawa.ca\n",
    "Visit us online: https://biblioottawalibrary.ca\n",
    "Postal: K1P 1L7\n",
    "---------------------\n",
    "<div class=\"business-listing\">\n",
    "Sarah's Bakery & Café [⭐️4.8]\n",
    "Address line 1: 240 \n",
    "Address line 2: Laurier Avenue\n",
    "City: Ottawa\n",
    "Postal Code: K1P 5J7\n",
    "Contact: sarah@sarahsbakery.ca\n",
    "www.sarahsbakery.ca\n",
    "</div>\n",
    "...Read More...\n",
    "---------------------\n",
    "TECH CORP GLOBAL\n",
    "www.techcorp.com/contact\n",
    "📍 1385 Terry Fox Drive\n",
    "Kanata, Ontario\n",
    "[Click to view map]\n",
    "Email: info@techcorp.com\n",
    "Postal: K2K 3K2\n",
    "\"\"\"\n",
    "\n",
    "res = eval(prompt=prompt, message=data_2)\n",
    "json_data = res.choices[0].message.content\n",
    "\n",
    "print(json_data)"
   ]
  },
  {
   "cell_type": "markdown",
   "id": "86e17bb8-4c79-473c-adc7-0ea90d4ebf74",
   "metadata": {},
   "source": [
    "## Enforcing a Strict Schema (Pydantic Example)\n",
    "Usually, JSON ouput won't cut it in software systems. Its just a string after all. We have to ensure that the LLM indeed returns correctly formed data. \n",
    "\n",
    "To robustly handle data after extracting it, you often need a well-defined schema. Tools like pydantic are excellent for validating that the JSON from the LLM matches the expected structure.\n",
    "  - **BaseModel**: Pydantic's base class that enables data validation\n",
    "   - **Optional**: From Python's typing module, marks fields that aren't required\n",
    "   - **EmailStr**: Pydantic's email validator, ensures valid email format\n",
    "   - **HttpUrl**: Pydantic's URL validator, ensures valid website format\n",
    "   \n",
    "   This model will:\n",
    "   1. Ensure required fields (name, street info, city) are present\n",
    "   2. Allow optional fields to be missing\n",
    "   3. Validate email format if provided\n",
    "   4. Validate URL format if provided"
   ]
  },
  {
   "cell_type": "code",
   "execution_count": 8,
   "id": "0e9548ee-51dc-4501-ab20-77df9284ba7d",
   "metadata": {},
   "outputs": [],
   "source": [
    "from pydantic import BaseModel, EmailStr, HttpUrl\n",
    "from typing import Optional\n",
    "\n",
    "class BusinessLocation(BaseModel):\n",
    "    name: str\n",
    "    street_number: str\n",
    "    street_name: str\n",
    "    city: str\n",
    "    postal_code: Optional[str] = None\n",
    "    email: Optional[EmailStr] = None\n",
    "    website: Optional[HttpUrl] = None"
   ]
  },
  {
   "cell_type": "code",
   "execution_count": 6,
   "id": "56e5ab8b-49d4-4a29-a459-0026b69c30b1",
   "metadata": {},
   "outputs": [],
   "source": [
    "def eval(prompt: str, message: str, model: str = \"gpt-4o\", model) -> ChatCompletion:\n",
    "    client = OpenAI(api_key=os.environ[\"OPENAI_API_KEY\"])\n",
    "    messages = [\n",
    "        {\"role\": \"system\", \"content\": prompt},\n",
    "        {\"role\": \"user\", \"content\": message},\n",
    "    ]\n",
    "\n",
    "    return client.chat.completions.create(\n",
    "        model=model,\n",
    "        messages=messages,\n",
    "        # Enable strctured output\n",
    "        response_format=model,\n",
    "    )"
   ]
  },
  {
   "cell_type": "code",
   "execution_count": null,
   "id": "ac5eaa2e-f050-4852-9c51-329520cdda49",
   "metadata": {},
   "outputs": [],
   "source": [
    "res = eval(prompt=prompt, message=data_2, model)"
   ]
  },
  {
   "cell_type": "code",
   "execution_count": 1,
   "id": "fc71c211-f161-40f8-b23d-70fdcf6990ae",
   "metadata": {},
   "outputs": [],
   "source": [
    "from datetime import datetime\n",
    "from pydantic import BaseModel, constr\n",
    "\n",
    "class Business(BaseModel):\n",
    "    id: int\n",
    "    business_name: str = 'Unregistered Business'\n",
    "    registration_ts: datetime | None\n",
    "    business_number: constr(pattern=r'^\\d{9}$')  # 9-digit pattern\n",
    "    naics_code: constr(pattern=r'^\\d{6}$')       # 6-digit pattern"
   ]
  },
  {
   "cell_type": "code",
   "execution_count": 2,
   "id": "5a79df5b-889c-4a02-b0dc-61c884292d2a",
   "metadata": {},
   "outputs": [
    {
     "name": "stdout",
     "output_type": "stream",
     "text": [
      "{'id': 123, 'business_name': 'Hanan Ather Pharmacy', 'registration_ts': datetime.datetime(2023, 1, 15, 9, 30), 'business_number': '123456789', 'naics_code': '446110'}\n"
     ]
    }
   ],
   "source": [
    "external_data = {\n",
    "    'id': 123,\n",
    "    'business_name': 'Hanan Ather Pharmacy',\n",
    "    'registration_ts': '2023-01-15 09:30',\n",
    "    'business_number': '123456789',\n",
    "    'naics_code': '446110'  # Actual NAICS code for pharmacies\n",
    "}\n",
    "\n",
    "business = Business(**external_data)\n",
    "pp(business.model_dump())  # Convert the model to a dictionary"
   ]
  },
  {
   "cell_type": "markdown",
   "id": "b23d1b59-8887-48c9-ad91-85af663b6f7e",
   "metadata": {},
   "source": [
    "If the LLM ever returns incorrectly shaped data (e.g., the `id` is missing or the `business_number` is only 8 digits), a `ValidationError` will be raised. This helps ensure you don’t inadvertently store invalid or incomplete data.\n",
    "\n"
   ]
  },
  {
   "cell_type": "code",
   "execution_count": null,
   "id": "25570a6a-06ec-4db0-a727-4960ec8f6c08",
   "metadata": {},
   "outputs": [],
   "source": []
  }
 ],
 "metadata": {
  "kernelspec": {
   "display_name": "Python 3 (ipykernel)",
   "language": "python",
   "name": "python3"
  },
  "language_info": {
   "codemirror_mode": {
    "name": "ipython",
    "version": 3
   },
   "file_extension": ".py",
   "mimetype": "text/x-python",
   "name": "python",
   "nbconvert_exporter": "python",
   "pygments_lexer": "ipython3",
   "version": "3.13.1"
  }
 },
 "nbformat": 4,
 "nbformat_minor": 5
}
||||||| merged common ancestors
=======
{
 "cells": [
  {
   "cell_type": "markdown",
   "id": "a7c90463-feb6-4363-865f-b9e4f5a2bac3",
   "metadata": {},
   "source": [
    "## Structured Extraction\n",
    "\n",
    "**Structured extraction** is a process that transforms **unstructured text** into a **structured format**, such as JSON, making it easily accessible for further processing, analysis, or storage. \n",
    "\n",
    "\n",
    "To get the intution, lets implement a natural langugage processing parser that allows us to create structured tabular data from unstructued data. We can accomplish this by: \n",
    "- pipe user input into the LLM -> LLM outputs JSON -> Python picks it up and formats the JSON into HTML\n",
    "- Without LLMs, this is not such an easy task to tackle. Its easy to build a demo, but not easy to build-high quality prodcut that handles edge cases well. \n",
    "\n",
    "\n",
    "With the rise of LLMs, this task can now be accomplished efficiently and affordably, enabling enterprises to unlock valuable insights from large volumes of unstructured data, including PDFs, text files, and scanned documents.\n",
    "\n",
    "Structured output is a models capability to output JSON, acquired during fine-tuning. It can be done using prompt engineering on powerful LLMs such as OpenAI’s GPT-4o model, Anthropic’s Claude 3.5 Sonnet model, or Meta’s Llama family of models. The process is quite simple. First, you write a prompt specifying the fields you want to extract, and then attach with it with raw texts. Like this:"
   ]
  },
  {
   "cell_type": "code",
   "execution_count": 2,
   "id": "c53373b4-78fa-4089-9ce9-ece77f4aa8fe",
   "metadata": {},
   "outputs": [
    {
     "name": "stdout",
     "output_type": "stream",
     "text": [
      "```json\n",
      "[\n",
      "    {\n",
      "        \"name\": \"Ottawa Public Library\",\n",
      "        \"address\": \"150 Elgin Street, Ottawa\"\n",
      "    },\n",
      "    {\n",
      "        \"name\": \"Sarah Wilson's Bakery\",\n",
      "        \"address\": \"240 Laurier Avenue, Ottawa\"\n",
      "    },\n",
      "    {\n",
      "        \"name\": \"Tech Corp's Office\",\n",
      "        \"address\": \"1385 Terry Fox Drive, Kanata\"\n",
      "    }\n",
      "]\n",
      "```\n"
     ]
    }
   ],
   "source": [
    "prompt = \"\"\"\n",
    "You are a data parsing assistant. \n",
    "User provides unstructued data containing addresses. \n",
    "Your goal is to output it as JSON.\n",
    "\"\"\"\n",
    "data =  \"\"\"\n",
    "The Ottawa Public Library is at 150 Elgin Street, Ottawa.\n",
    "Down the street, Sarah Wilson runs her bakery at 240 Laurier Avenue, Ottawa.\n",
    "Over in Kanata, Tech Corp's office is at 1385 Terry Fox Drive.\n",
    "\"\"\"\n",
    "\n",
    "\n",
    "res = eval(prompt=prompt, message=data)\n",
    "json_data = res.choices[0].message.content\n",
    "\n",
    "print(json_data)"
   ]
  },
  {
   "cell_type": "code",
   "execution_count": 1,
   "id": "9752380a-19c3-4989-abdf-00b8e5208610",
   "metadata": {},
   "outputs": [],
   "source": [
    "import os\n",
    "from openai import OpenAI\n",
    "from openai.types.chat import ChatCompletion  \n",
    "\n",
    "\n",
    "def eval(prompt: str, message: str, model: str = \"gpt-4o\") -> ChatCompletion:\n",
    "    client = OpenAI(api_key=os.environ[\"OPENAI_API_KEY\"])\n",
    "    messages = [\n",
    "        {\"role\": \"system\", \"content\": prompt},\n",
    "        {\"role\": \"user\", \"content\": message},\n",
    "    ]\n",
    "\n",
    "    return client.chat.completions.create(\n",
    "        model=model,\n",
    "        messages=messages\n",
    "    )"
   ]
  },
  {
   "cell_type": "markdown",
   "id": "071ae70c-42b5-44b1-a24c-486567fdd6ec",
   "metadata": {},
   "source": [
    "We can see that the model didn't return JSON, it returned markdown formated string containing JSON. The reason is that we didn't enable structured output in the API call."
   ]
  },
  {
   "cell_type": "code",
   "execution_count": 4,
   "id": "edcd677a-69b4-4182-beed-bdbecf0a9549",
   "metadata": {},
   "outputs": [
    {
     "name": "stdout",
     "output_type": "stream",
     "text": [
      "\n",
      "{\n",
      "  \"addresses\": [\n",
      "    {\n",
      "      \"name\": \"Ottawa Public Library\",\n",
      "      \"address\": \"150 Elgin Street, Ottawa\"\n",
      "    },\n",
      "    {\n",
      "      \"name\": \"Sarah Wilson's Bakery\",\n",
      "      \"address\": \"240 Laurier Avenue, Ottawa\"\n",
      "    },\n",
      "    {\n",
      "      \"name\": \"Tech Corp\",\n",
      "      \"address\": \"1385 Terry Fox Drive, Kanata\"\n",
      "    }\n",
      "  ]\n",
      "}\n"
     ]
    }
   ],
   "source": [
    "def eval(prompt: str, message: str, model: str = \"gpt-4o\") -> ChatCompletion:\n",
    "    client = OpenAI(api_key=os.environ[\"OPENAI_API_KEY\"])\n",
    "    messages = [\n",
    "        {\"role\": \"system\", \"content\": prompt},\n",
    "        {\"role\": \"user\", \"content\": message},\n",
    "    ]\n",
    "\n",
    "    return client.chat.completions.create(\n",
    "        model=model,\n",
    "        messages=messages,\n",
    "        # Enable strctured output\n",
    "        response_format={\"type\": \"json_object\"},\n",
    "    )\n",
    "prompt = \"\"\"\n",
    "You are a data parsing assistant. \n",
    "User provides unstructued data containing addresses. \n",
    "Your goal is to output it as JSON.\n",
    "\"\"\"\n",
    "data =  \"\"\"\n",
    "The Ottawa Public Library is at 150 Elgin Street, Ottawa.\n",
    "Down the street, Sarah Wilson runs her bakery at 240 Laurier Avenue, Ottawa.\n",
    "Over in Kanata, Tech Corp's office is at 1385 Terry Fox Drive.\n",
    "\"\"\"\n",
    "\n",
    "\n",
    "res = eval(prompt=prompt, message=data)\n",
    "json_data = res.choices[0].message.content\n",
    "\n",
    "print(json_data)"
   ]
  },
  {
   "cell_type": "markdown",
   "id": "788e3e20-1d61-43ca-ae94-c11f72668423",
   "metadata": {},
   "source": [
    "Now, running the same code returns plain JSON. This is not only great because we don't need to parse anything extra but, but it also guarantees that the LLM won't include any free-from text such as \"Sure, here is your data!{}\"\n",
    "\n",
    "\n",
    "**The problem is, we don't have the data shaped defined; lets call it *schema*. Our schema is now up to the LLM, and it might change based on user input**. Lets reformat the data to see it in action. "
   ]
  },
  {
   "cell_type": "code",
   "execution_count": 5,
   "id": "e6be852a-6681-4c3e-af33-c7f4cdd0e6a8",
   "metadata": {},
   "outputs": [
    {
     "name": "stdout",
     "output_type": "stream",
     "text": [
      "\n",
      "{\n",
      "  \"addresses\": [\n",
      "    {\n",
      "      \"name\": \"Ottawa Public Library - Main Branch\",\n",
      "      \"address\": {\n",
      "        \"street\": \"150 Elgin Street\",\n",
      "        \"city\": \"Ottawa\"\n",
      "      },\n",
      "      \"status\": \"Open Now\"\n",
      "    },\n",
      "    {\n",
      "      \"name\": \"Sarah's Bakery & Café\",\n",
      "      \"rating\": \"4.8\",\n",
      "      \"address\": {\n",
      "        \"line_1\": \"240 Laurier Avenue\",\n",
      "        \"city\": \"Ottawa\"\n",
      "      }\n",
      "    },\n",
      "    {\n",
      "      \"name\": \"Tech Corp Global\",\n",
      "      \"website\": \"www.techcorp.com/contact\",\n",
      "      \"address\": {\n",
      "        \"street\": \"1385 Terry Fox Drive\",\n",
      "        \"city\": \"Kanata\",\n",
      "        \"province\": \"Ontario\"\n",
      "      },\n",
      "      \"email\": \"info@techcorp.com\"\n",
      "    }\n",
      "  ]\n",
      "}\n"
     ]
    }
   ],
   "source": [
    "# Messy web-scraped format with typical HTML artifacts and inconsistent formatting\n",
    "data_2 = \"\"\"\n",
    "[Search Results]\n",
    "* Ottawa Public Library *\n",
    "Contact Us > Main Branch\n",
    "Located at: &nbsp;150 Elgin Street, Ottawa\n",
    "Status: OPEN NOW! 📚\n",
    "---------------------\n",
    "<div class=\"business-listing\">\n",
    "Sarah's Bakery & Café [⭐️4.8]\n",
    "Address line 1: 240 \n",
    "Address line 2: Laurier Avenue\n",
    "City: Ottawa\n",
    "</div>\n",
    "...Read More...\n",
    "---------------------\n",
    "TECH CORP GLOBAL\n",
    "www.techcorp.com/contact\n",
    "📍 1385 Terry Fox Drive\n",
    "Kanata, Ontario\n",
    "[Click to view map]\n",
    "Email: info@techcorp.com\n",
    "\"\"\"\n",
    "\n",
    "res = eval(prompt=prompt, message=data_2)\n",
    "json_data = res.choices[0].message.content\n",
    "\n",
    "print(json_data)"
   ]
  },
  {
   "cell_type": "markdown",
   "id": "86e17bb8-4c79-473c-adc7-0ea90d4ebf74",
   "metadata": {},
   "source": [
    "## Enforcing a Strict Schema (Pydantic Example)\n",
    "Usually, JSON ouput won't cut it in software systems. Its just a string after all. We have to ensure that the LLM indeed returns correctly formed data. \n",
    "\n",
    "To robustly handle data after extracting it, you often need a well-defined schema. Tools like pydantic are excellent for validating that the JSON from the LLM matches the expected structure.\n"
   ]
  },
  {
   "cell_type": "code",
   "execution_count": 1,
   "id": "fc71c211-f161-40f8-b23d-70fdcf6990ae",
   "metadata": {},
   "outputs": [],
   "source": [
    "from datetime import datetime\n",
    "from pydantic import BaseModel, constr\n",
    "\n",
    "class Business(BaseModel):\n",
    "    id: int\n",
    "    business_name: str = 'Unregistered Business'\n",
    "    registration_ts: datetime | None\n",
    "    business_number: constr(pattern=r'^\\d{9}$')  # 9-digit pattern\n",
    "    naics_code: constr(pattern=r'^\\d{6}$')       # 6-digit pattern"
   ]
  },
  {
   "cell_type": "code",
   "execution_count": 2,
   "id": "5a79df5b-889c-4a02-b0dc-61c884292d2a",
   "metadata": {},
   "outputs": [
    {
     "name": "stdout",
     "output_type": "stream",
     "text": [
      "{'id': 123, 'business_name': 'Hanan Ather Pharmacy', 'registration_ts': datetime.datetime(2023, 1, 15, 9, 30), 'business_number': '123456789', 'naics_code': '446110'}\n"
     ]
    }
   ],
   "source": [
    "external_data = {\n",
    "    'id': 123,\n",
    "    'business_name': 'Hanan Ather Pharmacy',\n",
    "    'registration_ts': '2023-01-15 09:30',\n",
    "    'business_number': '123456789',\n",
    "    'naics_code': '446110'  # Actual NAICS code for pharmacies\n",
    "}\n",
    "\n",
    "business = Business(**external_data)\n",
    "print(business.model_dump())  # Convert the model to a dictionary"
   ]
  },
  {
   "cell_type": "markdown",
   "id": "b23d1b59-8887-48c9-ad91-85af663b6f7e",
   "metadata": {},
   "source": [
    "If the LLM ever returns incorrectly shaped data (e.g., the `id` is missing or the `business_number` is only 8 digits), a `ValidationError` will be raised. This helps ensure you don’t inadvertently store invalid or incomplete data.\n",
    "\n"
   ]
  }
 ],
 "metadata": {
  "kernelspec": {
   "display_name": "Python 3 (ipykernel)",
   "language": "python",
   "name": "python3"
  },
  "language_info": {
   "codemirror_mode": {
    "name": "ipython",
    "version": 3
   },
   "file_extension": ".py",
   "mimetype": "text/x-python",
   "name": "python",
   "nbconvert_exporter": "python",
   "pygments_lexer": "ipython3",
   "version": "3.13.1"
  }
 },
 "nbformat": 4,
 "nbformat_minor": 5
}
>>>>>>> origin/main
