{
 "cells": [
  {
   "cell_type": "markdown",
   "id": "bb6234b2-81a7-4323-bd82-8471c599a7db",
   "metadata": {},
   "source": [
    "Simple example of using PydanticAI to construct a Pydantic model from a text input."
   ]
  },
  {
   "cell_type": "code",
   "execution_count": 16,
   "id": "30b2003a-fbd2-49d0-b139-65fe7fbcf754",
   "metadata": {},
   "outputs": [
    {
     "name": "stdout",
     "output_type": "stream",
     "text": [
      "city='London' country='United Kingdom'\n",
      "Usage(requests=1, request_tokens=69, response_tokens=20, total_tokens=89, details={'accepted_prediction_tokens': 0, 'audio_tokens': 0, 'reasoning_tokens': 0, 'rejected_prediction_tokens': 0, 'cached_tokens': 0})\n"
     ]
    }
   ],
   "source": [
    "from pydantic import BaseModel\n",
    "\n",
    "from pydantic_ai import Agent\n",
    "\n",
    "\n",
    "class CityLocation(BaseModel):\n",
    "    city: str\n",
    "    country: str\n",
    "\n",
    "\n",
    "agent = Agent('openai:gpt-4o', result_type=CityLocation)\n",
    "result = await agent.run('Where were the olympics held in 2012?')\n",
    "\n",
    "print(result.data)\n",
    "#> city='London' country='United Kingdom'\n",
    "print(result.usage())"
   ]
  },
  {
   "cell_type": "code",
   "execution_count": 2,
   "id": "2f870d4e-039f-45b2-8a3e-819cf3eec253",
   "metadata": {},
   "outputs": [
    {
     "name": "stdout",
     "output_type": "stream",
     "text": [
      "Using model: openai:gpt-4o\n"
     ]
    },
    {
     "name": "stderr",
     "output_type": "stream",
     "text": [
      "/var/folders/ry/1ct1kks556s6ffsdyjq1grdh0000gn/T/ipykernel_66407/2974309268.py:21: LogfireNotConfiguredWarning: No logs or spans will be created until `logfire.configure()` has been called. Set the environment variable LOGFIRE_IGNORE_NO_CONFIG=1 or add ignore_no_config=true in pyproject.toml to suppress this warning.\n",
      "  result = await agent.run('The windy city in the US of A.')\n"
     ]
    },
    {
     "name": "stdout",
     "output_type": "stream",
     "text": [
      "city='Chicago' country='United States of America'\n",
      "<bound method RunResult.usage of RunResult(_all_messages=[ModelRequest(parts=[UserPromptPart(content='The windy city in the US of A.', timestamp=datetime.datetime(2025, 1, 15, 4, 10, 50, 984455, tzinfo=datetime.timezone.utc), part_kind='user-prompt')], kind='request'), ModelResponse(parts=[ToolCallPart(tool_name='final_result', args=ArgsJson(args_json='{\"city\":\"Chicago\",\"country\":\"United States of America\"}'), tool_call_id='call_1r65TICcxAMwXrnevNgauMqk', part_kind='tool-call')], timestamp=datetime.datetime(2025, 1, 15, 4, 10, 51, tzinfo=datetime.timezone.utc), kind='response'), ModelRequest(parts=[ToolReturnPart(tool_name='final_result', content='Final result processed.', tool_call_id='call_1r65TICcxAMwXrnevNgauMqk', timestamp=datetime.datetime(2025, 1, 15, 4, 10, 51, 963467, tzinfo=datetime.timezone.utc), part_kind='tool-return')], kind='request')], _new_message_index=0, data=MyModel(city='Chicago', country='United States of America'), _result_tool_name='final_result', _usage=Usage(requests=1, request_tokens=67, response_tokens=22, total_tokens=89, details={'accepted_prediction_tokens': 0, 'audio_tokens': 0, 'reasoning_tokens': 0, 'rejected_prediction_tokens': 0, 'cached_tokens': 0}))>\n"
     ]
    }
   ],
   "source": [
    "import os\n",
    "from typing import cast\n",
    "\n",
    "import logfire\n",
    "from pydantic import BaseModel\n",
    "\n",
    "from pydantic_ai import Agent\n",
    "from pydantic_ai.models import KnownModelName\n",
    "\n",
    "\n",
    "class MyModel(BaseModel):\n",
    "    city: str\n",
    "    country: str\n",
    "\n",
    "model = cast(KnownModelName, os.getenv('PYDANTIC_AI_MODEL', 'openai:gpt-4o'))\n",
    "print(f'Using model: {model}')\n",
    "agent = Agent(model, result_type=MyModel)\n",
    "\n",
    "\n",
    "async def main():\n",
    "    result = await agent.run('The windy city in the US of A.')\n",
    "    print(result.data)\n",
    "    print(result.usage)\n",
    "\n",
    "# If you're in a Jupyter notebook or similar async environment:\n",
    "await main()"
   ]
  },
  {
   "cell_type": "code",
   "execution_count": 18,
   "id": "80600ddf-baaf-48db-bbb7-35d762d3962f",
   "metadata": {},
   "outputs": [
    {
     "name": "stderr",
     "output_type": "stream",
     "text": [
      "/var/folders/ry/1ct1kks556s6ffsdyjq1grdh0000gn/T/ipykernel_66407/2164221223.py:3: LogfireNotConfiguredWarning: No logs or spans will be created until `logfire.configure()` has been called. Set the environment variable LOGFIRE_IGNORE_NO_CONFIG=1 or add ignore_no_config=true in pyproject.toml to suppress this warning.\n",
      "  async for message in result.stream_text():\n"
     ]
    },
    {
     "ename": "UserError",
     "evalue": "stream_text() can only be used with text responses",
     "output_type": "error",
     "traceback": [
      "\u001b[0;31m---------------------------------------------------------------------------\u001b[0m",
      "\u001b[0;31mUserError\u001b[0m                                 Traceback (most recent call last)",
      "Cell \u001b[0;32mIn[18], line 5\u001b[0m\n\u001b[1;32m      3\u001b[0m         \u001b[38;5;28;01masync\u001b[39;00m \u001b[38;5;28;01mfor\u001b[39;00m message \u001b[38;5;129;01min\u001b[39;00m result\u001b[38;5;241m.\u001b[39mstream_text():  \n\u001b[1;32m      4\u001b[0m             \u001b[38;5;28mprint\u001b[39m(message)\n\u001b[0;32m----> 5\u001b[0m \u001b[38;5;28;01mawait\u001b[39;00m main()\n",
      "Cell \u001b[0;32mIn[18], line 3\u001b[0m, in \u001b[0;36mmain\u001b[0;34m()\u001b[0m\n\u001b[1;32m      1\u001b[0m \u001b[38;5;28;01masync\u001b[39;00m \u001b[38;5;28;01mdef\u001b[39;00m\u001b[38;5;250m \u001b[39m\u001b[38;5;21mmain\u001b[39m():\n\u001b[1;32m      2\u001b[0m     \u001b[38;5;28;01masync\u001b[39;00m \u001b[38;5;28;01mwith\u001b[39;00m agent\u001b[38;5;241m.\u001b[39mrun_stream(\u001b[38;5;124m'\u001b[39m\u001b[38;5;124mWhere does \u001b[39m\u001b[38;5;124m\"\u001b[39m\u001b[38;5;124mhello world\u001b[39m\u001b[38;5;124m\"\u001b[39m\u001b[38;5;124m come from?\u001b[39m\u001b[38;5;124m'\u001b[39m) \u001b[38;5;28;01mas\u001b[39;00m result:  \n\u001b[0;32m----> 3\u001b[0m         \u001b[38;5;28;01masync\u001b[39;00m \u001b[38;5;28;01mfor\u001b[39;00m message \u001b[38;5;129;01min\u001b[39;00m result\u001b[38;5;241m.\u001b[39mstream_text():  \n\u001b[1;32m      4\u001b[0m             \u001b[38;5;28mprint\u001b[39m(message)\n",
      "File \u001b[0;32m~/Desktop/LLM-notes/venv/lib/python3.13/site-packages/pydantic_ai/result.py:233\u001b[0m, in \u001b[0;36mStreamedRunResult.stream_text\u001b[0;34m(self, delta, debounce_by)\u001b[0m\n\u001b[1;32m    231\u001b[0m \u001b[38;5;28;01mwith\u001b[39;00m _logfire\u001b[38;5;241m.\u001b[39mspan(\u001b[38;5;124m'\u001b[39m\u001b[38;5;124mresponse stream text\u001b[39m\u001b[38;5;124m'\u001b[39m) \u001b[38;5;28;01mas\u001b[39;00m lf_span:\n\u001b[1;32m    232\u001b[0m     \u001b[38;5;28;01mif\u001b[39;00m \u001b[38;5;28misinstance\u001b[39m(\u001b[38;5;28mself\u001b[39m\u001b[38;5;241m.\u001b[39m_stream_response, models\u001b[38;5;241m.\u001b[39mStreamStructuredResponse):\n\u001b[0;32m--> 233\u001b[0m         \u001b[38;5;28;01mraise\u001b[39;00m exceptions\u001b[38;5;241m.\u001b[39mUserError(\u001b[38;5;124m'\u001b[39m\u001b[38;5;124mstream_text() can only be used with text responses\u001b[39m\u001b[38;5;124m'\u001b[39m)\n\u001b[1;32m    234\u001b[0m     \u001b[38;5;28;01mif\u001b[39;00m delta:\n\u001b[1;32m    235\u001b[0m         \u001b[38;5;28;01masync\u001b[39;00m \u001b[38;5;28;01mwith\u001b[39;00m _utils\u001b[38;5;241m.\u001b[39mgroup_by_temporal(usage_checking_stream, debounce_by) \u001b[38;5;28;01mas\u001b[39;00m group_iter:\n",
      "\u001b[0;31mUserError\u001b[0m: stream_text() can only be used with text responses"
     ]
    }
   ],
   "source": [
    "async def main():\n",
    "    async with agent.run_stream('Where does \"hello world\" come from?') as result:  \n",
    "        async for message in result.stream_text():  \n",
    "            print(message)\n",
    "await main()"
   ]
  },
  {
   "cell_type": "code",
   "execution_count": null,
   "id": "bcbbbcf5-862c-4e1f-8584-12a5fb3081c0",
   "metadata": {},
   "outputs": [],
   "source": []
  }
 ],
 "metadata": {
  "kernelspec": {
   "display_name": "Python 3 (ipykernel)",
   "language": "python",
   "name": "python3"
  },
  "language_info": {
   "codemirror_mode": {
    "name": "ipython",
    "version": 3
   },
   "file_extension": ".py",
   "mimetype": "text/x-python",
   "name": "python",
   "nbconvert_exporter": "python",
   "pygments_lexer": "ipython3",
   "version": "3.13.1"
  }
 },
 "nbformat": 4,
 "nbformat_minor": 5
}
