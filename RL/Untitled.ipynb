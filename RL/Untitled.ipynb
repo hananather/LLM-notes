{
 "cells": [
  {
   "cell_type": "markdown",
   "id": "de6fed24-52a9-473d-b46a-b5056ed91d0a",
   "metadata": {},
   "source": [
    "System consists of three main components: an environment, an agent, and a sensor.\n",
    "\n",
    "- we refer to an agent's configuration within its environment as its state $s$.\n",
    "Environment consits of an initial state distribution and a transition model.\n",
    "When an agent takes an action the state evolves probabilistically according to the transition model.\n",
    "\n",
    "--- \n",
    "\n",
    "Physical systems: **state** often represents agent's position and velocity in the environment; the transition model is typically governed by the agents equations of motion. \n",
    "\n",
    "- many real-world systems do not have access to their true state within the environment and instead rely on observations from **sensors**.\n"
   ]
  },
  {
   "cell_type": "code",
   "execution_count": null,
   "id": "3c2aeb01-8fbc-44a5-8c4d-e4b86c0dbd8b",
   "metadata": {},
   "outputs": [],
   "source": [
    "from abc import ABC, abstractmethod\n",
    "\n",
    "class Agent(ABC):\n",
    "    pass\n",
    "\n",
    "class Environment(ABC):\n",
    "    pass\n",
    "\n",
    "class Sensor(ABC):\n",
    "    pass\n",
    "class System:\n",
    "    def __init__(self, agent: Agent, env: Environment, sensor: Sensor):\n",
    "        self.agent = agent\n",
    "        self.env = env\n",
    "        self.sensor = sensor"
   ]
  },
  {
   "cell_type": "markdown",
   "id": "b522bda6-9194-4490-b5b8-67507d0ce962",
   "metadata": {},
   "source": [
    "# Four Categories of Analysis by Validation Algorithms:\n",
    "\n",
    "## Failure Analysis\n",
    "\n",
    "Falsification involves searching for possible scenarios that result in a failure. Some fal\n",
    "\n",
    " \n",
    "## Formal guarantees\n",
    "Some algorithms output formal guarantees (proofs) that a system sat\n",
    "\n",
    "## Explanations\n",
    "\n",
    "## Runtime assurances\n",
    "\n",
    "\n",
    "\n"
   ]
  }
 ],
 "metadata": {
  "kernelspec": {
   "display_name": "Python 3 (ipykernel)",
   "language": "python",
   "name": "python3"
  },
  "language_info": {
   "codemirror_mode": {
    "name": "ipython",
    "version": 3
   },
   "file_extension": ".py",
   "mimetype": "text/x-python",
   "name": "python",
   "nbconvert_exporter": "python",
   "pygments_lexer": "ipython3",
   "version": "3.13.1"
  }
 },
 "nbformat": 4,
 "nbformat_minor": 5
}
