{
 "cells": [
  {
   "cell_type": "code",
   "execution_count": 16,
   "id": "bd1d4f06-2f3d-454c-b9f5-3126b2afb00d",
   "metadata": {},
   "outputs": [
    {
     "name": "stdout",
     "output_type": "stream",
     "text": [
      "No Logfire project credentials found.\n",
      "All data sent to Logfire must be associated with a project.\n",
      "\n"
     ]
    },
    {
     "ename": "LogfireConfigError",
     "evalue": "You are not authenticated. Please run `logfire auth` to authenticate.\n\nIf you are running in production, you can set the `LOGFIRE_TOKEN` environment variable.\nTo create a write token, refer to https://logfire.pydantic.dev/docs/guides/advanced/creating_write_tokens/\n",
     "output_type": "error",
     "traceback": [
      "\u001b[0;31m---------------------------------------------------------------------------\u001b[0m",
      "\u001b[0;31mLogfireConfigError\u001b[0m                        Traceback (most recent call last)",
      "Cell \u001b[0;32mIn[16], line 5\u001b[0m\n\u001b[1;32m      3\u001b[0m \u001b[38;5;28;01mfrom\u001b[39;00m\u001b[38;5;250m \u001b[39m\u001b[38;5;21;01mpydantic_ai\u001b[39;00m\u001b[38;5;250m \u001b[39m\u001b[38;5;28;01mimport\u001b[39;00m Agent, RunContext\n\u001b[1;32m      4\u001b[0m \u001b[38;5;28;01mimport\u001b[39;00m\u001b[38;5;250m \u001b[39m\u001b[38;5;21;01mlogfire\u001b[39;00m\n\u001b[0;32m----> 5\u001b[0m \u001b[43mlogfire\u001b[49m\u001b[38;5;241;43m.\u001b[39;49m\u001b[43mconfigure\u001b[49m\u001b[43m(\u001b[49m\u001b[43m)\u001b[49m  \n\u001b[1;32m      6\u001b[0m logfire\u001b[38;5;241m.\u001b[39minstrument_asyncpg()\n\u001b[1;32m      8\u001b[0m \u001b[38;5;28;01mclass\u001b[39;00m\u001b[38;5;250m \u001b[39m\u001b[38;5;21;01mDatabaseConn\u001b[39;00m:\n",
      "File \u001b[0;32m~/Desktop/LLM-notes/venv/lib/python3.13/site-packages/logfire/_internal/config.py:412\u001b[0m, in \u001b[0;36mconfigure\u001b[0;34m(local, send_to_logfire, token, service_name, service_version, environment, console, config_dir, data_dir, additional_span_processors, metrics, scrubbing, inspect_arguments, sampling, code_source, distributed_tracing, advanced, **deprecated_kwargs)\u001b[0m\n\u001b[1;32m    410\u001b[0m \u001b[38;5;28;01melse\u001b[39;00m:\n\u001b[1;32m    411\u001b[0m     config \u001b[38;5;241m=\u001b[39m GLOBAL_CONFIG\n\u001b[0;32m--> 412\u001b[0m \u001b[43mconfig\u001b[49m\u001b[38;5;241;43m.\u001b[39;49m\u001b[43mconfigure\u001b[49m\u001b[43m(\u001b[49m\n\u001b[1;32m    413\u001b[0m \u001b[43m    \u001b[49m\u001b[43msend_to_logfire\u001b[49m\u001b[38;5;241;43m=\u001b[39;49m\u001b[43msend_to_logfire\u001b[49m\u001b[43m,\u001b[49m\n\u001b[1;32m    414\u001b[0m \u001b[43m    \u001b[49m\u001b[43mtoken\u001b[49m\u001b[38;5;241;43m=\u001b[39;49m\u001b[43mtoken\u001b[49m\u001b[43m,\u001b[49m\n\u001b[1;32m    415\u001b[0m \u001b[43m    \u001b[49m\u001b[43mservice_name\u001b[49m\u001b[38;5;241;43m=\u001b[39;49m\u001b[43mservice_name\u001b[49m\u001b[43m,\u001b[49m\n\u001b[1;32m    416\u001b[0m \u001b[43m    \u001b[49m\u001b[43mservice_version\u001b[49m\u001b[38;5;241;43m=\u001b[39;49m\u001b[43mservice_version\u001b[49m\u001b[43m,\u001b[49m\n\u001b[1;32m    417\u001b[0m \u001b[43m    \u001b[49m\u001b[43menvironment\u001b[49m\u001b[38;5;241;43m=\u001b[39;49m\u001b[43menvironment\u001b[49m\u001b[43m,\u001b[49m\n\u001b[1;32m    418\u001b[0m \u001b[43m    \u001b[49m\u001b[43mconsole\u001b[49m\u001b[38;5;241;43m=\u001b[39;49m\u001b[43mconsole\u001b[49m\u001b[43m,\u001b[49m\n\u001b[1;32m    419\u001b[0m \u001b[43m    \u001b[49m\u001b[43mmetrics\u001b[49m\u001b[38;5;241;43m=\u001b[39;49m\u001b[43mmetrics\u001b[49m\u001b[43m,\u001b[49m\n\u001b[1;32m    420\u001b[0m \u001b[43m    \u001b[49m\u001b[43mconfig_dir\u001b[49m\u001b[38;5;241;43m=\u001b[39;49m\u001b[43mPath\u001b[49m\u001b[43m(\u001b[49m\u001b[43mconfig_dir\u001b[49m\u001b[43m)\u001b[49m\u001b[43m \u001b[49m\u001b[38;5;28;43;01mif\u001b[39;49;00m\u001b[43m \u001b[49m\u001b[43mconfig_dir\u001b[49m\u001b[43m \u001b[49m\u001b[38;5;28;43;01melse\u001b[39;49;00m\u001b[43m \u001b[49m\u001b[38;5;28;43;01mNone\u001b[39;49;00m\u001b[43m,\u001b[49m\n\u001b[1;32m    421\u001b[0m \u001b[43m    \u001b[49m\u001b[43mdata_dir\u001b[49m\u001b[38;5;241;43m=\u001b[39;49m\u001b[43mPath\u001b[49m\u001b[43m(\u001b[49m\u001b[43mdata_dir\u001b[49m\u001b[43m)\u001b[49m\u001b[43m \u001b[49m\u001b[38;5;28;43;01mif\u001b[39;49;00m\u001b[43m \u001b[49m\u001b[43mdata_dir\u001b[49m\u001b[43m \u001b[49m\u001b[38;5;28;43;01melse\u001b[39;49;00m\u001b[43m \u001b[49m\u001b[38;5;28;43;01mNone\u001b[39;49;00m\u001b[43m,\u001b[49m\n\u001b[1;32m    422\u001b[0m \u001b[43m    \u001b[49m\u001b[43madditional_span_processors\u001b[49m\u001b[38;5;241;43m=\u001b[39;49m\u001b[43madditional_span_processors\u001b[49m\u001b[43m,\u001b[49m\n\u001b[1;32m    423\u001b[0m \u001b[43m    \u001b[49m\u001b[43mscrubbing\u001b[49m\u001b[38;5;241;43m=\u001b[39;49m\u001b[43mscrubbing\u001b[49m\u001b[43m,\u001b[49m\n\u001b[1;32m    424\u001b[0m \u001b[43m    \u001b[49m\u001b[43minspect_arguments\u001b[49m\u001b[38;5;241;43m=\u001b[39;49m\u001b[43minspect_arguments\u001b[49m\u001b[43m,\u001b[49m\n\u001b[1;32m    425\u001b[0m \u001b[43m    \u001b[49m\u001b[43msampling\u001b[49m\u001b[38;5;241;43m=\u001b[39;49m\u001b[43msampling\u001b[49m\u001b[43m,\u001b[49m\n\u001b[1;32m    426\u001b[0m \u001b[43m    \u001b[49m\u001b[43mcode_source\u001b[49m\u001b[38;5;241;43m=\u001b[39;49m\u001b[43mcode_source\u001b[49m\u001b[43m,\u001b[49m\n\u001b[1;32m    427\u001b[0m \u001b[43m    \u001b[49m\u001b[43mdistributed_tracing\u001b[49m\u001b[38;5;241;43m=\u001b[39;49m\u001b[43mdistributed_tracing\u001b[49m\u001b[43m,\u001b[49m\n\u001b[1;32m    428\u001b[0m \u001b[43m    \u001b[49m\u001b[43madvanced\u001b[49m\u001b[38;5;241;43m=\u001b[39;49m\u001b[43madvanced\u001b[49m\u001b[43m,\u001b[49m\n\u001b[1;32m    429\u001b[0m \u001b[43m\u001b[49m\u001b[43m)\u001b[49m\n\u001b[1;32m    431\u001b[0m \u001b[38;5;28;01mif\u001b[39;00m local:\n\u001b[1;32m    432\u001b[0m     \u001b[38;5;28;01mreturn\u001b[39;00m Logfire(config\u001b[38;5;241m=\u001b[39mconfig)\n",
      "File \u001b[0;32m~/Desktop/LLM-notes/venv/lib/python3.13/site-packages/logfire/_internal/config.py:700\u001b[0m, in \u001b[0;36mLogfireConfig.configure\u001b[0;34m(self, send_to_logfire, token, service_name, service_version, environment, console, config_dir, data_dir, additional_span_processors, metrics, scrubbing, inspect_arguments, sampling, code_source, distributed_tracing, advanced)\u001b[0m\n\u001b[1;32m    681\u001b[0m \u001b[38;5;28mself\u001b[39m\u001b[38;5;241m.\u001b[39m_initialized \u001b[38;5;241m=\u001b[39m \u001b[38;5;28;01mFalse\u001b[39;00m\n\u001b[1;32m    682\u001b[0m \u001b[38;5;28mself\u001b[39m\u001b[38;5;241m.\u001b[39m_load_configuration(\n\u001b[1;32m    683\u001b[0m     send_to_logfire,\n\u001b[1;32m    684\u001b[0m     token,\n\u001b[0;32m   (...)\u001b[0m\n\u001b[1;32m    698\u001b[0m     advanced,\n\u001b[1;32m    699\u001b[0m )\n\u001b[0;32m--> 700\u001b[0m \u001b[38;5;28;43mself\u001b[39;49m\u001b[38;5;241;43m.\u001b[39;49m\u001b[43minitialize\u001b[49m\u001b[43m(\u001b[49m\u001b[43m)\u001b[49m\n",
      "File \u001b[0;32m~/Desktop/LLM-notes/venv/lib/python3.13/site-packages/logfire/_internal/config.py:705\u001b[0m, in \u001b[0;36mLogfireConfig.initialize\u001b[0;34m(self)\u001b[0m\n\u001b[1;32m    703\u001b[0m \u001b[38;5;250m\u001b[39m\u001b[38;5;124;03m\"\"\"Configure internals to start exporting traces and metrics.\"\"\"\u001b[39;00m\n\u001b[1;32m    704\u001b[0m \u001b[38;5;28;01mwith\u001b[39;00m \u001b[38;5;28mself\u001b[39m\u001b[38;5;241m.\u001b[39m_lock:\n\u001b[0;32m--> 705\u001b[0m     \u001b[38;5;28;43mself\u001b[39;49m\u001b[38;5;241;43m.\u001b[39;49m\u001b[43m_initialize\u001b[49m\u001b[43m(\u001b[49m\u001b[43m)\u001b[49m\n",
      "File \u001b[0;32m~/Desktop/LLM-notes/venv/lib/python3.13/site-packages/logfire/_internal/config.py:830\u001b[0m, in \u001b[0;36mLogfireConfig._initialize\u001b[0;34m(self)\u001b[0m\n\u001b[1;32m    827\u001b[0m \u001b[38;5;66;03m# if we still don't have a token, try initializing a new project and writing a new creds file\u001b[39;00m\n\u001b[1;32m    828\u001b[0m \u001b[38;5;66;03m# note, we only do this if `send_to_logfire` is explicitly `True`, not 'if-token-present'\u001b[39;00m\n\u001b[1;32m    829\u001b[0m \u001b[38;5;28;01mif\u001b[39;00m \u001b[38;5;28mself\u001b[39m\u001b[38;5;241m.\u001b[39msend_to_logfire \u001b[38;5;129;01mis\u001b[39;00m \u001b[38;5;28;01mTrue\u001b[39;00m \u001b[38;5;129;01mand\u001b[39;00m credentials \u001b[38;5;129;01mis\u001b[39;00m \u001b[38;5;28;01mNone\u001b[39;00m:\n\u001b[0;32m--> 830\u001b[0m     credentials \u001b[38;5;241m=\u001b[39m \u001b[43mLogfireCredentials\u001b[49m\u001b[38;5;241;43m.\u001b[39;49m\u001b[43minitialize_project\u001b[49m\u001b[43m(\u001b[49m\n\u001b[1;32m    831\u001b[0m \u001b[43m        \u001b[49m\u001b[43mlogfire_api_url\u001b[49m\u001b[38;5;241;43m=\u001b[39;49m\u001b[38;5;28;43mself\u001b[39;49m\u001b[38;5;241;43m.\u001b[39;49m\u001b[43madvanced\u001b[49m\u001b[38;5;241;43m.\u001b[39;49m\u001b[43mbase_url\u001b[49m\u001b[43m,\u001b[49m\n\u001b[1;32m    832\u001b[0m \u001b[43m        \u001b[49m\u001b[43msession\u001b[49m\u001b[38;5;241;43m=\u001b[39;49m\u001b[43mrequests\u001b[49m\u001b[38;5;241;43m.\u001b[39;49m\u001b[43mSession\u001b[49m\u001b[43m(\u001b[49m\u001b[43m)\u001b[49m\u001b[43m,\u001b[49m\n\u001b[1;32m    833\u001b[0m \u001b[43m    \u001b[49m\u001b[43m)\u001b[49m\n\u001b[1;32m    834\u001b[0m     credentials\u001b[38;5;241m.\u001b[39mwrite_creds_file(\u001b[38;5;28mself\u001b[39m\u001b[38;5;241m.\u001b[39mdata_dir)\n\u001b[1;32m    836\u001b[0m \u001b[38;5;28;01mif\u001b[39;00m credentials \u001b[38;5;129;01mis\u001b[39;00m \u001b[38;5;129;01mnot\u001b[39;00m \u001b[38;5;28;01mNone\u001b[39;00m:\n",
      "File \u001b[0;32m~/Desktop/LLM-notes/venv/lib/python3.13/site-packages/logfire/_internal/config.py:1487\u001b[0m, in \u001b[0;36mLogfireCredentials.initialize_project\u001b[0;34m(cls, logfire_api_url, session)\u001b[0m\n\u001b[1;32m   1480\u001b[0m credentials: \u001b[38;5;28mdict\u001b[39m[\u001b[38;5;28mstr\u001b[39m, Any] \u001b[38;5;241m|\u001b[39m \u001b[38;5;28;01mNone\u001b[39;00m \u001b[38;5;241m=\u001b[39m \u001b[38;5;28;01mNone\u001b[39;00m\n\u001b[1;32m   1482\u001b[0m \u001b[38;5;28mprint\u001b[39m(\n\u001b[1;32m   1483\u001b[0m     \u001b[38;5;124m'\u001b[39m\u001b[38;5;124mNo Logfire project credentials found.\u001b[39m\u001b[38;5;130;01m\\n\u001b[39;00m\u001b[38;5;124m'\u001b[39m  \u001b[38;5;66;03m# TODO: Add a link to the docs about where we look\u001b[39;00m\n\u001b[1;32m   1484\u001b[0m     \u001b[38;5;124m'\u001b[39m\u001b[38;5;124mAll data sent to Logfire must be associated with a project.\u001b[39m\u001b[38;5;130;01m\\n\u001b[39;00m\u001b[38;5;124m'\u001b[39m\n\u001b[1;32m   1485\u001b[0m )\n\u001b[0;32m-> 1487\u001b[0m projects \u001b[38;5;241m=\u001b[39m \u001b[38;5;28;43mcls\u001b[39;49m\u001b[38;5;241;43m.\u001b[39;49m\u001b[43mget_user_projects\u001b[49m\u001b[43m(\u001b[49m\u001b[43msession\u001b[49m\u001b[38;5;241;43m=\u001b[39;49m\u001b[43msession\u001b[49m\u001b[43m,\u001b[49m\u001b[43m \u001b[49m\u001b[43mlogfire_api_url\u001b[49m\u001b[38;5;241;43m=\u001b[39;49m\u001b[43mlogfire_api_url\u001b[49m\u001b[43m)\u001b[49m\n\u001b[1;32m   1488\u001b[0m \u001b[38;5;28;01mif\u001b[39;00m projects:\n\u001b[1;32m   1489\u001b[0m     use_existing_projects \u001b[38;5;241m=\u001b[39m Confirm\u001b[38;5;241m.\u001b[39mask(\u001b[38;5;124m'\u001b[39m\u001b[38;5;124mDo you want to use one of your existing projects? \u001b[39m\u001b[38;5;124m'\u001b[39m, default\u001b[38;5;241m=\u001b[39m\u001b[38;5;28;01mTrue\u001b[39;00m)\n",
      "File \u001b[0;32m~/Desktop/LLM-notes/venv/lib/python3.13/site-packages/logfire/_internal/config.py:1234\u001b[0m, in \u001b[0;36mLogfireCredentials.get_user_projects\u001b[0;34m(cls, session, logfire_api_url)\u001b[0m\n\u001b[1;32m   1220\u001b[0m \u001b[38;5;129m@classmethod\u001b[39m\n\u001b[1;32m   1221\u001b[0m \u001b[38;5;28;01mdef\u001b[39;00m\u001b[38;5;250m \u001b[39m\u001b[38;5;21mget_user_projects\u001b[39m(\u001b[38;5;28mcls\u001b[39m, session: requests\u001b[38;5;241m.\u001b[39mSession, logfire_api_url: \u001b[38;5;28mstr\u001b[39m) \u001b[38;5;241m-\u001b[39m\u001b[38;5;241m>\u001b[39m \u001b[38;5;28mlist\u001b[39m[\u001b[38;5;28mdict\u001b[39m[\u001b[38;5;28mstr\u001b[39m, Any]]:\n\u001b[1;32m   1222\u001b[0m \u001b[38;5;250m    \u001b[39m\u001b[38;5;124;03m\"\"\"Get list of projects that user has access to them.\u001b[39;00m\n\u001b[1;32m   1223\u001b[0m \n\u001b[1;32m   1224\u001b[0m \u001b[38;5;124;03m    Args:\u001b[39;00m\n\u001b[0;32m   (...)\u001b[0m\n\u001b[1;32m   1232\u001b[0m \u001b[38;5;124;03m        LogfireConfigError: If there was an error retrieving user projects.\u001b[39;00m\n\u001b[1;32m   1233\u001b[0m \u001b[38;5;124;03m    \"\"\"\u001b[39;00m\n\u001b[0;32m-> 1234\u001b[0m     user_token \u001b[38;5;241m=\u001b[39m \u001b[38;5;28;43mcls\u001b[39;49m\u001b[38;5;241;43m.\u001b[39;49m\u001b[43m_get_user_token\u001b[49m\u001b[43m(\u001b[49m\u001b[43mlogfire_api_url\u001b[49m\u001b[38;5;241;43m=\u001b[39;49m\u001b[43mlogfire_api_url\u001b[49m\u001b[43m)\u001b[49m\n\u001b[1;32m   1235\u001b[0m     headers \u001b[38;5;241m=\u001b[39m {\u001b[38;5;241m*\u001b[39m\u001b[38;5;241m*\u001b[39mCOMMON_REQUEST_HEADERS, \u001b[38;5;124m'\u001b[39m\u001b[38;5;124mAuthorization\u001b[39m\u001b[38;5;124m'\u001b[39m: user_token}\n\u001b[1;32m   1236\u001b[0m     projects_url \u001b[38;5;241m=\u001b[39m urljoin(logfire_api_url, \u001b[38;5;124m'\u001b[39m\u001b[38;5;124m/v1/projects/\u001b[39m\u001b[38;5;124m'\u001b[39m)\n",
      "File \u001b[0;32m~/Desktop/LLM-notes/venv/lib/python3.13/site-packages/logfire/_internal/config.py:1193\u001b[0m, in \u001b[0;36mLogfireCredentials._get_user_token\u001b[0;34m(cls, logfire_api_url)\u001b[0m\n\u001b[1;32m   1191\u001b[0m             \u001b[38;5;28;01mif\u001b[39;00m is_logged_in(data, logfire_api_url):  \u001b[38;5;66;03m# pragma: no branch\u001b[39;00m\n\u001b[1;32m   1192\u001b[0m                 \u001b[38;5;28;01mreturn\u001b[39;00m data[\u001b[38;5;124m'\u001b[39m\u001b[38;5;124mtokens\u001b[39m\u001b[38;5;124m'\u001b[39m][logfire_api_url][\u001b[38;5;124m'\u001b[39m\u001b[38;5;124mtoken\u001b[39m\u001b[38;5;124m'\u001b[39m]\n\u001b[0;32m-> 1193\u001b[0m         \u001b[38;5;28;01mraise\u001b[39;00m LogfireConfigError(\n\u001b[1;32m   1194\u001b[0m \u001b[38;5;250m            \u001b[39m\u001b[38;5;124;03m\"\"\"You are not authenticated. Please run `logfire auth` to authenticate.\u001b[39;00m\n\u001b[1;32m   1195\u001b[0m \n\u001b[1;32m   1196\u001b[0m \u001b[38;5;124;03mIf you are running in production, you can set the `LOGFIRE_TOKEN` environment variable.\u001b[39;00m\n\u001b[1;32m   1197\u001b[0m \u001b[38;5;124;03mTo create a write token, refer to https://logfire.pydantic.dev/docs/guides/advanced/creating_write_tokens/\u001b[39;00m\n\u001b[1;32m   1198\u001b[0m \u001b[38;5;124;03m\"\"\"\u001b[39;00m\n\u001b[1;32m   1199\u001b[0m         )\n",
      "\u001b[0;31mLogfireConfigError\u001b[0m: You are not authenticated. Please run `logfire auth` to authenticate.\n\nIf you are running in production, you can set the `LOGFIRE_TOKEN` environment variable.\nTo create a write token, refer to https://logfire.pydantic.dev/docs/guides/advanced/creating_write_tokens/\n"
     ]
    }
   ],
   "source": [
    "from dataclasses import dataclass\n",
    "from pydantic import BaseModel, Field\n",
    "from pydantic_ai import Agent, RunContext\n",
    "import logfire\n",
    "logfire.configure()  \n",
    "logfire.instrument_asyncpg()\n",
    "\n",
    "class DatabaseConn:\n",
    "    \"\"\"This is a fake database for example purposes.\n",
    "    In reality, you'd be connecting to an external database\n",
    "    (e.g. PostgreSQL) to get information about customers.\n",
    "    \"\"\"\n",
    "\n",
    "    @classmethod\n",
    "    async def customer_name(cls, *, id: int) -> str | None:\n",
    "        if id == 123:\n",
    "            return 'John'\n",
    "\n",
    "    @classmethod\n",
    "    async def customer_balance(cls, *, id: int, include_pending: bool) -> float:\n",
    "        if id == 123:\n",
    "            return 123.45\n",
    "        else:\n",
    "            raise ValueError('Customer not found')\n"
   ]
  },
  {
   "cell_type": "markdown",
   "id": "47091f6d-11b0-433f-9b08-49d74dcd02f6",
   "metadata": {},
   "source": [
    "The `SupportDependencies` dataclass is used to pass data, connections, and logic into the model that will be needed when running system prompt and tool functions. `SupportResult` Pydantic model is used to constrain the structured data **returned** by the agent."
   ]
  },
  {
   "cell_type": "code",
   "execution_count": 6,
   "id": "a98d97eb-3823-4630-ab32-36434b1185c5",
   "metadata": {},
   "outputs": [],
   "source": [
    "@dataclass\n",
    "class SupportDependencies:  \n",
    "    customer_id: int\n",
    "    db: DatabaseConn\n",
    "\n",
    "class SupportResult(BaseModel):  \n",
    "    support_advice: str = Field(description='Advice returned to the customer')\n",
    "    block_card: bool = Field(description=\"Whether to block the customer's card\")\n",
    "    risk: int = Field(description='Risk level of query', ge=0, le=10)\n",
    "\n",
    "class SupportResult(BaseModel):  \n",
    "    support_advice: str = Field(description='Advice returned to the customer')\n",
    "    block_card: bool = Field(description=\"Whether to block the customer's card\")\n",
    "    risk: int = Field(description='Risk level of query', ge=0, le=10)"
   ]
  },
  {
   "cell_type": "code",
   "execution_count": 9,
   "id": "e88833a9-aea2-451f-824e-4fa3b682cc1d",
   "metadata": {},
   "outputs": [],
   "source": [
    "support_agent = Agent(  \n",
    "    'openai:gpt-4o',  \n",
    "    deps_type=SupportDependencies,\n",
    "    result_type=SupportResult,  \n",
    "    system_prompt=(  \n",
    "        'You are a support agent in our bank, give the '\n",
    "        'customer support and judge the risk level of their query.'\n",
    "    ),\n",
    ")\n"
   ]
  },
  {
   "cell_type": "code",
   "execution_count": 10,
   "id": "76c31908-3969-4bc2-9390-1ca83f065c75",
   "metadata": {},
   "outputs": [],
   "source": [
    "@support_agent.system_prompt  \n",
    "async def add_customer_name(ctx: RunContext[SupportDependencies]) -> str:\n",
    "    customer_name = await ctx.deps.db.customer_name(id=ctx.deps.customer_id)\n",
    "    return f\"The customer's name is {customer_name!r}\""
   ]
  },
  {
   "cell_type": "code",
   "execution_count": 11,
   "id": "eb063cf3-dc25-43f2-b0ad-40800cc85266",
   "metadata": {},
   "outputs": [],
   "source": [
    "@support_agent.tool  \n",
    "async def customer_balance(\n",
    "    ctx: RunContext[SupportDependencies], include_pending: bool\n",
    ") -> float:\n",
    "    \"\"\"Returns the customer's current account balance.\"\"\"  \n",
    "    return await ctx.deps.db.customer_balance(\n",
    "        id=ctx.deps.customer_id,\n",
    "        include_pending=include_pending,\n",
    "    )"
   ]
  },
  {
   "cell_type": "code",
   "execution_count": 14,
   "id": "6426d6cd-7b91-4fdb-a35d-a6c7bff57986",
   "metadata": {},
   "outputs": [
    {
     "ename": "SyntaxError",
     "evalue": "'await' outside async function (3741389034.py, line 3)",
     "output_type": "error",
     "traceback": [
      "\u001b[0;36m  Cell \u001b[0;32mIn[14], line 3\u001b[0;36m\u001b[0m\n\u001b[0;31m    result = await support_agent.run('What is my balance?', deps=deps)\u001b[0m\n\u001b[0m             ^\u001b[0m\n\u001b[0;31mSyntaxError\u001b[0m\u001b[0;31m:\u001b[0m 'await' outside async function\n"
     ]
    }
   ],
   "source": [
    "async def main():\n",
    "    deps = SupportDependencies(customer_id=123, db=DatabaseConn())\n",
    "    result = await support_agent.run('What is my balance?', deps=deps)  \n",
    "    print(result.data)  \n",
    "    \"\"\"\n",
    "    support_advice='Hello John, your current account balance, including pending transactions, is $123.45.' block_card=False risk=1\n",
    "    \"\"\"\n",
    "\n",
    "    result = await support_agent.run('I just lost my card!', deps=deps)\n",
    "    print(result.data)\n",
    "    \"\"\"\n",
    "    support_advice=\"I'm sorry to hear that, John. We are temporarily blocking your card to prevent unauthorized transactions.\" block_card=True risk=8\n",
    "    \"\"\""
   ]
  },
  {
   "cell_type": "code",
   "execution_count": 15,
   "id": "f67d618e-ba4c-4040-92a4-2afafdb0f58d",
   "metadata": {},
   "outputs": [
    {
     "name": "stderr",
     "output_type": "stream",
     "text": [
      "/var/folders/ry/1ct1kks556s6ffsdyjq1grdh0000gn/T/ipykernel_63201/296893016.py:3: LogfireNotConfiguredWarning: No logs or spans will be created until `logfire.configure()` has been called. Set the environment variable LOGFIRE_IGNORE_NO_CONFIG=1 or add ignore_no_config=true in pyproject.toml to suppress this warning.\n",
      "  result = await support_agent.run('What is my balance?', deps=deps)\n"
     ]
    },
    {
     "name": "stdout",
     "output_type": "stream",
     "text": [
      "support_advice='Your current account balance, including pending transactions, is $123.45.' block_card=False risk=0\n",
      "support_advice=\"I'm sorry to hear that you've lost your card, John. It's important to secure your account to prevent unauthorized transactions. I will block your card immediately to prevent misuse. Please visit the nearest bank branch or use our mobile app to request a replacement card.\" block_card=True risk=8\n"
     ]
    }
   ],
   "source": [
    "await main()\n",
    "\n"
   ]
  },
  {
   "cell_type": "code",
   "execution_count": null,
   "id": "b3f5cb73-ce0a-41ee-a51a-aed1efd28afa",
   "metadata": {},
   "outputs": [],
   "source": []
  }
 ],
 "metadata": {
  "kernelspec": {
   "display_name": "Python 3 (ipykernel)",
   "language": "python",
   "name": "python3"
  },
  "language_info": {
   "codemirror_mode": {
    "name": "ipython",
    "version": 3
   },
   "file_extension": ".py",
   "mimetype": "text/x-python",
   "name": "python",
   "nbconvert_exporter": "python",
   "pygments_lexer": "ipython3",
   "version": "3.13.1"
  }
 },
 "nbformat": 4,
 "nbformat_minor": 5
}
