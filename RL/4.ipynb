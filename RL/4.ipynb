{
 "cells": [
  {
   "cell_type": "markdown",
   "metadata": {},
   "source": [
    "# Monte Carlo Methods\n",
    "So far, we’ve seen how to evaluate and improve policies with a known model (DP) and how to handle simple bandits. Now we tackle model-free prediction and control using Monte Carlo (MC) methods. Monte Carlo methods learn from sample episodes — they require no knowledge of environment probabilities, only the ability to sample episodes by interacting with the environment.\n",
    "\n",
    "\n",
    "**Monte Carlo Prediction**: Estimate the value function $v_{\\pi}(s)$ by averaging returns observed after visits to state s under policy π\n",
    "\n",
    "**First-Visit vs Every-Visit MC**: Two ways to handle multiple visits to a state in an episode:\n",
    "- **First-Visit MC**: Only use the first time a state is visited in each episode to update its value\n",
    "- **Every-Visit MC**: Use every occurrence of the state in the episode to update the average (still converges to true value, but observations are not independent)\n",
    "\n",
    "**Monte Carlo Control**: \n",
    "Improve policy using MC estimates. Requires enough exploration through either:\n",
    "- Using Exploring Starts (start episodes in all state-action pairs eventually) or\n",
    "- Using $\\epsilon$-soft policies (policy that always has a non-zero chance to explore all actions)\n",
    "\n",
    "We will illustrate MC prediction and control on the Gambler's Problem (from section 2) for practice, and also demonstrate the concepts in the Grid World.\n",
    "\n",
    "## Monte Carlo Prediction (Policy Evaluation)\n",
    "\n",
    "Let’s return to the gambler environment (small version: goal=10, p=0.5) and evaluate the policy “always bet 1” via Monte Carlo simulation, instead of using the known probabilities.\n",
    "We will implement first-visit MC prediction:\n",
    "1. Simulate many episodes using the policy.\n",
    "2. For each episode, record the return $G_t$ from each state visited.\n",
    "3. Update the value estimate for the first visit of each state by averaging the returns.\n",
    "\n",
    "Because the reward is 0 until the end and 1 at goal, the return is essentially 1 if the episode ends in success, 0 if failure. So the value of a state is the probability of eventually succeeding from that state (as earlier)."
   ]
  },
  {
   "cell_type": "code",
   "execution_count": null,
   "metadata": {},
   "outputs": [],
   "source": [
    "import random\n",
    "\n",
    "# Gambler environment from state with always-bet-1 policy\n",
    "def generate_gambler_episode(start_capital, goal, p_head=0.5):\n",
    "    \"\"\"\n",
    "    Simulates one complete episode of the gambler's problem with a fixed bet-1 policy\n",
    "    Parameters:\n",
    "    - start_capital: Initial money the gambler has\n",
    "    - goal: Target amount to win\n",
    "    - p_head: Probability of winning each bet (default 0.5 for fair coin)\n",
    "    \"\"\"\n",
    "    episode = []\n",
    "    capital = start_capital\n",
    "    while capital not in (0, goal):\n",
    "        action = 1  # bet 1\n",
    "        next_capital = capital + 1 if random.random() < p_head else capital - 1\n",
    "        reward = 0  # no intermediate reward\n",
    "        episode.append((capital, action, reward))\n",
    "        capital = next_capital\n",
    "    # Append terminal state transition\n",
    "    final_reward = 1 if capital == goal else 0\n",
    "    episode.append((capital, None, final_reward))  # terminal state\n",
    "    return episode\n"
   ]
  },
  {
   "cell_type": "markdown",
   "metadata": {},
   "source": [
    "The final state is handled specially with `(capital, None, final_reward)` where:\n",
    "  - `None` for action because it's a terminal state\n",
    "  - `final_reward` is 1 if we reached the goal, 0 if we went bust\n",
    "Here's a simple example to illustrate:"
   ]
  },
  {
   "cell_type": "code",
   "execution_count": 2,
   "metadata": {},
   "outputs": [
    {
     "data": {
      "text/plain": [
       "[(2, 1, 0), (3, 1, 0), (2, 1, 0), (3, 1, 0), (4, None, 1)]"
      ]
     },
     "execution_count": 2,
     "metadata": {},
     "output_type": "execute_result"
    }
   ],
   "source": [
    "# Example episode with start_capital=2, goal=4, p_head=0.5 might look like:\n",
    "[(2, 1, 0),    # Start with $2, bet $1, no reward yet\n",
    " (3, 1, 0),    # Won first bet (now $3), bet $1, no reward yet\n",
    " (2, 1, 0),    # Lost second bet (back to $2), bet $1, no reward yet\n",
    " (3, 1, 0),    # Won third bet (now $3), bet $1, no reward yet\n",
    " (4, None, 1)] # Won fourth bet, reached goal, get reward of 1"
   ]
  },
  {
   "cell_type": "markdown",
   "metadata": {},
   "source": [
    "This function is crucial for Monte Carlo methods because it generates the experience samples we'll learn from. The complete episodes allow us to calculate actual returns (G) rather than estimated values.The structure (s,a,r) matches the standard format for reinforcement learning algorithms."
   ]
  },
  {
   "cell_type": "code",
   "execution_count": 1,
   "metadata": {},
   "outputs": [
    {
     "name": "stdout",
     "output_type": "stream",
     "text": [
      "MC estimated values for gambler states 1..9 (bet-1 policy):\n",
      "V(1) ≈ 0.10\n",
      "V(2) ≈ 0.19\n",
      "V(3) ≈ 0.29\n",
      "V(4) ≈ 0.39\n",
      "V(5) ≈ 0.50\n",
      "V(6) ≈ 0.60\n",
      "V(7) ≈ 0.70\n",
      "V(8) ≈ 0.81\n",
      "V(9) ≈ 0.91\n"
     ]
    }
   ],
   "source": [
    "# First-visit MC policy evaluation\n",
    "def mc_first_visit_value(start_states, goal, p_head, policy_func, episodes=10000):\n",
    "    values = {s: 0.0 for s in range(goal)}\n",
    "    returns_sum = {s: 0.0 for s in range(goal)}\n",
    "    returns_count = {s: 0 for s in range(goal)}\n",
    "\n",
    "    for _ in range(episodes):\n",
    "        # We can start episodes from a random state (to ensure exploring starts)\n",
    "        s0 = random.choice(start_states)\n",
    "        episode = []\n",
    "        capital = s0\n",
    "        # Generate episode following policy\n",
    "        while capital not in (0, goal):\n",
    "            bet = policy_func(capital)\n",
    "            next_capital = capital + bet if random.random() < p_head else capital - bet\n",
    "            reward = 0\n",
    "            episode.append((capital, reward))\n",
    "            capital = next_capital\n",
    "        # Terminal state reached\n",
    "        final_reward = 1 if capital == goal else 0\n",
    "        episode.append((capital, final_reward))\n",
    "        # Calculate returns backward\n",
    "        G = 0\n",
    "        visited = set()\n",
    "        for state, reward in reversed(episode):\n",
    "            G = reward + G  # since reward is 0 except final step (The terminal reward (0 or 1) propagates back)\n",
    "            if state not in visited and state not in (0, goal):\n",
    "                visited.add(state)\n",
    "                returns_sum[state] += G\n",
    "                returns_count[state] += 1\n",
    "                values[state] = returns_sum[state] / returns_count[state]\n",
    "    return values\n",
    "\n",
    "# Use MC to evaluate policy (always bet 1) for gambler states 1..9\n",
    "policy_bet1_func = lambda s: 1\n",
    "mc_values = mc_first_visit_value(start_states=range(1,10), goal=10, p_head=0.5, policy_func=policy_bet1_func, episodes=5000)\n",
    "print(\"MC estimated values for gambler states 1..9 (bet-1 policy):\")\n",
    "for s in range(1, 10):\n",
    "    print(f\"V({s}) ≈ {mc_values[s]:.2f}\")"
   ]
  },
  {
   "cell_type": "markdown",
   "metadata": {},
   "source": [
    "This should output values roughly increasing linearly from state 1 to 9 (similar to earlier simulation). More episodes yield a closer approximation.\n",
    "\n",
    "**Note**: We used exploring starts by starting episodes from random states to ensure each state gets visited enough. Otherwise, if we only started at state 5 every time, states like 1 or 9 might rarely be visited under the policy.\n",
    "\n",
    "The above code used first-visit MC. To switch to every-visit MC, we would remove the visited check and update every time a state appears. First-visit has the advantage that each state’s returns are i.i.d. samples of $v_{\\pi}(s)$ ￼.\n",
    "\n"
   ]
  },
  {
   "cell_type": "markdown",
   "metadata": {},
   "source": [
    "## Monte Carlo Control (Finding Optimal Policy)\n",
    "\n",
    "Now let’s try MC control to improve the policy. We’ll use the Exploring Starts approach first:\n",
    "- We will maintain an estimate of $Q(s,a)$ for each state-action.\n",
    "- We will generate episodes with exploring starts (start at random state with random action to ensure all pairs seen).\n",
    "- After each episode, we will update $Q(s,a)$ for the visited state-action pairs toward the observed returns.\n",
    "- Then we improve the policy greedily with respect to $Q$ (make it $\\epsilon$-soft if needed to continue exploration).\n",
    "\n",
    "For gambler’s problem:\n",
    "- State = capital (1 to 9 for goal=10).\n",
    "- Actions = bet amount (1 to min(s, goal-s)).\n",
    "You can't bet more money than you have (s) and Yyou don't want to bet more than needed to reach the goal (goal-s). We want to maximize the probability of reaching goal. \n",
    "\n",
    "Let’s implement MC Control with exploring starts for the gambler:"
   ]
  },
  {
   "cell_type": "code",
   "execution_count": 8,
   "metadata": {},
   "outputs": [
    {
     "name": "stdout",
     "output_type": "stream",
     "text": [
      "Learned optimal policy (bet amounts) for states 1..9:\n",
      "State 1: bet 1\n",
      "State 2: bet 2\n",
      "State 3: bet 3\n",
      "State 4: bet 4\n",
      "State 5: bet 5\n",
      "State 6: bet 4\n",
      "State 7: bet 3\n",
      "State 8: bet 2\n",
      "State 9: bet 1\n"
     ]
    }
   ],
   "source": [
    "import math\n",
    "\n",
    "# Monte Carlo Control with Exploring Starts for gambler\n",
    "def mc_control_gambler(goal=10, p_head=0.3, episodes=10000):\n",
    "    # Initialize Q and returns tracking\n",
    "    states = range(1, goal)  # 1..goal-1\n",
    "    # actions for each state: 1..min(s, goal-s)\n",
    "    actions = {s: list(range(1, min(s, goal-s) + 1)) for s in states}\n",
    "    Q = { (s,a): 0.0 for s in states for a in actions[s] }\n",
    "    returns_sum = { (s,a): 0.0 for s in states for a in actions[s] }\n",
    "    returns_count = { (s,a): 0 for s in states for a in actions[s] }\n",
    "    # Start with arbitrary policy (say always bet 1 initially)\n",
    "    policy = { s: 1 for s in states }\n",
    "    \n",
    "    for episode_num in range(episodes):\n",
    "        # Exploring start: pick random state and random action (not terminal)\n",
    "        s0 = random.choice(list(states))\n",
    "        a0 = random.choice(actions[s0])\n",
    "        # Generate episode starting from (s0, a0)\n",
    "        episode = []\n",
    "        capital = s0\n",
    "        action = a0\n",
    "        # Apply the first action from exploring start\n",
    "        next_capital = capital + action if random.random() < p_head else capital - action\n",
    "        reward = 0\n",
    "        episode.append((capital, action, reward))\n",
    "        capital = next_capital\n",
    "        # Follow current policy thereafter\n",
    "        while capital not in (0, goal):\n",
    "            a = policy[capital]\n",
    "            next_capital = capital + a if random.random() < p_head else capital - a\n",
    "            reward = 0\n",
    "            episode.append((capital, a, reward))\n",
    "            capital = next_capital\n",
    "        # Episode ended\n",
    "        final_reward = 1 if capital == goal else 0\n",
    "        episode.append((capital, None, final_reward))\n",
    "        \n",
    "        # Calculate returns G and update first-visit\n",
    "        G = 0\n",
    "        visited_sa = set()\n",
    "        for state, action, reward in reversed([(x,y,z) for (x,y,z) in episode]):\n",
    "            G = reward + G\n",
    "            if action is not None:  # skip terminal state in episode\n",
    "                sa = (state, action)\n",
    "                if sa not in visited_sa:\n",
    "                    visited_sa.add(sa)\n",
    "                    returns_sum[sa] += G\n",
    "                    returns_count[sa] += 1\n",
    "                    Q[sa] = returns_sum[sa] / returns_count[sa]\n",
    "                    # Improve policy for that state\n",
    "                    # Choose action with max Q\n",
    "                    best_a = max(actions[state], key=lambda a: Q[(state,a)])\n",
    "                    policy[state] = best_a\n",
    "    return policy, Q\n",
    "\n",
    "opt_policy, opt_Q = mc_control_gambler(goal=10, p_head=0.4, episodes=50000)\n",
    "print(\"Learned optimal policy (bet amounts) for states 1..9:\")\n",
    "for s in range(1, 10):\n",
    "    print(f\"State {s}: bet {opt_policy[s]}\")"
   ]
  },
  {
   "cell_type": "markdown",
   "metadata": {},
   "source": [
    "**Understanding Optimal Betting Strategy in the Gambler's Problem**\n",
    "\n",
    "When p < 0.5 (unfair coin), the optimal betting strategy might seem counterintuitive at first. Let's understand why making larger bets is actually optimal in this scenario.\n",
    "\n",
    "Consider a gambler who needs to win $3 with p = 0.4 (40% chance of winning each bet). They have two possible strategies:\n",
    "\n",
    "1. **Conservative Strategy**: Bet $1 three times\n",
    "   - Need to win all three bets to reach goal\n",
    "   - Probability = 0.4 * 0.4 * 0.4 = 0.064 (6.4% chance of success)\n",
    "\n",
    "2. **Aggressive Strategy**: Bet $3 once\n",
    "   - Need to win just one bet\n",
    "   - Probability = 0.4 (40% chance of success)\n",
    "\n",
    "The aggressive strategy is clearly superior here. This illustrates a fundamental principle: when the odds are against you (p < 0.5), making multiple small bets is worse than making fewer larger bets. This is because:\n",
    "\n",
    "- Each bet has an expected negative return\n",
    "- More bets means more opportunities for the negative expected value to manifest\n",
    "- The law of large numbers works against you, pushing your results toward the negative expected value\n",
    "- By making fewer, larger bets, you minimize exposure to the unfavorable odds\n",
    "\n",
    "This is why our Monte Carlo control algorithm, starting from a conservative \"bet 1\" policy, will eventually learn to make larger bets when p < 0.5. The Q-values for larger bets will yield higher expected returns, leading to policy improvement in this direction.\n",
    "\n",
    "**Note**: Monte Carlo might need many episodes to converge on the optimal policy, especially for nontrivial p. We used exploring starts to ensure all actions are tried. Without exploring starts, we could use an ε-greedy policy improvement (on-policy MC control) where we ensure the policy occasionally tries suboptimal actions ￼.\n",
    "\n",
    "#### Exercises\n",
    "\n",
    "**Exercise 1:** Implement Monte Carlo prediction and control for the Grid World environment. Compare the learned value functions and policies with those obtained from Dynamic Programming.\n",
    "\n",
    "**Exercise 2:** Apply Monte Carlo methods to learn optimal play in Blackjack, following the example in Sutton & Barto. Analyze how the learned strategy compares to basic strategy tables used by players.\n",
    "\n",
    "**Exercise 3:** Implement on-policy Monte Carlo control using an $\\epsilon$-soft policy instead of exploring starts:\n",
    "\n",
    "a) Initialize a policy $\\pi$ that is $\\epsilon$-greedy with respect to $Q$, ensuring $P(a|s) > 0$ for all state-action pairs.\n",
    "\n",
    "b) Generate complete episodes by following policy $\\pi$.\n",
    "\n",
    "c) For each state-action pair $(s,a)$ visited in the episode, update the action-value function $Q(s,a)$ using the observed returns.\n",
    "\n",
    "d) Improve policy $\\pi$ by making it more greedy with respect to $Q$ while maintaining $\\epsilon$-softness (i.e., ensure all actions still have some non-zero probability of being selected). Compare the learning performance with the exploring starts approach.\n",
    "\n",
    "\n",
    "## Summary\n",
    "\n",
    "Monte Carlo methods allow us to learn value functions and policies from experience:\n",
    "- We estimated values by averaging returns (the essence of Monte Carlo prediction)\n",
    "- We saw first-visit vs every-visit approaches, which both converge to true values\n",
    "- For control, we ensured sufficient exploration either via exploring starts or maintaining an ε-soft policy, then improved towards optimal by comparing action returns.\n",
    "- MC methods wait until an episode ends to update, which can be a downside for long episodes or continuing tasks.\n",
    "\n",
    "Next, we’ll explore Temporal-Difference (TD) Learning, which learns from incomplete episodes and combines ideas of Monte Carlo and DP.\n"
   ]
  }
 ],
 "metadata": {
  "kernelspec": {
   "display_name": "Python 3 (ipykernel)",
   "language": "python",
   "name": "python3"
  },
  "language_info": {
   "codemirror_mode": {
    "name": "ipython",
    "version": 3
   },
   "file_extension": ".py",
   "mimetype": "text/x-python",
   "name": "python",
   "nbconvert_exporter": "python",
   "pygments_lexer": "ipython3",
   "version": "3.13.1"
  }
 },
 "nbformat": 4,
 "nbformat_minor": 4
}
