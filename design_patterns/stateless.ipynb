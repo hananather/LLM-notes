{
 "cells": [
  {
   "cell_type": "markdown",
   "metadata": {},
   "source": [
    "Stateless Serving Function desgin patterns.\n",
    "\n",
    "A stateless function is a function whose outputs are determined purely by its inputs.\n",
    "\n",
    "A function that maintains a counter of the number of times it has been invoked and returns a different value is an example of a function that is statefull.\n",
    "\n",
    "\n"
   ]
  }
 ],
 "metadata": {
  "language_info": {
   "name": "python"
  }
 },
 "nbformat": 4,
 "nbformat_minor": 2
}
