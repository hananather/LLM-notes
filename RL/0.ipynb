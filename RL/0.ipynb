{
 "cells": [
  {
   "cell_type": "markdown",
   "id": "5920e78d-8800-4033-a2af-cb8e1696d385",
   "metadata": {},
   "source": [
    "# 0. Basic Probability Simulations\n",
    "Understanding reinforcement learning requires a solid grasp of probability and randomness. In this first notebook, we’ll explore basic probability concepts through simple Python simulations. By the end, you should feel comfortable drawing samples from different probability distributions and understanding concepts like expected value and variance in a hands-on way.\n",
    "### Introduction\n",
    "In reinforcement learning, an agent makes decisions in the face of uncertainty. Outcomes are often random, so we need to understand probability to predict and evaluate an agent’s performance. We’ll start with simple simulations:\n",
    "- Coin flips and dice rolls: Drawing samples from discrete distributions.\n",
    "- Continuous distributions: Sampling from distributions like uniform and normal.\n",
    "- Estimating probabilities: Using simulations to verify theoretical expectations (Law of Large Numbers).\n",
    "- Expected value: Understanding the average outcome of a random process.\n",
    "\n",
    "Let’s begin by simulating some basic random events.\n",
    "\n",
    "### Simulating a Fair Coin Flip"
   ]
  },
  {
   "cell_type": "code",
   "execution_count": 1,
   "id": "e34ed268-e5fc-4924-b5aa-47ddb19008dc",
   "metadata": {},
   "outputs": [
    {
     "name": "stdout",
     "output_type": "stream",
     "text": [
      "Out of 10 flips, got Heads = 6\n"
     ]
    }
   ],
   "source": [
    "import random\n",
    "\n",
    "# Simulate 10 coin flips and count Heads\n",
    "num_flips = 10\n",
    "heads_count = 0\n",
    "for i in range(num_flips):\n",
    "    flip = random.random()  # uniform [0,1)\n",
    "    if flip < 0.5:\n",
    "        heads_count += 1\n",
    "\n",
    "print(f\"Out of {num_flips} flips, got Heads = {heads_count}\")"
   ]
  },
  {
   "cell_type": "code",
   "execution_count": 4,
   "id": "2c72d611-7d13-4ded-a5f4-7a1b547879cb",
   "metadata": {},
   "outputs": [
    {
     "name": "stdout",
     "output_type": "stream",
     "text": [
      "Average Heads in 10 flips (over 1000 trials) = 4.95\n"
     ]
    }
   ],
   "source": [
    "import math\n",
    "\n",
    "trials = 1000\n",
    "total_heads = 0\n",
    "for t in range(trials):\n",
    "    heads = 0\n",
    "    for i in range(num_flips):\n",
    "        if random.random() < 0.5:\n",
    "            heads += 1\n",
    "    total_heads += heads\n",
    "\n",
    "avg_heads = total_heads / trials\n",
    "print(f\"Average Heads in {num_flips} flips (over {trials} trials) = {avg_heads:.2f}\")"
   ]
  },
  {
   "cell_type": "markdown",
   "id": "d13eb817-8914-4dca-acc3-b70ea47ea992",
   "metadata": {},
   "source": [
    "### Simulating a Six-Sided Die Roll"
   ]
  },
  {
   "cell_type": "code",
   "execution_count": 5,
   "id": "fbd47472-3c90-49cb-8839-bcd1807333b8",
   "metadata": {},
   "outputs": [
    {
     "name": "stdout",
     "output_type": "stream",
     "text": [
      "20 die rolls: [4, 2, 2, 3, 6, 3, 2, 6, 5, 5, 1, 5, 3, 5, 4, 3, 4, 1, 3, 5]\n",
      "Average roll value: 3.6\n"
     ]
    }
   ],
   "source": [
    "outcomes = [random.randint(1, 6) for _ in range(20)]\n",
    "print(\"20 die rolls:\", outcomes)\n",
    "print(\"Average roll value:\", sum(outcomes)/len(outcomes))"
   ]
  },
  {
   "cell_type": "code",
   "execution_count": 6,
   "id": "094425f4-2120-4506-a7a2-ec5e675ba1cd",
   "metadata": {},
   "outputs": [
    {
     "name": "stdout",
     "output_type": "stream",
     "text": [
      "10 flips of a biased 70/30 coin: ['T', 'T', 'H', 'H', 'T', 'H', 'H', 'T', 'H', 'T']\n",
      "Number of Heads: 5\n"
     ]
    }
   ],
   "source": [
    "outcomes = random.choices([\"H\", \"T\"], weights=[0.7, 0.3], k=10)\n",
    "print(\"10 flips of a biased 70/30 coin:\", outcomes)\n",
    "print(\"Number of Heads:\", outcomes.count(\"H\"))"
   ]
  },
  {
   "cell_type": "markdown",
   "id": "57d7f61c-1618-498f-a4fd-24066bbbe8f1",
   "metadata": {},
   "source": [
    "### Sampling from Continuous Distributions\n",
    "\n",
    "Beyond discrete outcomes, many processes produce continuous-valued outcomes. For example, an agent’s sensor reading might be normally distributed noise, or time between events might be exponentially distributed.\n",
    "\n",
    "Let’s draw samples from a normal distribution with mean 0 and standard deviation 1 (standard normal). We’ll generate 5 samples:"
   ]
  },
  {
   "cell_type": "code",
   "execution_count": 7,
   "id": "df356324-9ea8-4a61-832d-c3d6911a1e5e",
   "metadata": {},
   "outputs": [
    {
     "name": "stdout",
     "output_type": "stream",
     "text": [
      "Normal sample: -1.252\n",
      "Normal sample: -0.559\n",
      "Normal sample: 0.812\n",
      "Normal sample: -1.397\n",
      "Normal sample: 0.005\n"
     ]
    }
   ],
   "source": [
    "for _ in range(5):\n",
    "    sample = random.gauss(0, 1)  # or random.normalvariate(0,1)\n",
    "    print(f\"Normal sample: {sample:.3f}\")"
   ]
  },
  {
   "cell_type": "markdown",
   "id": "5b8597b2-0af7-42d5-a241-ac853182a57a",
   "metadata": {},
   "source": [
    "This hands-on practice with probability will be valuable as we move into reinforcement learning. An RL agent’s rewards and state transitions are often random, so understanding distributions will help in designing and evaluating learning algorithms.\n",
    "\n",
    "In the next notebook, we’ll create a simple gambling scenario to start applying these concepts to decision-making problems."
   ]
  },
  {
   "cell_type": "markdown",
   "id": "48081313-017c-47f7-b5e4-b2232144da00",
   "metadata": {},
   "source": [
    "1. **Exercise**: Generate 10,000 samples from random.gauss(0,1). Compute the average and standard deviation of these samples to confirm they are close to 0 and 1, respectively. (Hint: Use sum(samples)/N for mean, and (sum((x-mean)**2 for x in samples)/N)**0.5 for standard deviation.)"
   ]
  }
 ],
 "metadata": {
  "kernelspec": {
   "display_name": "Python 3 (ipykernel)",
   "language": "python",
   "name": "python3"
  },
  "language_info": {
   "codemirror_mode": {
    "name": "ipython",
    "version": 3
   },
   "file_extension": ".py",
   "mimetype": "text/x-python",
   "name": "python",
   "nbconvert_exporter": "python",
   "pygments_lexer": "ipython3",
   "version": "3.13.1"
  }
 },
 "nbformat": 4,
 "nbformat_minor": 5
}
