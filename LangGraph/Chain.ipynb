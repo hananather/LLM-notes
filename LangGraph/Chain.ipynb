{
 "cells": [
  {
   "cell_type": "code",
   "execution_count": 1,
   "metadata": {},
   "outputs": [],
   "source": [
    "import os\n",
    "from pprint import pprint\n",
    "from langchain_core.messages import AIMessage, HumanMessage, SystemMessage\n",
    "from langchain_openai import AzureChatOpenAI\n",
    "from langgraph.graph import StateGraph, END\n"
   ]
  },
  {
   "cell_type": "code",
   "execution_count": 2,
   "metadata": {},
   "outputs": [
    {
     "name": "stdout",
     "output_type": "stream",
     "text": [
      "==================================\u001b[1m Ai Message \u001b[0m==================================\n",
      "Name: Model\n",
      "\n",
      "So you want to learn more about converting SAS code to Python code?\n",
      "================================\u001b[1m Human Message \u001b[0m=================================\n",
      "Name: Hanan\n",
      "\n",
      "Yeah, that's right.\n",
      "==================================\u001b[1m Ai Message \u001b[0m==================================\n",
      "Name: Model\n",
      "\n",
      "Is there something specific you wanted me to help you with Converting SAS code to Python?\n",
      "================================\u001b[1m Human Message \u001b[0m=================================\n",
      "Name: Hanan\n",
      "\n",
      "I want to learn the best practices for using LLMs to convert a SAS program into a Python program.\n"
     ]
    }
   ],
   "source": [
    "messages = [AIMessage(content=f\"So you want to learn more about converting SAS code to Python code?\", name='Model')]\n",
    "messages.extend([HumanMessage(content=f\"Yeah, that's right.\", name = 'Hanan')])\n",
    "messages.extend([AIMessage(content=f\"Is there something specific you wanted me to help you with Converting SAS code to Python?\", name='Model')])\n",
    "messages.extend([HumanMessage(content=f\"I want to learn the best practices for using LLMs to convert a SAS program into a Python program.\", name = 'Hanan')])\n",
    "\n",
    "for m in messages:\n",
    "    m.pretty_print()"
   ]
  },
  {
   "cell_type": "markdown",
   "metadata": {},
   "source": [
    "### What’s happening under the hood\n",
    "\n",
    "The `AzureChatOpenAI` class really just wraps the official OpenAI Python client and uses **Pydantic’s BaseSettings** to pull defaults from well-known environment variables.  Its key constructor signature (simplified) looks like:\n",
    "\n",
    "```python\n",
    "AzureChatOpenAI(\n",
    "    azure_deployment: str,\n",
    "    api_version: str,\n",
    "    azure_api_key: SecretStr = None,\n",
    "    azure_endpoint: str    = None,\n",
    "    **kwargs\n",
    ")\n",
    "```\n",
    "- `azure_api_key`\n",
    "- If you don’t pass it, LangChain will look for `AZURE_OPENAI_API_KEY`.\n",
    "– `azure_endpoint`\n",
    "– If you don’t pass it, LangChain will look for `AZURE_OPENAI_ENDPOINT`.\n",
    "– `azure_deployment`\n",
    "– No default: you must supply the name of your model deployment (e.g. \"gpt-35-turbo\").\n",
    "– `api_version`\n",
    "–  No default: you must supply the Azure OpenAI API version (e.g. \"2023-06-01-preview\").\n",
    "\n",
    "Under the covers it does roughly:"
   ]
  },
  {
   "cell_type": "markdown",
   "metadata": {},
   "source": []
  },
  {
   "cell_type": "code",
   "execution_count": 9,
   "metadata": {},
   "outputs": [],
   "source": [
    "llm = AzureChatOpenAI(\n",
    "    azure_deployment= os.environ[\"AZURE_OPENAI_DEPLOYMENT\"],\n",
    "    api_version= os.environ[\"AZURE_OPENAI_API_VERSION\"],\n",
    ")\n",
    "result = llm.invoke(messages)\n"
   ]
  },
  {
   "cell_type": "code",
   "execution_count": 10,
   "metadata": {},
   "outputs": [],
   "source": [
    "from IPython.display import display, HTML\n",
    "\n",
    "def wrap_output(text, width=100):\n",
    "    display(HTML(f\"\"\"\n",
    "    <div style=\"white-space: pre-wrap; word-wrap: break-word; width: {width}%;\">\n",
    "        {text}\n",
    "    </div>\n",
    "    \"\"\"))"
   ]
  },
  {
   "cell_type": "code",
   "execution_count": 11,
   "metadata": {},
   "outputs": [
    {
     "data": {
      "text/plain": [
       "AIMessage(content=\"Here are some best practices to follow when using large language models (LLMs) to convert a SAS program into a Python program:\\n\\n1. Clarify Your Objectives and Context:\\n   • Define what “conversion” means in your case. Are you after a literal translation of SAS code logic to Python code (for example, converting DATA steps and PROC procedures to Pandas or NumPy operations) or a complete rewrite that takes advantage of Python best practices?\\n   • Provide context about the SAS environment (e.g., use of macros, specific PROC steps) and what libraries or frameworks in Python you plan to adopt (like Pandas, NumPy, or specialized statistical libraries).\\n\\n2. Break Down the SAS Program into Manageable Parts:\\n   • Instead of pasting an entire SAS script, segment it into smaller, logically isolated parts (data import steps, data transformation, analysis procedures).\\n   • Ask the LLM to convert each segment. It makes it easier to review, test, and adjust as needed.\\n   • Iterative conversion can help you verify each translated section against expected outcomes.\\n\\n3. Compose Clear and Specific Prompts:\\n   • Instruct the LLM about your context. For example: “Convert the following SAS code that performs data cleaning and summarization into Python using Pandas. Maintain similar data manipulation logic.”\\n   • If your SAS code includes custom macros or functions, explain how they work to the LLM or ask for them to be rewritten as functions in Python.\\n   • Provide any necessary domain-specific details, e.g., if the SAS code deals with statistical procedures, specify whether you want to use libraries like StatsModels or SciPy.\\n\\n4. Validate the Conversion:\\n   • After conversion, run the resulting Python code in an isolated test environment. Comparing outputs between the SAS and Python versions is essential.\\n   • Use validation techniques like unit tests or side-by-side comparisons on sample data to ensure accuracy.\\n\\n5. Use an Iterative Refinement Approach:\\n   • You might not get a perfect conversion on the first try. Once you have a draft conversion from the LLM, test it and identify any logic discrepancies.\\n   • Prompt the LLM with follow-up questions or clarifications. For instance: “The conversion of this particular PROC SUMMARY section did not handle grouping correctly. Can you modify the code to group by the 'Category' field and calculate the mean for 'Sales'?”\\n\\n6. Incorporate Comments and Explanations:\\n   • Ask the LLM to add comments in the Python code explaining each step, especially if the original SAS code contains complex logic. This helps with future maintenance and debugging.\\n   • In your prompt, you could say: “Generate the code with detailed inline comments explaining how each step corresponds to the SAS code logic.”\\n\\n7. Double-Check Data Types and Library Functions:\\n   • SAS and Python (especially with Pandas) handle data types and missing values differently. Guide the LLM to consider potential pitfalls like date formats, factor levels, or numeric precision.\\n   • Request that the generated Python code makes explicit data type conversions or uses Pandas functions that closely mirror the SAS behavior.\\n\\n8. Document Your Workflow:\\n   • Keep track of the prompts and conversions as documentation for future reference. This record will be invaluable if you need to update or debug the translated code.\\n   • An annotated “code conversion journal” can help you understand the sequence of transformations, decisions made, and any manual adjustments after the LLM conversion.\\n\\n9. Experiment with Different Model Prompts:\\n   • If the LLM initially produces code that isn’t quite right, tweak your prompt by providing more context, examples, or even small code snippets as references.\\n   • Use the chain-of-thought method by asking the LLM to first explain what it understands about the SAS code before generating the Python code. This approach helps clarify potential misunderstandings.\\n\\n10. Validate Against Known Edge Cases:\\n   • Test how the converted Python code handles edge cases or errors that might have been implicitly well managed in SAS. For example, check how missing data is propagated, or how loop and conditional logic is translated.\\n   • Ask the LLM for advice on handling any specific SAS language quirks that may not have a direct equivalent in Python.\\n\\nBy following these best practices, you set the stage for a more manageable, understandable, and accurate translation process. The key is iterative interaction—guiding the LLM with detailed, context-rich prompts and validating its outputs carefully.\", additional_kwargs={'refusal': None}, response_metadata={'token_usage': {'completion_tokens': 1166, 'prompt_tokens': 85, 'total_tokens': 1251, 'completion_tokens_details': {'accepted_prediction_tokens': 0, 'audio_tokens': 0, 'reasoning_tokens': 256, 'rejected_prediction_tokens': 0}, 'prompt_tokens_details': {'audio_tokens': 0, 'cached_tokens': 0}}, 'model_name': 'o3-mini-2025-01-31', 'system_fingerprint': 'fp_ded0d14823', 'id': 'chatcmpl-BPepc1DZUKDLAmBVVipj6euYBEgpR', 'prompt_filter_results': [{'prompt_index': 0, 'content_filter_results': {'hate': {'filtered': False, 'severity': 'safe'}, 'jailbreak': {'filtered': False, 'detected': False}, 'self_harm': {'filtered': False, 'severity': 'safe'}, 'sexual': {'filtered': False, 'severity': 'safe'}, 'violence': {'filtered': False, 'severity': 'safe'}}}], 'finish_reason': 'stop', 'logprobs': None, 'content_filter_results': {'hate': {'filtered': False, 'severity': 'safe'}, 'protected_material_code': {'filtered': False, 'detected': False}, 'protected_material_text': {'filtered': False, 'detected': False}, 'self_harm': {'filtered': False, 'severity': 'safe'}, 'sexual': {'filtered': False, 'severity': 'safe'}, 'violence': {'filtered': False, 'severity': 'safe'}}}, id='run-2a81662d-7346-49ca-96d7-64a0d927c1cc-0', usage_metadata={'input_tokens': 85, 'output_tokens': 1166, 'total_tokens': 1251, 'input_token_details': {'audio': 0, 'cache_read': 0}, 'output_token_details': {'audio': 0, 'reasoning': 256}})"
      ]
     },
     "execution_count": 11,
     "metadata": {},
     "output_type": "execute_result"
    }
   ],
   "source": [
    "result"
   ]
  },
  {
   "cell_type": "code",
   "execution_count": 15,
   "metadata": {},
   "outputs": [
    {
     "data": {
      "text/html": [
       "\n",
       "    <div style=\"white-space: pre-wrap; word-wrap: break-word; width: 100%;\">\n",
       "        content='Here are some best practices when using large language models (LLMs) to convert a SAS program to Python:\\n\\n1. Clarify your objective and scope:\\n   • Define the goal. Are you converting the entire SAS program or only parts of it? For example, identify whether you need to convert data manipulation, statistical modeling, reporting, or all of it.\\n   • Specify whether you are interested in maintaining the original logic and outcomes or if you plan to re-engineer parts of the code to leverage Python libraries like pandas, NumPy, or statsmodels.\\n\\n2. Provide detailed context and segmented inputs:\\n   • Break your SAS code into logical sections (data preparation, analysis, reporting) and present them piece by piece. This helps the LLM handle smaller, focused chunks rather than one massive code blob.\\n   • Include comments or context explaining the purpose of each section. For instance, “This step aggregates monthly sales data” gives the LLM insight into how to best mimic functionality in Python.\\n\\n3. Use clear and structured prompts:\\n   • State your instructions explicitly. An example could be, “Convert this SAS data transformation step to equivalent Python using pandas,” or “Rewrite this SAS PROC step in Python code with clear comments.”\\n   • If the logic is complex, add follow-up questions asking for explanations or specifying how to handle certain SAS-specific functions.\\n\\n4. Emphasize iterative refinement:\\n   • Treat the conversion as an iterative process. Start with an initial translation, review the output, and then ask for modifications or clarifications.\\n   • If the initial output isn’t perfect, provide feedback like \"The code isn’t handling missing values as expected\" and ask for adjustments.\\n   • Use a sequence of prompts to control different sections of the conversion.\\n\\n5. Validate the generated Python code:\\n   • Once you have a Python version, test it on sample data to ensure that it replicates the SAS program’s functionality.\\n   • Compare outputs from both systems where possible. The LLM’s translation might not always capture nuances like SAS’s default data handling or precision settings, so manual verification is important.\\n   \\n6. Research SAS-Python equivalencies:\\n   • Be aware of the major distinctions between SAS procedures and Python libraries, and consider researching equivalent libraries or functions in Python.\\n   • For example, SAS PROC SQL might translate into Python’s pandas or SQLAlchemy code, while statistical procedures in SAS might be best replicated with libraries such as statsmodels or scikit-learn.\\n\\n7. Leverage advanced features or prompt engineering:\\n   • If the LLM supports it, use system messages or meta prompts to instruct it on the style you want (e.g., “Explain your reasoning” or “Include comments in the generated code”).\\n   • Use follow-up prompts to ask the LLM to verify the logic step-by-step or highlight any assumptions it made.\\n\\n8. Maintain documentation and version control:\\n   • Keep a record of the original SAS logic and the Python conversion. This is useful for debugging and future maintenance.\\n   • Document any modifications or enhancements made during the conversion process.\\n\\nBy following these best practices, you’ll harness the strengths of LLMs effectively in your SAS-to-Python migration efforts while also ensuring that the translated code remains correct, maintainable, and aligned with your project’s requirements.' additional_kwargs={'refusal': None} response_metadata={'token_usage': {'completion_tokens': 996, 'prompt_tokens': 85, 'total_tokens': 1081, 'completion_tokens_details': {'accepted_prediction_tokens': 0, 'audio_tokens': 0, 'reasoning_tokens': 320, 'rejected_prediction_tokens': 0}, 'prompt_tokens_details': {'audio_tokens': 0, 'cached_tokens': 0}}, 'model_name': 'o3-mini-2025-01-31', 'system_fingerprint': 'fp_db33bdfc5e', 'id': 'chatcmpl-BOowgNeqHCjoDyBmcce87xH9d6Zxe', 'prompt_filter_results': [{'prompt_index': 0, 'content_filter_results': {'hate': {'filtered': False, 'severity': 'safe'}, 'jailbreak': {'filtered': False, 'detected': False}, 'self_harm': {'filtered': False, 'severity': 'safe'}, 'sexual': {'filtered': False, 'severity': 'safe'}, 'violence': {'filtered': False, 'severity': 'safe'}}}], 'finish_reason': 'stop', 'logprobs': None, 'content_filter_results': {'hate': {'filtered': False, 'severity': 'safe'}, 'protected_material_code': {'filtered': False, 'detected': False}, 'protected_material_text': {'filtered': False, 'detected': False}, 'self_harm': {'filtered': False, 'severity': 'safe'}, 'sexual': {'filtered': False, 'severity': 'safe'}, 'violence': {'filtered': False, 'severity': 'safe'}}} id='run-567b1e39-f590-42d0-b881-6a93d3db7e8a-0' usage_metadata={'input_tokens': 85, 'output_tokens': 996, 'total_tokens': 1081, 'input_token_details': {'audio': 0, 'cache_read': 0}, 'output_token_details': {'audio': 0, 'reasoning': 320}}\n",
       "    </div>\n",
       "    "
      ],
      "text/plain": [
       "<IPython.core.display.HTML object>"
      ]
     },
     "metadata": {},
     "output_type": "display_data"
    }
   ],
   "source": [
    "wrap_output(result)"
   ]
  },
  {
   "cell_type": "code",
   "execution_count": 16,
   "metadata": {},
   "outputs": [
    {
     "data": {
      "text/plain": [
       "{'token_usage': {'completion_tokens': 996,\n",
       "  'prompt_tokens': 85,\n",
       "  'total_tokens': 1081,\n",
       "  'completion_tokens_details': {'accepted_prediction_tokens': 0,\n",
       "   'audio_tokens': 0,\n",
       "   'reasoning_tokens': 320,\n",
       "   'rejected_prediction_tokens': 0},\n",
       "  'prompt_tokens_details': {'audio_tokens': 0, 'cached_tokens': 0}},\n",
       " 'model_name': 'o3-mini-2025-01-31',\n",
       " 'system_fingerprint': 'fp_db33bdfc5e',\n",
       " 'id': 'chatcmpl-BOowgNeqHCjoDyBmcce87xH9d6Zxe',\n",
       " 'prompt_filter_results': [{'prompt_index': 0,\n",
       "   'content_filter_results': {'hate': {'filtered': False, 'severity': 'safe'},\n",
       "    'jailbreak': {'filtered': False, 'detected': False},\n",
       "    'self_harm': {'filtered': False, 'severity': 'safe'},\n",
       "    'sexual': {'filtered': False, 'severity': 'safe'},\n",
       "    'violence': {'filtered': False, 'severity': 'safe'}}}],\n",
       " 'finish_reason': 'stop',\n",
       " 'logprobs': None,\n",
       " 'content_filter_results': {'hate': {'filtered': False, 'severity': 'safe'},\n",
       "  'protected_material_code': {'filtered': False, 'detected': False},\n",
       "  'protected_material_text': {'filtered': False, 'detected': False},\n",
       "  'self_harm': {'filtered': False, 'severity': 'safe'},\n",
       "  'sexual': {'filtered': False, 'severity': 'safe'},\n",
       "  'violence': {'filtered': False, 'severity': 'safe'}}}"
      ]
     },
     "execution_count": 16,
     "metadata": {},
     "output_type": "execute_result"
    }
   ],
   "source": [
    "result.response_metadata"
   ]
  },
  {
   "cell_type": "code",
   "execution_count": 22,
   "metadata": {},
   "outputs": [
    {
     "data": {
      "text/plain": [
       "AIMessage(content='', additional_kwargs={'tool_calls': [{'id': 'call_oQPU4SDZahMzryB702n8BCJy', 'function': {'arguments': '{\"a\": 2, \"b\": 3}', 'name': 'multiply'}, 'type': 'function'}], 'refusal': None}, response_metadata={'token_usage': {'completion_tokens': 92, 'prompt_tokens': 100, 'total_tokens': 192, 'completion_tokens_details': {'accepted_prediction_tokens': 0, 'audio_tokens': 0, 'reasoning_tokens': 64, 'rejected_prediction_tokens': 0}, 'prompt_tokens_details': {'audio_tokens': 0, 'cached_tokens': 0}}, 'model_name': 'o3-mini-2025-01-31', 'system_fingerprint': 'fp_ded0d14823', 'id': 'chatcmpl-BOpFh4Ok1VhcOhF4c2oolCpWlViLM', 'prompt_filter_results': [{'prompt_index': 0, 'content_filter_results': {'hate': {'filtered': False, 'severity': 'safe'}, 'jailbreak': {'filtered': False, 'detected': False}, 'self_harm': {'filtered': False, 'severity': 'safe'}, 'sexual': {'filtered': False, 'severity': 'safe'}, 'violence': {'filtered': False, 'severity': 'safe'}}}], 'finish_reason': 'tool_calls', 'logprobs': None, 'content_filter_results': {}}, id='run-51158d44-d893-49aa-9aee-7d3888c38cc5-0', tool_calls=[{'name': 'multiply', 'args': {'a': 2, 'b': 3}, 'id': 'call_oQPU4SDZahMzryB702n8BCJy', 'type': 'tool_call'}], usage_metadata={'input_tokens': 100, 'output_tokens': 92, 'total_tokens': 192, 'input_token_details': {'audio': 0, 'cache_read': 0}, 'output_token_details': {'audio': 0, 'reasoning': 64}})"
      ]
     },
     "execution_count": 22,
     "metadata": {},
     "output_type": "execute_result"
    }
   ],
   "source": [
    "def multiply(a: int, b: int) -> int:\n",
    "    \"\"\"Multiplies two integers together and returns the result.\n",
    "    \n",
    "    This function performs basic integer multiplication. It is designed to be used\n",
    "    as a simple arithmetic operation tool for LLMs.\n",
    "    \n",
    "    Args:\n",
    "        a (int): The first integer to multiply\n",
    "        b (int): The second integer to multiply\n",
    "    \"\"\"\n",
    "    return a * b\n",
    "\n",
    "llm_with_tools = llm.bind_tools([multiply])\n",
    "\n",
    "\n",
    "tool_call = llm_with_tools.invoke([HumanMessage(content=f\"what is 2 multiplied by 3\", name='Hanan')])\n",
    "tool_call"
   ]
  },
  {
   "cell_type": "code",
   "execution_count": 23,
   "metadata": {},
   "outputs": [
    {
     "data": {
      "text/plain": [
       "[{'id': 'call_oQPU4SDZahMzryB702n8BCJy',\n",
       "  'function': {'arguments': '{\"a\": 2, \"b\": 3}', 'name': 'multiply'},\n",
       "  'type': 'function'}]"
      ]
     },
     "execution_count": 23,
     "metadata": {},
     "output_type": "execute_result"
    }
   ],
   "source": [
    "tool_call.additional_kwargs['tool_calls']"
   ]
  },
  {
   "cell_type": "code",
   "execution_count": 25,
   "metadata": {},
   "outputs": [],
   "source": [
    "from typing import TypedDict, Annotated\n",
    "from langchain_core.messages import AnyMessage\n",
    "from langgraph.graph.message import add_messages\n",
    "\n",
    "class MessagesState(TypedDict):\n",
    "    messages: Annotated[list[AnyMessage], add_messages]"
   ]
  },
  {
   "cell_type": "code",
   "execution_count": 26,
   "metadata": {},
   "outputs": [
    {
     "data": {
      "text/plain": [
       "[AIMessage(content='So you want to learn more about converting SAS code to Python code?', additional_kwargs={}, response_metadata={}, name='Model', id='eb803490-6599-46b0-8893-6999ce359cc0'),\n",
       " HumanMessage(content=\"Yeah, that's right.\", additional_kwargs={}, response_metadata={}, name='Hanan', id='bb417994-ca34-4b00-bd88-e9a2342eea02'),\n",
       " AIMessage(content='Is there something specific you wanted me to help you with Converting SAS code to Python?', additional_kwargs={}, response_metadata={}, name='Model', id='c8eac579-3d86-4883-8889-bd7a3bbc72fd')]"
      ]
     },
     "execution_count": 26,
     "metadata": {},
     "output_type": "execute_result"
    }
   ],
   "source": [
    "initial_messages = [AIMessage(content=f\"So you want to learn more about converting SAS code to Python code?\", name='Model'), \n",
    "                    HumanMessage(content=f\"Yeah, that's right.\", name = 'Hanan')]\n",
    "\n",
    "# New message to add\n",
    "new_message = [AIMessage(content=f\"Is there something specific you wanted me to help you with Converting SAS code to Python?\", name='Model')]\n",
    "\n",
    "#test\n",
    "add_messages(initial_messages, new_message)"
   ]
  },
  {
   "cell_type": "code",
   "execution_count": 28,
   "metadata": {},
   "outputs": [
    {
     "data": {
      "image/png": "[encoded data removed]",
      "text/plain": [
       "<IPython.core.display.Image object>"
      ]
     },
     "metadata": {},
     "output_type": "display_data"
    }
   ],
   "source": [
    "from IPython.display import Image, display\n",
    "from langgraph.graph import StateGraph, START, END\n",
    "from langgraph.prebuilt import ToolNode\n",
    "# State\n",
    "\n",
    "class MessagesState(MessagesState):\n",
    "    # Add any keys needed beyond messages, which is pre-built\n",
    "    pass\n",
    "\n",
    "# Node\n",
    "\n",
    "def tool_calling_llm(state: MessagesState):\n",
    "    return {\"messages\": [llm_with_tools.invoke(state[\"messages\"])]}\n",
    "\n",
    "# Build a graph\n",
    "builder = StateGraph(MessagesState)\n",
    "builder.add_node(\"tool_calling_llm\", tool_calling_llm)\n",
    "builder.add_edge(START, \"tool_calling_llm\")\n",
    "builder.add_edge(\"tool_calling_llm\", END)\n",
    "graph = builder.compile()\n",
    "\n",
    "# view\n",
    "display(Image(graph.get_graph().draw_mermaid_png()))\n",
    "\n",
    "\n",
    "\n",
    "\n",
    "\n",
    "\n"
   ]
  },
  {
   "cell_type": "code",
   "execution_count": 31,
   "metadata": {},
   "outputs": [],
   "source": [
    "messages = graph.invoke({\"messages\":  [HumanMessage(content=\"Hello\")]})"
   ]
  },
  {
   "cell_type": "code",
   "execution_count": 32,
   "metadata": {},
   "outputs": [
    {
     "data": {
      "text/plain": [
       "{'messages': [AIMessage(content='Hello! How can I help you today?', additional_kwargs={'refusal': None}, response_metadata={'token_usage': {'completion_tokens': 87, 'prompt_tokens': 91, 'total_tokens': 178, 'completion_tokens_details': {'accepted_prediction_tokens': 0, 'audio_tokens': 0, 'reasoning_tokens': 64, 'rejected_prediction_tokens': 0}, 'prompt_tokens_details': {'audio_tokens': 0, 'cached_tokens': 0}}, 'model_name': 'o3-mini-2025-01-31', 'system_fingerprint': 'fp_ded0d14823', 'id': 'chatcmpl-BOqBS6HQV0qgq7fxSjLmrru1bBeUF', 'prompt_filter_results': [{'prompt_index': 0, 'content_filter_results': {'hate': {'filtered': False, 'severity': 'safe'}, 'jailbreak': {'filtered': False, 'detected': False}, 'self_harm': {'filtered': False, 'severity': 'safe'}, 'sexual': {'filtered': False, 'severity': 'safe'}, 'violence': {'filtered': False, 'severity': 'safe'}}}], 'finish_reason': 'stop', 'logprobs': None, 'content_filter_results': {'hate': {'filtered': False, 'severity': 'safe'}, 'protected_material_code': {'filtered': False, 'detected': False}, 'protected_material_text': {'filtered': False, 'detected': False}, 'self_harm': {'filtered': False, 'severity': 'safe'}, 'sexual': {'filtered': False, 'severity': 'safe'}, 'violence': {'filtered': False, 'severity': 'safe'}}}, id='run-8c1e8e57-385a-43ce-858f-806035182864-0', usage_metadata={'input_tokens': 91, 'output_tokens': 87, 'total_tokens': 178, 'input_token_details': {'audio': 0, 'cache_read': 0}, 'output_token_details': {'audio': 0, 'reasoning': 64}})]}"
      ]
     },
     "execution_count": 32,
     "metadata": {},
     "output_type": "execute_result"
    }
   ],
   "source": [
    "messages"
   ]
  },
  {
   "cell_type": "code",
   "execution_count": 39,
   "metadata": {},
   "outputs": [
    {
     "data": {
      "image/png": "[encoded data removed]",
      "text/plain": [
       "<IPython.core.display.Image object>"
      ]
     },
     "metadata": {},
     "output_type": "display_data"
    }
   ],
   "source": [
    "from langgraph.prebuilt import ToolNode\n",
    "from langgraph.prebuilt import tools_condition\n",
    "from langgraph.graph import MessagesState\n",
    "\n",
    "\n",
    "class MessagesState(MessagesState):\n",
    "    # Add any keys needed beyond messages, which is pre-built\n",
    "    pass\n",
    "\n",
    "# Node\n",
    "\n",
    "def tool_calling_llm(state: MessagesState):\n",
    "    return {\"messages\": [llm_with_tools.invoke(state[\"messages\"])]}\n",
    "\n",
    "# Build a graph\n",
    "builder = StateGraph(MessagesState)\n",
    "builder.add_node(\"tool_calling_llm\", tool_calling_llm)\n",
    "builder.add_node(\"tools\", ToolNode([multiply]))\n",
    "builder.add_edge(START, \"tool_calling_llm\")\n",
    "builder.add_conditional_edges(\n",
    "    \"tool_calling_llm\",\n",
    "    tools_condition\n",
    ")\n",
    "builder.add_edge(\"tools\", END)\n",
    "graph = builder.compile()\n",
    "\n",
    "# view\n",
    "display(Image(graph.get_graph().draw_mermaid_png()))\n",
    "\n"
   ]
  },
  {
   "cell_type": "code",
   "execution_count": 40,
   "metadata": {},
   "outputs": [
    {
     "name": "stdout",
     "output_type": "stream",
     "text": [
      "================================\u001b[1m Human Message \u001b[0m=================================\n",
      "\n",
      "Multiply 2 and 4.\n",
      "==================================\u001b[1m Ai Message \u001b[0m==================================\n",
      "Tool Calls:\n",
      "  multiply (call_uP0zLIOGy3yeWYleb4C4UFmm)\n",
      " Call ID: call_uP0zLIOGy3yeWYleb4C4UFmm\n",
      "  Args:\n",
      "    a: 2\n",
      "    b: 4\n",
      "=================================\u001b[1m Tool Message \u001b[0m=================================\n",
      "Name: multiply\n",
      "\n",
      "8\n"
     ]
    }
   ],
   "source": [
    "from langchain_core.messages import HumanMessage\n",
    "\n",
    "messages = [HumanMessage(content=\"Multiply 2 and 4.\")]\n",
    "messages = graph.invoke({\"messages\": messages})\n",
    "\n",
    "for m in messages['messages']:\n",
    "    m.pretty_print()\n"
   ]
  },
  {
   "cell_type": "code",
   "execution_count": null,
   "metadata": {},
   "outputs": [],
   "source": []
  }
 ],
 "metadata": {
  "kernelspec": {
   "display_name": "Python 3 (ipykernel)",
   "language": "python",
   "name": "python3"
  },
  "language_info": {
   "codemirror_mode": {
    "name": "ipython",
    "version": 3
   },
   "file_extension": ".py",
   "mimetype": "text/x-python",
   "name": "python",
   "nbconvert_exporter": "python",
   "pygments_lexer": "ipython3",
   "version": "3.13.1"
  }
 },
 "nbformat": 4,
 "nbformat_minor": 4
}
