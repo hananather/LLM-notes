{
 "cells": [
  {
   "cell_type": "code",
   "execution_count": 9,
   "id": "75afb94b-16c0-4c77-860a-20c8b03c0f63",
   "metadata": {},
   "outputs": [
    {
     "name": "stdout",
     "output_type": "stream",
     "text": [
      "Paris is a treasure trove of art, history, and culture, so you’ll definitely have plenty to explore. Here are some must-see highlights:\n",
      "\n",
      "1. Eiffel Tower – No visit to Paris is complete without marveling at this iconic landmark. Whether you admire it from below, have a picnic in the Champ de Mars, or take a trip up one of its levels, the views of Paris are unforgettable.\n",
      "\n",
      "2. Louvre Museum – Home to thousands of works of art, including Leonardo da Vinci’s Mona Lisa, the Louvre is a must for art lovers. It’s vast, so consider picking a few sections that interest you the most or joining a guided tour.\n",
      "\n",
      "3. Musée d'Orsay – Housed in a former railway station, this museum is famous for its extensive collection of Impressionist and post-Impressionist masterpieces by artists like Monet, Van Gogh, and Renoir.\n",
      "\n",
      "4. Notre-Dame de Paris Area – While the famous cathedral has been under restoration since the fire in 2019, the area around it is steeped in history and worth a stroll. You can admire its façade and explore the nearby Île de la Cité.\n",
      "\n",
      "5. Montmartre & Sacré-Cœur – Wander the charming, bohemian streets of Montmartre, visit local cafés, and head up to the Sacré-Cœur Basilica for panoramic views of the city below.\n",
      "\n",
      "6. Champs-Élysées and Arc de Triomphe – Take a walk down Paris’ most famous avenue. The Arc de Triomphe at its western end not only commemorates historic battles but also offers a great vantage point of the city if you climb to the top.\n",
      "\n",
      "7. Seine River Cruise – A boat ride along the Seine provides a unique perspective of Paris’ landmarks. Consider an evening cruise to see the city beautifully illuminated.\n",
      "\n",
      "8. Le Marais – This historic district is full of narrow streets, trendy boutiques, art galleries, and delightful cafés. It’s perfect for a leisurely stroll and a break from the more crowded tourist spots.\n",
      "\n",
      "9. Palais Garnier – If you’re fascinated by architecture and the performing arts, be sure to visit the opulent Palais Garnier, the historic opera house of Paris.\n",
      "\n",
      "10. Versailles (Day Trip) – Although not in Paris proper, the Palace of Versailles is easily accessible and offers a peek into royal life with its stunning gardens and lavish interiors.\n",
      "\n",
      "Remember that Paris also has countless hidden gems tucked away in its diverse neighborhoods. Depending on your interests—whether art, history, food, or simply strolling around charming streets—there’s always something new to discover. Enjoy your trip!\n"
     ]
    }
   ],
   "source": [
    "import os\n",
    "from openai import AzureOpenAI\n",
    "\n",
    "client = AzureOpenAI(\n",
    "    api_key=os.environ[\"AZURE_OPENAI_SUBSCRIPTION_KEY\"],\n",
    "    api_version=os.environ[\"AZURE_OPENAI_API_VERSION\"],\n",
    "    azure_endpoint=os.environ[\"AZURE_OPENAI_ENDPOINT\"]\n",
    ")\n",
    "\n",
    "model_name = os.environ[\"AZURE_OPENAI_MODEL\"]\n",
    "deployment = os.environ[\"AZURE_OPENAI_DEPLOYMENT\"]\n",
    "\n",
    "response = client.chat.completions.create(\n",
    "    messages=[\n",
    "        {\n",
    "            \"role\": \"system\",\n",
    "            \"content\": \"You are a helpful assistant.\",\n",
    "        },\n",
    "        {\n",
    "            \"role\": \"user\",\n",
    "            \"content\": \"I am going to Paris, what should I see?\",\n",
    "        }\n",
    "    ],\n",
    "    max_completion_tokens=100000,\n",
    "    model=deployment\n",
    ")\n",
    "\n",
    "print(response.choices[0].message.content)"
   ]
  },
  {
   "cell_type": "code",
   "execution_count": 11,
   "id": "8795fc50-d004-4cce-81a3-6d914af60aa8",
   "metadata": {},
   "outputs": [
    {
     "name": "stdout",
     "output_type": "stream",
     "text": [
      "{'input': 'Hello, world!', 'response': 'Hello, world! How can I help you today?'}\n"
     ]
    }
   ],
   "source": [
    "from langgraph.graph import StateGraph, END\n",
    "from pydantic import BaseModel\n",
    "\n",
    "# 1. Define the state schema\n",
    "class AgentState(BaseModel):\n",
    "    input: str\n",
    "    response: str = \"\"\n",
    "\n",
    "# 2. Create the state graph with the schema\n",
    "builder = StateGraph(AgentState)\n",
    "\n",
    "# 3. Define your LangGraph node function\n",
    "def respond(state: AgentState) -> AgentState:\n",
    "    output = llm.invoke(state.input)\n",
    "    return AgentState(input=state.input, response=output.content)\n",
    "\n",
    "# 4. Add node and configure the graph\n",
    "builder.add_node(\"generate\", respond)\n",
    "builder.set_entry_point(\"generate\")\n",
    "builder.set_finish_point(\"generate\")\n",
    "\n",
    "# 5. Compile and run\n",
    "graph = builder.compile()\n",
    "result = graph.invoke({\"input\": \"Hello, world!\"})\n",
    "print(result)"
   ]
  },
  {
   "cell_type": "code",
   "execution_count": 13,
   "id": "40efac48-284b-4e8a-9d41-26694287a244",
   "metadata": {},
   "outputs": [],
   "source": [
    "from langchain_openai import AzureChatOpenAI\n",
    "from langgraph.graph import StateGraph, END\n",
    "\n",
    "\n",
    "llm = AzureChatOpenAI(\n",
    "    azure_deployment= os.environ[\"AZURE_OPENAI_DEPLOYMENT\"],  # or your deployment\n",
    "    api_version= os.environ[\"AZURE_OPENAI_API_VERSION\"],  # or your api version\n",
    "    # other params...\n",
    ")"
   ]
  },
  {
   "cell_type": "code",
   "execution_count": 16,
   "id": "89963588-e463-4865-acb5-db7038b10bcc",
   "metadata": {},
   "outputs": [
    {
     "data": {
      "text/plain": [
       "{'messages': [HumanMessage(content='what is the weather in sf', additional_kwargs={}, response_metadata={}, id='18f6fbef-a975-43a7-9e9f-1987a52bafb9'),\n",
       "  AIMessage(content='', additional_kwargs={'tool_calls': [{'id': 'call_LSkE6Lei37VvJUgF0EPkoSa9', 'function': {'arguments': '{\"city\": \"San Francisco\"}', 'name': 'get_weather'}, 'type': 'function'}], 'refusal': None}, response_metadata={'token_usage': {'completion_tokens': 152, 'prompt_tokens': 59, 'total_tokens': 211, 'completion_tokens_details': {'accepted_prediction_tokens': 0, 'audio_tokens': 0, 'reasoning_tokens': 128, 'rejected_prediction_tokens': 0}, 'prompt_tokens_details': {'audio_tokens': 0, 'cached_tokens': 0}}, 'model_name': 'o3-mini-2025-01-31', 'system_fingerprint': 'fp_ded0d14823', 'id': 'chatcmpl-BO5IzxpYMdRrxtDlIEvrUgQmoifjI', 'prompt_filter_results': [{'prompt_index': 0, 'content_filter_results': {'hate': {'filtered': False, 'severity': 'safe'}, 'jailbreak': {'filtered': False, 'detected': False}, 'self_harm': {'filtered': False, 'severity': 'safe'}, 'sexual': {'filtered': False, 'severity': 'safe'}, 'violence': {'filtered': False, 'severity': 'safe'}}}], 'finish_reason': 'tool_calls', 'logprobs': None, 'content_filter_results': {}}, id='run-98111ca7-c64e-4b81-affc-657800319947-0', tool_calls=[{'name': 'get_weather', 'args': {'city': 'San Francisco'}, 'id': 'call_LSkE6Lei37VvJUgF0EPkoSa9', 'type': 'tool_call'}], usage_metadata={'input_tokens': 59, 'output_tokens': 152, 'total_tokens': 211, 'input_token_details': {'audio': 0, 'cache_read': 0}, 'output_token_details': {'audio': 0, 'reasoning': 128}}),\n",
       "  ToolMessage(content=\"It's always sunny in San Francisco!\", name='get_weather', id='d7d8af6b-571d-4919-95c2-262a87ee022c', tool_call_id='call_LSkE6Lei37VvJUgF0EPkoSa9'),\n",
       "  AIMessage(content='The weather in San Francisco is always sunny!', additional_kwargs={'refusal': None}, response_metadata={'token_usage': {'completion_tokens': 149, 'prompt_tokens': 87, 'total_tokens': 236, 'completion_tokens_details': {'accepted_prediction_tokens': 0, 'audio_tokens': 0, 'reasoning_tokens': 128, 'rejected_prediction_tokens': 0}, 'prompt_tokens_details': {'audio_tokens': 0, 'cached_tokens': 0}}, 'model_name': 'o3-mini-2025-01-31', 'system_fingerprint': 'fp_ded0d14823', 'id': 'chatcmpl-BO5J4MDiKl1isgCTEVj1IB6SArvum', 'prompt_filter_results': [{'prompt_index': 0, 'content_filter_results': {'hate': {'filtered': False, 'severity': 'safe'}, 'jailbreak': {'filtered': False, 'detected': False}, 'self_harm': {'filtered': False, 'severity': 'safe'}, 'sexual': {'filtered': False, 'severity': 'safe'}, 'violence': {'filtered': False, 'severity': 'safe'}}}], 'finish_reason': 'stop', 'logprobs': None, 'content_filter_results': {'hate': {'filtered': False, 'severity': 'safe'}, 'protected_material_code': {'filtered': False, 'detected': False}, 'protected_material_text': {'filtered': False, 'detected': False}, 'self_harm': {'filtered': False, 'severity': 'safe'}, 'sexual': {'filtered': False, 'severity': 'safe'}, 'violence': {'filtered': False, 'severity': 'safe'}}}, id='run-7afa4dce-3f87-4ac5-81c0-20fcf77c8ad1-0', usage_metadata={'input_tokens': 87, 'output_tokens': 149, 'total_tokens': 236, 'input_token_details': {'audio': 0, 'cache_read': 0}, 'output_token_details': {'audio': 0, 'reasoning': 128}})]}"
      ]
     },
     "execution_count": 16,
     "metadata": {},
     "output_type": "execute_result"
    }
   ],
   "source": [
    "from langgraph.prebuilt import create_react_agent\n",
    "\n",
    "def get_weather(city: str) -> str:  \n",
    "    \"\"\"Get weather for a given city.\"\"\"\n",
    "    return f\"It's always sunny in {city}!\"\n",
    "\n",
    "\n",
    "agent = create_react_agent(\n",
    "    model=llm,  \n",
    "    tools=[get_weather],  \n",
    "    prompt=\"You are a helpful assistant\"  \n",
    ")\n",
    "\n",
    "# Run the agent\n",
    "agent.invoke({\"messages\": \"what is the weather in sf\"})"
   ]
  },
  {
   "cell_type": "markdown",
   "id": "662002b8-15b3-42ee-a264-f4df447f06eb",
   "metadata": {},
   "source": [
    "# Static Prompt"
   ]
  },
  {
   "cell_type": "code",
   "execution_count": 19,
   "id": "9a118bae-5425-401a-8daf-a2c47c93ae0a",
   "metadata": {},
   "outputs": [
    {
     "data": {
      "text/plain": [
       "{'messages': [HumanMessage(content='what is the weather in sf', additional_kwargs={}, response_metadata={}, id='dd8d3c7e-7286-4f22-86d7-500e0ebb9ae2'),\n",
       "  AIMessage(content=\"I'm sorry, but I can't help with that.\", additional_kwargs={'refusal': None}, response_metadata={'token_usage': {'completion_tokens': 278, 'prompt_tokens': 60, 'total_tokens': 338, 'completion_tokens_details': {'accepted_prediction_tokens': 0, 'audio_tokens': 0, 'reasoning_tokens': 256, 'rejected_prediction_tokens': 0}, 'prompt_tokens_details': {'audio_tokens': 0, 'cached_tokens': 0}}, 'model_name': 'o3-mini-2025-01-31', 'system_fingerprint': 'fp_ded0d14823', 'id': 'chatcmpl-BO5NjsmBeGnJj310I7sIpKYfuuNYD', 'prompt_filter_results': [{'prompt_index': 0, 'content_filter_results': {'hate': {'filtered': False, 'severity': 'safe'}, 'jailbreak': {'filtered': False, 'detected': False}, 'self_harm': {'filtered': False, 'severity': 'safe'}, 'sexual': {'filtered': False, 'severity': 'safe'}, 'violence': {'filtered': False, 'severity': 'safe'}}}], 'finish_reason': 'stop', 'logprobs': None, 'content_filter_results': {'hate': {'filtered': False, 'severity': 'safe'}, 'protected_material_code': {'filtered': False, 'detected': False}, 'protected_material_text': {'filtered': False, 'detected': False}, 'self_harm': {'filtered': False, 'severity': 'safe'}, 'sexual': {'filtered': False, 'severity': 'safe'}, 'violence': {'filtered': False, 'severity': 'safe'}}}, id='run-3e019169-67bd-45f8-9363-70134c799a5f-0', usage_metadata={'input_tokens': 60, 'output_tokens': 278, 'total_tokens': 338, 'input_token_details': {'audio': 0, 'cache_read': 0}, 'output_token_details': {'audio': 0, 'reasoning': 256}})]}"
      ]
     },
     "execution_count": 19,
     "metadata": {},
     "output_type": "execute_result"
    }
   ],
   "source": [
    "from langgraph.prebuilt import create_react_agent\n",
    "\n",
    "agent = create_react_agent(\n",
    "    model=llm,\n",
    "    tools=[get_weather],\n",
    "    # A static prompt that never changes\n",
    "    prompt=\"Never answer questions about the weather.\"\n",
    ")\n",
    "\n",
    "agent.invoke(\n",
    "    {\"messages\": \"what is the weather in sf\"},\n",
    ")"
   ]
  },
  {
   "cell_type": "code",
   "execution_count": null,
   "id": "6e312d9a-7d31-4ff1-a6b4-e15180f9711c",
   "metadata": {},
   "outputs": [],
   "source": [
    "# Dynamic Prompt\n",
    "from langchain_core.messages import AnyMessage\n",
    "from langchain_core.runnables import RunnableConfig\n",
    "from langgraph.prebuilt.chat_agent_executor import AgentState\n",
    "from langgraph.prebuilt import create_react_agent\n",
    "\n",
    "def prompt(state: AgentState, config: RunnableConfig) -> list[AnyMessage]:\n",
    "    "
   ]
  }
 ],
 "metadata": {
  "kernelspec": {
   "display_name": "Python 3 (ipykernel)",
   "language": "python",
   "name": "python3"
  },
  "language_info": {
   "codemirror_mode": {
    "name": "ipython",
    "version": 3
   },
   "file_extension": ".py",
   "mimetype": "text/x-python",
   "name": "python",
   "nbconvert_exporter": "python",
   "pygments_lexer": "ipython3",
   "version": "3.13.1"
  }
 },
 "nbformat": 4,
 "nbformat_minor": 5
}
