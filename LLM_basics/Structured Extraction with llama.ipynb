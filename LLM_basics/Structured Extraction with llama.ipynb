{
 "cells": [
  {
   "cell_type": "markdown",
   "id": "ebb81e56-7b75-446c-acbb-63cc75e7bd68",
   "metadata": {},
   "source": [
    "## Structured Extraction\n",
    "\n",
    "**Structured extraction** is a process that transforms **unstructured text** into a **structured format**, such as JSON, making it easily accessible for further processing, analysis, or storage. \n",
    "\n",
    "\n",
    "To get the intution, lets implement a natural langugage processing parser that allows us to create structured tabular data from unstructued data. We can accomplish this by: \n",
    "1. Feed unstructured text into an LLM\n",
    "2. Receive structured JSON output\n",
    "3. Process the JSON into desired formats (e.g., dataframes)\n",
    "\n",
    "The core way structured extraction works is via **Pydantic** classes: we define a data structure in Pydantic. The LLM works with Pydantic  to coerce the output of the LLM into that structure.\n",
    "\n",
    "This property is crucial: these JSON-formatted schemas are often passed to LLMs and the LLMs in turn use them as instructions on how to return data.\n",
    "\n",
    "\n",
    "With the rise of LLMs, this task can now be accomplished efficiently and affordably, enabling enterprises to unlock valuable insights from large volumes of unstructured data, including PDFs, text files, and scanned documents.\n",
    "\n",
    "\n",
    "\n",
    "The chat function takes a list of messages, typically including a **system message** and a **user message**. The system message (your prompt) sets the context and instructions for the model, while the user message contains the actual data to be processed."
   ]
  },
  {
   "cell_type": "code",
   "execution_count": 29,
   "id": "d64b8a98-836f-4045-a946-b571b90b28a5",
   "metadata": {},
   "outputs": [
    {
     "name": "stdout",
     "output_type": "stream",
     "text": [
      "('Canada! Our neighbor to the north is a vast and beautiful country with a '\n",
      " \"rich history, diverse culture, and breathtaking landscapes. Here's an \"\n",
      " 'overview:\\n'\n",
      " '\\n'\n",
      " '**Geography**\\n'\n",
      " '\\n'\n",
      " 'Canada spans across the continent of North America, sharing borders with the '\n",
      " 'United States (to the south), Alaska (to the northwest), and the Atlantic '\n",
      " 'Ocean (to the east). It has a total area of approximately 10 million square '\n",
      " 'kilometers (3.9 million sq mi), making it one of the largest countries in '\n",
      " 'the world by land area.\\n'\n",
      " '\\n'\n",
      " 'Canada is home to diverse landscapes, including:\\n'\n",
      " '\\n'\n",
      " '* Mountains: The Canadian Rockies, the Torngats, and the Appalachian '\n",
      " 'Mountains\\n'\n",
      " '* Rivers: The St. Lawrence, the Mackenzie, and the Fraser River\\n'\n",
      " '* Coastlines: Canada has a long coastline along the Atlantic Ocean, as well '\n",
      " 'as extensive coastlines on Hudson Bay, James Bay, and the Pacific Ocean\\n'\n",
      " '\\n'\n",
      " '**Climate**\\n'\n",
      " '\\n'\n",
      " \"Canada's climate varies greatly depending on the region:\\n\"\n",
      " '\\n'\n",
      " '* **Temperate climates**: The provinces of')\n"
     ]
    }
   ],
   "source": [
    "from ollama import chat\n",
    "from pprint import pprint as pp\n",
    "\n",
    "response = chat(\n",
    "  messages=[\n",
    "    {\n",
    "      'role': 'user',\n",
    "      'content': 'Tell me about Canada.',\n",
    "    }\n",
    "  ],\n",
    "  model='llama3.1',\n",
    "  options={'num_predict': 200} # Maximum number of tokens to predict when generating text\n",
    ")\n",
    "pp(response.message.content)"
   ]
  },
  {
   "cell_type": "markdown",
   "id": "e1267740-5c8d-4797-a308-bdcba71942e9",
   "metadata": {},
   "source": [
    "The `format` parameter allows you to specify a JSON schema that defines the structure of the desired output.  In our case, we are using a **Pydantic model** to generate this schema automatically. This tells the model exactly how to format its response."
   ]
  },
  {
   "cell_type": "code",
   "execution_count": 31,
   "id": "00f24159-6f8c-4518-ae65-8110753d2640",
   "metadata": {},
   "outputs": [
    {
     "name": "stdout",
     "output_type": "stream",
     "text": [
      "{'properties': {'capital': {'title': 'Capital', 'type': 'string'},\n",
      "                'languages': {'items': {'type': 'string'},\n",
      "                              'title': 'Languages',\n",
      "                              'type': 'array'},\n",
      "                'name': {'title': 'Name', 'type': 'string'}},\n",
      " 'required': ['name', 'capital', 'languages'],\n",
      " 'title': 'Country',\n",
      " 'type': 'object'}\n"
     ]
    }
   ],
   "source": [
    "from pydantic import BaseModel\n",
    "class Country(BaseModel):\n",
    "  name: str\n",
    "  capital: str\n",
    "  languages: list[str]\n",
    "\n",
    "pp(Country.model_json_schema())"
   ]
  },
  {
   "cell_type": "code",
   "execution_count": 27,
   "id": "cb4b1721-8f5e-4743-b61d-18a329049da0",
   "metadata": {},
   "outputs": [
    {
     "name": "stdout",
     "output_type": "stream",
     "text": [
      "name='Canadá' capital='Ottawa' languages=['English', 'French']\n"
     ]
    }
   ],
   "source": [
    "from ollama import chat\n",
    "from pydantic import BaseModel\n",
    "\n",
    "class Country(BaseModel):\n",
    "  name: str\n",
    "  capital: str\n",
    "  languages: list[str]\n",
    "\n",
    "response = chat(\n",
    "  messages=[\n",
    "    {\n",
    "      'role': 'user',\n",
    "      'content': 'Tell me about Canada.',\n",
    "    }\n",
    "  ],\n",
    "  model='llama3.1',\n",
    "  format=Country.model_json_schema(),\n",
    ")\n",
    "\n",
    "country = Country.model_validate_json(response.message.content)\n",
    "print(country)"
   ]
  },
  {
   "cell_type": "markdown",
   "id": "d79bca1b-73d9-4e4d-9005-5d33a98d2956",
   "metadata": {},
   "source": [
    "The Llama 3.1 model processes the input messages and generates a response that adheres to the specified JSON schema. It uses the context from the system message to understand its role as a data parsing assistant and formats the extracted information according to the provided schema."
   ]
  },
  {
   "cell_type": "code",
   "execution_count": 11,
   "id": "7be288d8-90a4-4f3e-ab51-3c395fcda060",
   "metadata": {},
   "outputs": [],
   "source": [
    "from ollama import chat\n",
    "from pydantic import BaseModel\n",
    "from typing import Optional, List  # Add List from typing\n",
    "from pydantic import BaseModel, EmailStr, HttpUrl\n",
    "from ollama import chat\n",
    "from pprint import pprint as pp\n",
    "\n",
    "prompt = \"\"\"\n",
    "You are a data parsing assistant. \n",
    "User provides unstructued data containing addresses. \n",
    "Your goal is to output it as JSON.\n",
    "\"\"\"\n",
    "data =  \"\"\"\n",
    "The Ottawa Public Library is at 150 Elgin Street, Ottawa.\n",
    "Down the street, Sarah Wilson runs her bakery at 240 Laurier Avenue, Ottawa.\n",
    "Over in Kanata, Tech Corp's office is at 1385 Terry Fox Drive.\n",
    "\"\"\"\n",
    "\n",
    "class Address(BaseModel):\n",
    "    name: str\n",
    "    street_number: str\n",
    "    street_name: str\n",
    "    city: str\n",
    "\n",
    "\n",
    "class Addresses(BaseModel):\n",
    "    addresses: list[Address]"
   ]
  },
  {
   "cell_type": "code",
   "execution_count": 18,
   "id": "827696c4-ae9e-4701-945a-3c4ec66e4281",
   "metadata": {},
   "outputs": [
    {
     "name": "stdout",
     "output_type": "stream",
     "text": [
      "{'$defs': {'Address': {'properties': {'city': {'title': 'City',\n",
      "                                               'type': 'string'},\n",
      "                                      'name': {'title': 'Name',\n",
      "                                               'type': 'string'},\n",
      "                                      'street_name': {'title': 'Street Name',\n",
      "                                                      'type': 'string'},\n",
      "                                      'street_number': {'title': 'Street '\n",
      "                                                                 'Number',\n",
      "                                                        'type': 'string'}},\n",
      "                       'required': ['name',\n",
      "                                    'street_number',\n",
      "                                    'street_name',\n",
      "                                    'city'],\n",
      "                       'title': 'Address',\n",
      "                       'type': 'object'}},\n",
      " 'properties': {'addresses': {'items': {'$ref': '#/$defs/Address'},\n",
      "                              'title': 'Addresses',\n",
      "                              'type': 'array'}},\n",
      " 'required': ['addresses'],\n",
      " 'title': 'Addresses',\n",
      " 'type': 'object'}\n"
     ]
    }
   ],
   "source": [
    "pp(Addresses.model_json_schema())"
   ]
  },
  {
   "cell_type": "code",
   "execution_count": 9,
   "id": "c9645515-2407-4ea7-92ad-def4050808ae",
   "metadata": {},
   "outputs": [],
   "source": [
    "response = chat(\n",
    "    model='llama3.1:8b',\n",
    "    messages = [\n",
    "        {\"role\": \"system\", \"content\": prompt},\n",
    "        {\"role\": \"user\", \"content\": data},\n",
    "    ]\n",
    " ,\n",
    "  format=Addresses.model_json_schema(),  # Use Pydantic to generate the schema or format=schema\n",
    "  options={'temperature': 0},  # Make responses more deterministic\n",
    ")"
   ]
  },
  {
   "cell_type": "code",
   "execution_count": 17,
   "id": "e6163df9-3d8d-4bfd-8ad0-2b289bfede13",
   "metadata": {},
   "outputs": [
    {
     "name": "stdout",
     "output_type": "stream",
     "text": [
      "('{\\n'\n",
      " '  \"addresses\": [\\n'\n",
      " '    {\\n'\n",
      " '      \"name\": \"Ottawa Public Library\",\\n'\n",
      " '      \"street_number\": \"150\",\\n'\n",
      " '      \"street_name\": \"Elgin Street\",\\n'\n",
      " '      \"city\": \"Ottawa\"\\n'\n",
      " '    },\\n'\n",
      " '    {\\n'\n",
      " '      \"name\": \"Sarah Wilson\\'s Bakery\",\\n'\n",
      " '      \"street_number\": \"240\",\\n'\n",
      " '      \"street_name\": \"Laurier Avenue\",\\n'\n",
      " '      \"city\": \"Ottawa\"\\n'\n",
      " '    },\\n'\n",
      " '    {\\n'\n",
      " '      \"name\": \"Tech Corp Office\",\\n'\n",
      " '      \"street_number\": \"1385\",\\n'\n",
      " '      \"street_name\": \"Terry Fox Drive\",\\n'\n",
      " '      \"city\": \"Kanata\"\\n'\n",
      " '    }\\n'\n",
      " '  ]\\n'\n",
      " '}')\n"
     ]
    }
   ],
   "source": [
    "pp(response.message.content)"
   ]
  },
  {
   "cell_type": "code",
   "execution_count": 20,
   "id": "682a3d91-4566-4813-88b7-1d7c84cc9f1c",
   "metadata": {},
   "outputs": [
    {
     "name": "stdout",
     "output_type": "stream",
     "text": [
      "Addresses(addresses=[Address(name='Ottawa Public Library', street_number='150', street_name='Elgin Street', city='Ottawa'), Address(name=\"Sarah Wilson's Bakery\", street_number='240', street_name='Laurier Avenue', city='Ottawa'), Address(name='Tech Corp Office', street_number='1385', street_name='Terry Fox Drive', city='Kanata')])\n"
     ]
    }
   ],
   "source": [
    "# Use Pydantic to validate the response\n",
    "address_ouput = Addresses.model_validate_json(response.message.content)\n",
    "pp(address_ouput)"
   ]
  },
  {
   "cell_type": "code",
   "execution_count": 21,
   "id": "7c9f9ae4-0cea-4cb8-b85b-79d3e300b01f",
   "metadata": {},
   "outputs": [
    {
     "data": {
      "text/html": [
       "<div>\n",
       "<style scoped>\n",
       "    .dataframe tbody tr th:only-of-type {\n",
       "        vertical-align: middle;\n",
       "    }\n",
       "\n",
       "    .dataframe tbody tr th {\n",
       "        vertical-align: top;\n",
       "    }\n",
       "\n",
       "    .dataframe thead th {\n",
       "        text-align: right;\n",
       "    }\n",
       "</style>\n",
       "<table border=\"1\" class=\"dataframe\">\n",
       "  <thead>\n",
       "    <tr style=\"text-align: right;\">\n",
       "      <th></th>\n",
       "      <th>name</th>\n",
       "      <th>street_number</th>\n",
       "      <th>street_name</th>\n",
       "      <th>city</th>\n",
       "    </tr>\n",
       "  </thead>\n",
       "  <tbody>\n",
       "    <tr>\n",
       "      <th>0</th>\n",
       "      <td>Ottawa Public Library</td>\n",
       "      <td>150</td>\n",
       "      <td>Elgin Street</td>\n",
       "      <td>Ottawa</td>\n",
       "    </tr>\n",
       "    <tr>\n",
       "      <th>1</th>\n",
       "      <td>Sarah Wilson's Bakery</td>\n",
       "      <td>240</td>\n",
       "      <td>Laurier Avenue</td>\n",
       "      <td>Ottawa</td>\n",
       "    </tr>\n",
       "    <tr>\n",
       "      <th>2</th>\n",
       "      <td>Tech Corp Office</td>\n",
       "      <td>1385</td>\n",
       "      <td>Terry Fox Drive</td>\n",
       "      <td>Kanata</td>\n",
       "    </tr>\n",
       "  </tbody>\n",
       "</table>\n",
       "</div>"
      ],
      "text/plain": [
       "                    name street_number      street_name    city\n",
       "0  Ottawa Public Library           150     Elgin Street  Ottawa\n",
       "1  Sarah Wilson's Bakery           240   Laurier Avenue  Ottawa\n",
       "2       Tech Corp Office          1385  Terry Fox Drive  Kanata"
      ]
     },
     "execution_count": 21,
     "metadata": {},
     "output_type": "execute_result"
    }
   ],
   "source": [
    "import pandas as pd\n",
    "\n",
    "def locations_to_df(addresses: Addresses) -> pd.DataFrame:\n",
    "    \"\"\"\n",
    "    Convert locations Pydantic model to pandas DataFrame.\n",
    "    Each row represents one location with all its fields.\n",
    "    \"\"\"\n",
    "    # Convert each BusinessLocation to a dict and create DataFrame\n",
    "    return pd.DataFrame([loc.model_dump() for loc in addresses.addresses])\n",
    "# Assuming we have our parsed response in parsed_locations\n",
    "df = locations_to_df(address_ouput)\n",
    "df"
   ]
  },
  {
   "cell_type": "markdown",
   "id": "6dfd0853-3ca4-4828-8cb3-883cf514e874",
   "metadata": {},
   "source": [
    "As mentioned, LLMs are using JSON schemas from Pydantic as instructions on how to return data. To assist them and improve the accuracy of your returned data, it’s helpful to include natural-language descriptions of objects and fields and what they’re used for. Pydantic has support for this with docstrings and Fields."
   ]
  },
  {
   "cell_type": "markdown",
   "id": "de50fb12-5147-4df3-a06f-8664b53dae47",
   "metadata": {},
   "source": [
    "from pydantic import BaseModel, Field\n",
    "from typing import List\n",
    "\n",
    "class Address(BaseModel):\n",
    "    \"\"\"A representation of a physical address with associated business/person name.\"\"\"\n",
    "    \n",
    "    name: str = Field(\n",
    "        description=\"Name of the business or person associated with this address\"\n",
    "    )\n",
    "    street_number: str = Field(\n",
    "        description=\"Building number or unit identifier\"\n",
    "    )\n",
    "    street_name: str = Field(\n",
    "        description=\"Name of the street, including type (Street, Avenue, Boulevard, etc.)\"\n",
    "    )\n",
    "    city: str = Field(\n",
    "        description=\"Name of the city where this address is located\"\n",
    "    )\n",
    "\n",
    "class Addresses(BaseModel):\n",
    "    \"\"\"A collection of physical addresses, typically extracted from text.\"\"\"\n",
    "    \n",
    "    addresses: List[Address] = Field(\n",
    "        description=\"List of addresses extracted from the source text\"\n",
    "    )"
   ]
  },
  {
   "cell_type": "markdown",
   "id": "cecf66e9-2489-470f-9acb-c2ef34a959f9",
   "metadata": {},
   "source": [
    "This expands to a much more complex JSON schema:"
   ]
  },
  {
   "cell_type": "code",
   "execution_count": 24,
   "id": "1a63906b-1d5a-4855-ad52-2b69c7f817f2",
   "metadata": {},
   "outputs": [
    {
     "name": "stdout",
     "output_type": "stream",
     "text": [
      "{'$defs': {'Address': {'description': 'A representation of a physical address '\n",
      "                                      'with associated business/person name.',\n",
      "                       'properties': {'city': {'description': 'Name of the '\n",
      "                                                              'city where this '\n",
      "                                                              'address is '\n",
      "                                                              'located',\n",
      "                                               'title': 'City',\n",
      "                                               'type': 'string'},\n",
      "                                      'name': {'description': 'Name of the '\n",
      "                                                              'business or '\n",
      "                                                              'person '\n",
      "                                                              'associated with '\n",
      "                                                              'this address',\n",
      "                                               'title': 'Name',\n",
      "                                               'type': 'string'},\n",
      "                                      'street_name': {'description': 'Name of '\n",
      "                                                                     'the '\n",
      "                                                                     'street, '\n",
      "                                                                     'including '\n",
      "                                                                     'type '\n",
      "                                                                     '(Street, '\n",
      "                                                                     'Avenue, '\n",
      "                                                                     'Boulevard, '\n",
      "                                                                     'etc.)',\n",
      "                                                      'title': 'Street Name',\n",
      "                                                      'type': 'string'},\n",
      "                                      'street_number': {'description': 'Building '\n",
      "                                                                       'number '\n",
      "                                                                       'or '\n",
      "                                                                       'unit '\n",
      "                                                                       'identifier',\n",
      "                                                        'title': 'Street '\n",
      "                                                                 'Number',\n",
      "                                                        'type': 'string'}},\n",
      "                       'required': ['name',\n",
      "                                    'street_number',\n",
      "                                    'street_name',\n",
      "                                    'city'],\n",
      "                       'title': 'Address',\n",
      "                       'type': 'object'}},\n",
      " 'description': 'A collection of physical addresses, typically extracted from '\n",
      "                'text.',\n",
      " 'properties': {'addresses': {'description': 'List of addresses extracted from '\n",
      "                                             'the source text',\n",
      "                              'items': {'$ref': '#/$defs/Address'},\n",
      "                              'title': 'Addresses',\n",
      "                              'type': 'array'}},\n",
      " 'required': ['addresses'],\n",
      " 'title': 'Addresses',\n",
      " 'type': 'object'}\n"
     ]
    }
   ],
   "source": [
    "pp(Addresses.model_json_schema())"
   ]
  },
  {
   "cell_type": "markdown",
   "id": "68d1940e-70b0-404f-9376-be686c962f10",
   "metadata": {},
   "source": [
    "When an LLM receives this schema, it has much more context about what each field represents and how it should be used, which can improve the accuracy of the data it returns.\n"
   ]
  },
  {
   "cell_type": "code",
   "execution_count": null,
   "id": "610da470-b320-40ac-b7ec-b3274ca75b06",
   "metadata": {},
   "outputs": [],
   "source": []
  }
 ],
 "metadata": {
  "kernelspec": {
   "display_name": "Python 3 (ipykernel)",
   "language": "python",
   "name": "python3"
  },
  "language_info": {
   "codemirror_mode": {
    "name": "ipython",
    "version": 3
   },
   "file_extension": ".py",
   "mimetype": "text/x-python",
   "name": "python",
   "nbconvert_exporter": "python",
   "pygments_lexer": "ipython3",
   "version": "3.13.1"
  }
 },
 "nbformat": 4,
 "nbformat_minor": 5
}
