{
 "cells": [
  {
   "cell_type": "markdown",
   "id": "1d35cc22-883e-4a89-9352-0d3ce2677a9d",
   "metadata": {},
   "source": [
    "To see Pydantic at work, let's start with a simple example, creating a custom class that inherits from `BaseModel`:"
   ]
  },
  {
   "cell_type": "code",
   "execution_count": 24,
   "id": "19244ccd-c1da-441a-b271-686f3cc11aec",
   "metadata": {},
   "outputs": [],
   "source": [
    "from datetime import datetime\n",
    "from pydantic import BaseModel, PositiveInt, constr\n",
    "import pandas as pd\n",
    "\n",
    "class Business(BaseModel):\n",
    "    id: int\n",
    "    business_name: str = 'Unregistered Business'\n",
    "    registration_ts: datetime | None\n",
    "    business_number: constr(pattern=r'^\\d{9}$')\n",
    "    naics_code: constr(pattern=r'^\\d{6}$')"
   ]
  },
  {
   "cell_type": "markdown",
   "id": "b68e7c8d-19dd-47ec-b347-d10c8f26b61c",
   "metadata": {},
   "source": [
    "### Understanding Our Business Model Schema\n",
    "Our Pydantic model defines a business entity with the following fields:\n",
    "\n",
    "| Field | Type | Required | Validation |\n",
    "|-------|------|----------|------------|\n",
    "| id | int | Yes | Coerces strings/floats to int |\n",
    "| business_name | str | No | Default: \"Unregistered Business\" |\n",
    "| registration_ts | datetime \\| None | No | Accepts timestamp or datetime string |\n",
    "| business_number | constr | Yes | Must be 9 digits |\n",
    "| naics_code | constr | Yes | Must be 6 digits |\n",
    "\n",
    "\n",
    "This schema ensures data consistency by:\n",
    "- Converting input types where possible (e.g., string to int for ID)\n",
    "- Enforcing specific formats for business and NAICS codes\n",
    "- Providing flexible datetime handling\n",
    "- Making certain fields optional with sensible defaults\n",
    "\n",
    "Now create instance of `Business` by passing our external data to `Business`"
   ]
  },
  {
   "cell_type": "code",
   "execution_count": 17,
   "id": "e12dd8e0-02d1-4110-a5f0-908fc65b8b8e",
   "metadata": {},
   "outputs": [
    {
     "name": "stdout",
     "output_type": "stream",
     "text": [
      "{'id': 123, 'business_name': 'Hanan Ather Pharmacy', 'registration_ts': datetime.datetime(2023, 1, 15, 9, 30), 'business_number': '123456789', 'naics_code': '446110'}\n",
      "====================================================================================================\n"
     ]
    },
    {
     "data": {
      "text/html": [
       "<div>\n",
       "<style scoped>\n",
       "    .dataframe tbody tr th:only-of-type {\n",
       "        vertical-align: middle;\n",
       "    }\n",
       "\n",
       "    .dataframe tbody tr th {\n",
       "        vertical-align: top;\n",
       "    }\n",
       "\n",
       "    .dataframe thead th {\n",
       "        text-align: right;\n",
       "    }\n",
       "</style>\n",
       "<table border=\"1\" class=\"dataframe\">\n",
       "  <thead>\n",
       "    <tr style=\"text-align: right;\">\n",
       "      <th></th>\n",
       "      <th>id</th>\n",
       "      <th>business_name</th>\n",
       "      <th>registration_ts</th>\n",
       "      <th>business_number</th>\n",
       "      <th>naics_code</th>\n",
       "    </tr>\n",
       "  </thead>\n",
       "  <tbody>\n",
       "    <tr>\n",
       "      <th>0</th>\n",
       "      <td>123</td>\n",
       "      <td>Hanan Ather Pharmacy</td>\n",
       "      <td>2023-01-15 09:30:00</td>\n",
       "      <td>123456789</td>\n",
       "      <td>446110</td>\n",
       "    </tr>\n",
       "  </tbody>\n",
       "</table>\n",
       "</div>"
      ],
      "text/plain": [
       "    id         business_name     registration_ts business_number naics_code\n",
       "0  123  Hanan Ather Pharmacy 2023-01-15 09:30:00       123456789     446110"
      ]
     },
     "execution_count": 17,
     "metadata": {},
     "output_type": "execute_result"
    }
   ],
   "source": [
    "# Example 1: Valid business data\n",
    "external_data = {\n",
    "    'id': 123,\n",
    "    'business_name': 'Hanan Ather Pharmacy',\n",
    "    'registration_ts': '2023-01-15 09:30',\n",
    "    'business_number': '123456789',\n",
    "    'naics_code': '446110'  # Actual NAICS code for pharmacies\n",
    "}\n",
    "business = Business(**external_data) \n",
    "print(business.model_dump()) # convert the model to dictionary with `model_dump`\n",
    "print('='*100)\n",
    "pd.DataFrame([Business(**external_data).model_dump()])"
   ]
  },
  {
   "cell_type": "markdown",
   "id": "2e2bef57-4ab7-4f59-80d0-2c21574b53ab",
   "metadata": {},
   "source": [
    "continuing the above example..."
   ]
  },
  {
   "cell_type": "code",
   "execution_count": 25,
   "id": "b01e2951-5770-43df-9623-139a86130ada",
   "metadata": {},
   "outputs": [
    {
     "name": "stdout",
     "output_type": "stream",
     "text": [
      "{'id': 456, 'business_name': 'Unregistered Business', 'registration_ts': datetime.datetime(2023, 6, 1, 12, 22), 'business_number': '987654321', 'naics_code': '484110'}\n",
      "====================================================================================================\n"
     ]
    },
    {
     "data": {
      "text/html": [
       "<div>\n",
       "<style scoped>\n",
       "    .dataframe tbody tr th:only-of-type {\n",
       "        vertical-align: middle;\n",
       "    }\n",
       "\n",
       "    .dataframe tbody tr th {\n",
       "        vertical-align: top;\n",
       "    }\n",
       "\n",
       "    .dataframe thead th {\n",
       "        text-align: right;\n",
       "    }\n",
       "</style>\n",
       "<table border=\"1\" class=\"dataframe\">\n",
       "  <thead>\n",
       "    <tr style=\"text-align: right;\">\n",
       "      <th></th>\n",
       "      <th>id</th>\n",
       "      <th>business_name</th>\n",
       "      <th>registration_ts</th>\n",
       "      <th>business_number</th>\n",
       "      <th>naics_code</th>\n",
       "    </tr>\n",
       "  </thead>\n",
       "  <tbody>\n",
       "    <tr>\n",
       "      <th>0</th>\n",
       "      <td>456</td>\n",
       "      <td>Unregistered Business</td>\n",
       "      <td>2023-06-01 12:22:00</td>\n",
       "      <td>987654321</td>\n",
       "      <td>484110</td>\n",
       "    </tr>\n",
       "  </tbody>\n",
       "</table>\n",
       "</div>"
      ],
      "text/plain": [
       "    id          business_name     registration_ts business_number naics_code\n",
       "0  456  Unregistered Business 2023-06-01 12:22:00       987654321     484110"
      ]
     },
     "execution_count": 25,
     "metadata": {},
     "output_type": "execute_result"
    }
   ],
   "source": [
    "optional_field_example = {\n",
    "    'id': 456,  # Required field is present\n",
    "    'registration_ts': '2023-06-01 12:22',\n",
    "    'business_number': '987654321',\n",
    "    'naics_code': '484110'\n",
    "    # Notice: business_name is not provided, but that's OK because it has a default\n",
    "}\n",
    "\n",
    "try:\n",
    "    business = Business(**optional_field_example)  \n",
    "except ValidationError as e:\n",
    "    print(e.errors())\n",
    "print(business.model_dump()) # convert the model to dictionary with `model_dump`\n",
    "print('='*100)\n",
    "pd.DataFrame([Business(**optional_field_example).model_dump()])"
   ]
  },
  {
   "cell_type": "code",
   "execution_count": 26,
   "id": "8993d03b-7a42-49ed-a148-3657abd4bdf9",
   "metadata": {},
   "outputs": [
    {
     "name": "stdout",
     "output_type": "stream",
     "text": [
      "[{'type': 'string_pattern_mismatch', 'loc': ('naics_code',), 'msg': \"String should match pattern '^\\\\d{6}$'\", 'input': '4841', 'ctx': {'pattern': '^\\\\d{6}$'}, 'url': 'https://errors.pydantic.dev/2.10/v/string_pattern_mismatch'}]\n"
     ]
    }
   ],
   "source": [
    "naics_example = {\n",
    "    'id': 123,\n",
    "    'registration_ts': '2023-01-15 09:30',\n",
    "    'business_number': '123456789',\n",
    "    'naics_code': '4841'  # Invalid: NAICS must be exactly 6 digits\n",
    "}\n",
    "try:\n",
    "    business = Business(**naics_example)  \n",
    "except ValidationError as e:\n",
    "    print(e.errors())"
   ]
  },
  {
   "cell_type": "code",
   "execution_count": 28,
   "id": "934eef2c-6efa-4f4a-ab90-85177fb691bf",
   "metadata": {},
   "outputs": [
    {
     "name": "stdout",
     "output_type": "stream",
     "text": [
      "[{'type': 'missing', 'loc': ('id',), 'msg': 'Field required', 'input': {'business_name': 'Serge Godbout Trucking', 'registration_ts': '2023-06-01 12:22', 'business_number': '987654321', 'naics_code': '484110'}, 'url': 'https://errors.pydantic.dev/2.10/v/missing'}]\n"
     ]
    }
   ],
   "source": [
    "required_fields_example = {\n",
    "    'business_name': 'Serge Godbout Trucking', \n",
    "    'registration_ts': '2023-06-01 12:22',\n",
    "    'business_number': '987654321',\n",
    "    'naics_code': '484110'\n",
    "    # Missing 'id' field which is required\n",
    "}\n",
    "try:\n",
    "    business = Business(**required_fields_example)  \n",
    "except ValidationError as e:\n",
    "    print(e.errors())"
   ]
  },
  {
   "cell_type": "markdown",
   "id": "0db0c092-cc53-4c36-bb5f-d3c7004834d3",
   "metadata": {},
   "source": [
    "# Advanced Pydantic Model Features\n",
    "\n",
    "#### 1. Field Class\n",
    "The `Field` class is Pydantic's way of adding extra validation and metadata to model fields. The syntax `Field(...)` means the field is required, while providing other parameters adds constraints:\n",
    "```python\n",
    "id: int = Field(..., description=\"Business identifier\")\n",
    "```\n",
    "- `...` means required\n",
    "- `description` adds documentation\n",
    "- This is clearer than just `id: int`\n",
    "\n",
    "#### 2. Field Constraints\n",
    "Fields can have multiple validation rules:\n",
    "\n",
    "```python\n",
    "business_name: str = Field( default='Unregistered Business', \n",
    "# Default value if none provided min_length=1, \n",
    "# Can't be empty max_length=100, # Maximum length description=\"Name of the business\" )\n",
    "```\n",
    "\n",
    "#### 3. Optional Fields\n",
    "For optional fields, we combine Python's typing with Field:\n",
    "\n",
    "```python\n",
    "registration_ts: Optional[datetime] = Field( None, # Default value is None description=\"Registration timestamp in YYYY-MM-DD HH:MM format\" )\n",
    "```\n",
    "\n",
    "#### 4. Custom Validators\n",
    "The `@validator` decorator allows custom validation logic:\n",
    "```python\n",
    "    @validator('business_number')\n",
    "    def validate_business_number(cls, v):\n",
    "        if not v.isdigit() or len(v) != 9:\n",
    "            raise ValueError(\"Business number must be exactly 9 digits\")\n",
    "        return v\n",
    "```\n",
    "\n"
   ]
  },
  {
   "cell_type": "code",
   "execution_count": 39,
   "id": "2769f865-8d77-499d-8403-bb2b990c7d7e",
   "metadata": {},
   "outputs": [],
   "source": [
    "from pydantic import BaseModel, Field, validator, field_validator\n",
    "from typing import Optional\n",
    "from datetime import datetime\n",
    "\n",
    "class Business(BaseModel):\n",
    "    id: int = Field(..., description=\"Business identifier\")\n",
    "    business_name: str = Field(\n",
    "        default='Unregistered Business',\n",
    "        min_length=1,\n",
    "        max_length=100,\n",
    "        description=\"Name of the business\"\n",
    "    )\n",
    "    registration_ts: Optional[datetime] = Field(\n",
    "        None,\n",
    "        description=\"Registration timestamp in YYYY-MM-DD HH:MM format\"\n",
    "    )\n",
    "    business_number: str = Field(\n",
    "        ...,\n",
    "        description=\"9-digit business registration number\"\n",
    "    )\n",
    "    naics_code: str = Field(\n",
    "        ...,\n",
    "        description=\"6-digit NAICS industry code\"\n",
    "    )\n",
    "\n",
    "    @field_validator('business_number')\n",
    "    def validate_business_number(cls, v: str) -> str:\n",
    "        if not isinstance(v, str):\n",
    "            raise ValueError(\"Business number must be a string\")\n",
    "        if not v.isdigit():\n",
    "            raise ValueError(\"Business number must contain only digits\")\n",
    "        if len(v) != 9:\n",
    "            raise ValueError(\"Business number must be exactly 9 digits\")\n",
    "        return v\n",
    "\n",
    "    @field_validator('naics_code')\n",
    "    def validate_naics_code(cls, v: str) -> str:\n",
    "        if not isinstance(v, str):\n",
    "            raise ValueError(\"NAICS code must be a string\")\n",
    "        if not v.isdigit():\n",
    "            raise ValueError(\"NAICS code must contain only digits\")\n",
    "        if len(v) != 6:\n",
    "            raise ValueError(\"NAICS code must be exactly 6 digits\")\n",
    "        \n",
    "        valid_sectors = {'11', '21', '22', '23', '31', '32', '33', '42', \n",
    "                        '44', '45', '48', '49', '51', '52', '53', '54', \n",
    "                        '55', '56', '61', '62', '71', '72', '81', '92'}\n",
    "        sector = v[:2]\n",
    "        if sector not in valid_sectors:\n",
    "            raise ValueError(f\"Invalid NAICS sector code '{sector}'. Must start with one of: {', '.join(sorted(valid_sectors))}\")\n",
    "        return v"
   ]
  },
  {
   "cell_type": "code",
   "execution_count": 40,
   "id": "7afb4c51-8e5e-42c9-ae30-e76e2d4d78ab",
   "metadata": {},
   "outputs": [
    {
     "name": "stdout",
     "output_type": "stream",
     "text": [
      "{'id': 123, 'business_name': 'Hanan Ather Pharmacy', 'registration_ts': datetime.datetime(2023, 1, 15, 9, 30), 'business_number': '123456789', 'naics_code': '446110'}\n",
      "====================================================================================================\n"
     ]
    },
    {
     "data": {
      "text/html": [
       "<div>\n",
       "<style scoped>\n",
       "    .dataframe tbody tr th:only-of-type {\n",
       "        vertical-align: middle;\n",
       "    }\n",
       "\n",
       "    .dataframe tbody tr th {\n",
       "        vertical-align: top;\n",
       "    }\n",
       "\n",
       "    .dataframe thead th {\n",
       "        text-align: right;\n",
       "    }\n",
       "</style>\n",
       "<table border=\"1\" class=\"dataframe\">\n",
       "  <thead>\n",
       "    <tr style=\"text-align: right;\">\n",
       "      <th></th>\n",
       "      <th>id</th>\n",
       "      <th>business_name</th>\n",
       "      <th>registration_ts</th>\n",
       "      <th>business_number</th>\n",
       "      <th>naics_code</th>\n",
       "    </tr>\n",
       "  </thead>\n",
       "  <tbody>\n",
       "    <tr>\n",
       "      <th>0</th>\n",
       "      <td>123</td>\n",
       "      <td>Hanan Ather Pharmacy</td>\n",
       "      <td>2023-01-15 09:30:00</td>\n",
       "      <td>123456789</td>\n",
       "      <td>446110</td>\n",
       "    </tr>\n",
       "  </tbody>\n",
       "</table>\n",
       "</div>"
      ],
      "text/plain": [
       "    id         business_name     registration_ts business_number naics_code\n",
       "0  123  Hanan Ather Pharmacy 2023-01-15 09:30:00       123456789     446110"
      ]
     },
     "execution_count": 40,
     "metadata": {},
     "output_type": "execute_result"
    }
   ],
   "source": [
    "# Example 1: Valid business data\n",
    "external_data = {\n",
    "    'id': 123,\n",
    "    'business_name': 'Hanan Ather Pharmacy',\n",
    "    'registration_ts': '2023-01-15 09:30',\n",
    "    'business_number': '123456789',\n",
    "    'naics_code': '446110'  # Actual NAICS code for pharmacies\n",
    "}\n",
    "business = Business(**external_data) \n",
    "print(business.model_dump()) # convert the model to dictionary with `model_dump`\n",
    "print('='*100)\n",
    "pd.DataFrame([Business(**external_data).model_dump()])"
   ]
  },
  {
   "cell_type": "code",
   "execution_count": 32,
   "id": "49b1932d-7df7-4ceb-9cd2-2b4b8379d039",
   "metadata": {},
   "outputs": [
    {
     "name": "stdout",
     "output_type": "stream",
     "text": [
      "\n",
      "Test 2: Optional field omitted\n",
      "\n",
      "Testing Business with optional field omitted:\n",
      "Success! Model dump:\n",
      "{'id': 456, 'business_name': 'Unregistered Business', 'registration_ts': datetime.datetime(2023, 6, 1, 12, 22), 'business_number': '987654321', 'naics_code': '484110'}\n",
      "\n",
      "As DataFrame:\n",
      "    id          business_name     registration_ts business_number naics_code\n",
      "0  456  Unregistered Business 2023-06-01 12:22:00       987654321     484110\n"
     ]
    }
   ],
   "source": [
    "# Test 2: Optional field omitted\n",
    "print(\"\\nTest 2: Optional field omitted\")\n",
    "test_business_data(optional_field_example, \"Business with optional field omitted\")\n"
   ]
  },
  {
   "cell_type": "code",
   "execution_count": 33,
   "id": "3bacd832-98c7-4c2d-b984-e392b650e7fb",
   "metadata": {},
   "outputs": [
    {
     "name": "stdout",
     "output_type": "stream",
     "text": [
      "\n",
      "Test 3: Invalid NAICS code\n",
      "\n",
      "Testing Business with invalid NAICS code:\n",
      "Validation Error:\n",
      "- Field 'naics_code': String should match pattern '^\\d{6}$'\n"
     ]
    }
   ],
   "source": [
    "# Test 3: Invalid NAICS code\n",
    "print(\"\\nTest 3: Invalid NAICS code\")\n",
    "test_business_data(naics_example, \"Business with invalid NAICS code\")\n"
   ]
  },
  {
   "cell_type": "code",
   "execution_count": 34,
   "id": "f64e02fc-37e6-47fb-a7da-eaf988c3f4f2",
   "metadata": {},
   "outputs": [
    {
     "name": "stdout",
     "output_type": "stream",
     "text": [
      "\n",
      "Test 4: Missing required field\n",
      "\n",
      "Testing Business with missing required field:\n",
      "Validation Error:\n",
      "- Field 'id': Field required\n"
     ]
    }
   ],
   "source": [
    "# Test 4: Missing required field\n",
    "print(\"\\nTest 4: Missing required field\")\n",
    "test_business_data(required_fields_example, \"Business with missing required field\")"
   ]
  },
  {
   "cell_type": "code",
   "execution_count": 35,
   "id": "805278bc-9208-487d-99bb-65b63cfefc70",
   "metadata": {},
   "outputs": [
    {
     "name": "stdout",
     "output_type": "stream",
     "text": [
      "[{'type': 'missing', 'loc': ('id',), 'msg': 'Field required', 'input': {'business_name': 'Serge Godbout Trucking', 'registration_ts': '2023-06-01 12:22', 'business_number': '987654321', 'naics_code': '484110'}, 'url': 'https://errors.pydantic.dev/2.10/v/missing'}]\n"
     ]
    }
   ],
   "source": [
    "required_fields_example = {\n",
    "    'business_name': 'Serge Godbout Trucking', \n",
    "    'registration_ts': '2023-06-01 12:22',\n",
    "    'business_number': '987654321',\n",
    "    'naics_code': '484110'\n",
    "    # Missing 'id' field which is required\n",
    "}\n",
    "try:\n",
    "    business = Business(**required_fields_example)  \n",
    "except ValidationError as e:\n",
    "    print(e.errors())"
   ]
  },
  {
   "cell_type": "code",
   "execution_count": 41,
   "id": "aa06079a-aaac-416c-a5f6-7c46af78a5cc",
   "metadata": {},
   "outputs": [
    {
     "name": "stdout",
     "output_type": "stream",
     "text": [
      "{'id': 456, 'business_name': 'Unregistered Business', 'registration_ts': datetime.datetime(2023, 6, 1, 12, 22), 'business_number': '987654321', 'naics_code': '484110'}\n",
      "====================================================================================================\n"
     ]
    },
    {
     "data": {
      "text/html": [
       "<div>\n",
       "<style scoped>\n",
       "    .dataframe tbody tr th:only-of-type {\n",
       "        vertical-align: middle;\n",
       "    }\n",
       "\n",
       "    .dataframe tbody tr th {\n",
       "        vertical-align: top;\n",
       "    }\n",
       "\n",
       "    .dataframe thead th {\n",
       "        text-align: right;\n",
       "    }\n",
       "</style>\n",
       "<table border=\"1\" class=\"dataframe\">\n",
       "  <thead>\n",
       "    <tr style=\"text-align: right;\">\n",
       "      <th></th>\n",
       "      <th>id</th>\n",
       "      <th>business_name</th>\n",
       "      <th>registration_ts</th>\n",
       "      <th>business_number</th>\n",
       "      <th>naics_code</th>\n",
       "    </tr>\n",
       "  </thead>\n",
       "  <tbody>\n",
       "    <tr>\n",
       "      <th>0</th>\n",
       "      <td>456</td>\n",
       "      <td>Unregistered Business</td>\n",
       "      <td>2023-06-01 12:22:00</td>\n",
       "      <td>987654321</td>\n",
       "      <td>484110</td>\n",
       "    </tr>\n",
       "  </tbody>\n",
       "</table>\n",
       "</div>"
      ],
      "text/plain": [
       "    id          business_name     registration_ts business_number naics_code\n",
       "0  456  Unregistered Business 2023-06-01 12:22:00       987654321     484110"
      ]
     },
     "execution_count": 41,
     "metadata": {},
     "output_type": "execute_result"
    }
   ],
   "source": [
    "optional_field_example = {\n",
    "    'id': 456,  # Required field is present\n",
    "    'registration_ts': '2023-06-01 12:22',\n",
    "    'business_number': '987654321',\n",
    "    'naics_code': '484110'\n",
    "    # Notice: business_name is not provided, but that's OK because it has a default\n",
    "}\n",
    "\n",
    "try:\n",
    "    business = Business(**optional_field_example)  \n",
    "except ValidationError as e:\n",
    "    print(e.errors())\n",
    "print(business.model_dump()) # convert the model to dictionary with `model_dump`\n",
    "print('='*100)\n",
    "pd.DataFrame([Business(**optional_field_example).model_dump()])"
   ]
  },
  {
   "cell_type": "code",
   "execution_count": 42,
   "id": "6b8eb09e-be97-41f8-a368-3ce7e50a313b",
   "metadata": {},
   "outputs": [
    {
     "name": "stdout",
     "output_type": "stream",
     "text": [
      "[{'type': 'value_error', 'loc': ('naics_code',), 'msg': 'Value error, NAICS code must be exactly 6 digits', 'input': '4841', 'ctx': {'error': ValueError('NAICS code must be exactly 6 digits')}, 'url': 'https://errors.pydantic.dev/2.10/v/value_error'}]\n"
     ]
    }
   ],
   "source": [
    "naics_example = {\n",
    "    'id': 123,\n",
    "    'registration_ts': '2023-01-15 09:30',\n",
    "    'business_number': '123456789',\n",
    "    'naics_code': '4841'  # Invalid: NAICS must be exactly 6 digits\n",
    "}\n",
    "try:\n",
    "    business = Business(**naics_example)  \n",
    "except ValidationError as e:\n",
    "    print(e.errors())"
   ]
  },
  {
   "cell_type": "code",
   "execution_count": 44,
   "id": "702d8d6f-0524-412c-988a-534f280d3546",
   "metadata": {},
   "outputs": [
    {
     "name": "stdout",
     "output_type": "stream",
     "text": [
      "1 validation error for Business\n",
      "business_number\n",
      "  Value error, Business number must be exactly 9 digits [type=value_error, input_value='12345678901', input_type=str]\n",
      "    For further information visit https://errors.pydantic.dev/2.10/v/value_error\n"
     ]
    }
   ],
   "source": [
    "# Business number too long (11 digits)\n",
    "test1 = {\n",
    "    'id': 123,\n",
    "    'business_name': 'Test Business',\n",
    "    'business_number': '12345678901',  # 11 digits\n",
    "    'naics_code': '446110'\n",
    "}\n",
    "\n",
    "try:\n",
    "    business = Business(**test1)\n",
    "except ValidationError as e:\n",
    "    print(e)\n"
   ]
  },
  {
   "cell_type": "code",
   "execution_count": 45,
   "id": "5bf235ee-1dbb-49fc-85c1-0ba8f4996dea",
   "metadata": {},
   "outputs": [
    {
     "name": "stdout",
     "output_type": "stream",
     "text": [
      "1 validation error for Business\n",
      "business_number\n",
      "  Value error, Business number must contain only digits [type=value_error, input_value='123abc456', input_type=str]\n",
      "    For further information visit https://errors.pydantic.dev/2.10/v/value_error\n"
     ]
    }
   ],
   "source": [
    "# Business number with non-digits\n",
    "test2 = {\n",
    "    'id': 123,\n",
    "    'business_name': 'Test Business',\n",
    "    'business_number': '123abc456',  # contains letters\n",
    "    'naics_code': '446110'\n",
    "}\n",
    "\n",
    "try:\n",
    "    business = Business(**test2)\n",
    "except ValidationError as e:\n",
    "    print(e)"
   ]
  },
  {
   "cell_type": "code",
   "execution_count": 46,
   "id": "6d22bf7c-7462-4593-9978-7c872cd84f86",
   "metadata": {},
   "outputs": [
    {
     "name": "stdout",
     "output_type": "stream",
     "text": [
      "1 validation error for Business\n",
      "naics_code\n",
      "  Value error, Invalid NAICS sector code '99'. Must start with one of: 11, 21, 22, 23, 31, 32, 33, 42, 44, 45, 48, 49, 51, 52, 53, 54, 55, 56, 61, 62, 71, 72, 81, 92 [type=value_error, input_value='996110', input_type=str]\n",
      "    For further information visit https://errors.pydantic.dev/2.10/v/value_error\n"
     ]
    }
   ],
   "source": [
    "# Test case 3: Invalid NAICS sector\n",
    "test3 = {\n",
    "    'id': 123,\n",
    "    'business_name': 'Test Business',\n",
    "    'business_number': '123456789',\n",
    "    'naics_code': '996110'  # starts with 99, which isn't a valid sector\n",
    "}\n",
    "\n",
    "try:\n",
    "    business = Business(**test3)\n",
    "except ValidationError as e:\n",
    "    print(e)"
   ]
  },
  {
   "cell_type": "code",
   "execution_count": null,
   "id": "8d9e03c2-3523-41bc-acb1-009388edf1cd",
   "metadata": {},
   "outputs": [],
   "source": []
  }
 ],
 "metadata": {
  "kernelspec": {
   "display_name": "Python 3 (ipykernel)",
   "language": "python",
   "name": "python3"
  },
  "language_info": {
   "codemirror_mode": {
    "name": "ipython",
    "version": 3
   },
   "file_extension": ".py",
   "mimetype": "text/x-python",
   "name": "python",
   "nbconvert_exporter": "python",
   "pygments_lexer": "ipython3",
   "version": "3.13.1"
  }
 },
 "nbformat": 4,
 "nbformat_minor": 5
}
