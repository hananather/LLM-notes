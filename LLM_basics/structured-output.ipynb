{
 "cells": [
  {
   "cell_type": "markdown",
   "id": "e8aced06-fb05-471f-94e6-bcd840912ac2",
   "metadata": {},
   "source": [
    "# Introduction\n",
    "Large language models (LLMs) excel at chatting in free-form text. This works well for interactive Q&A.\n",
    "However, in software applications we must parse outputs programmatically. Unstructured text forces developers to write brittle post-processing code. \n"
   ]
  },
  {
   "cell_type": "markdown",
   "id": "3525e406-6a31-4bc4-be45-e5592a39b58b",
   "metadata": {},
   "source": [
    "## Structured Outputs \n",
    "\n",
    "Structured outputs help us get structured, predictable data from langague models. Its like giving the LLM a form to fill out instead of letting it respond however it wants.\n",
    "\n",
    "\n",
    "\n",
    "Step 1: Define your schema\n",
    "\n",
    "First you must define an object or data structure to represent the JSON Schema that the model should be constarained to follow. \n",
    "\n",
    "```\n",
    "from pydantic import BaseModel\n",
    "\n",
    "class Step(BaseModel):\n",
    "    explanation: str\n",
    "    output: str\n",
    "\n",
    "class MathResponse(BaseModel):\n",
    "    steps: list[Step]\n",
    "    final_answer: str\n",
    "\n",
    "```\n",
    "\n",
    "**Step 2: Supply the object in the API call:**\n",
    "\n",
    "We can use the `parse` method to automatically parse the JSON response into the object we defined. Under the hood, the SDK take care of supplying the JSON schema corresponding to our data structure, and then parsing the response as an object.\n",
    "\n",
    "\n",
    "\n",
    "** Step 3: Handle edge cases**:\n",
    "\n",
    "\n",
    "#### Chain of thought\n",
    "We can ask a model to output an answer in a structured step by step way to guide the user through a solution. "
   ]
  },
  {
   "cell_type": "code",
   "execution_count": 1,
   "id": "4a0873cd-a050-4fbc-8206-35c92598be2a",
   "metadata": {},
   "outputs": [],
   "source": [
    "from pydantic import BaseModel\n",
    "from openai import OpenAI\n",
    "import pprint as pp\n",
    " \n",
    "client = OpenAI()\n",
    "\n",
    "class Step(BaseModel):\n",
    "    explanation: str\n",
    "    output: str\n",
    "\n",
    "class MathReasoning(BaseModel):\n",
    "    steps: list[Step]\n",
    "    final_answer: str\n",
    "\n",
    "completion = client.beta.chat.completions.parse(\n",
    "    model=\"gpt-4o-2024-08-06\",\n",
    "    messages=[\n",
    "        {\"role\": \"system\", \"content\": \"You are a helpful math tutor. Guide the user through the solution step by step.\"},\n",
    "        {\"role\": \"user\", \"content\": \"how can I solve 8x + 7 = -23\"}\n",
    "    ],\n",
    "    response_format=MathReasoning,\n",
    ")\n",
    "\n",
    "math_reasoning = completion.choices[0].message.parsed"
   ]
  },
  {
   "cell_type": "code",
   "execution_count": 6,
   "id": "ab8708ef-68eb-40bc-b9e4-b30998644aa4",
   "metadata": {},
   "outputs": [
    {
     "data": {
      "text/plain": [
       "MathReasoning(steps=[Step(explanation=\"To solve for x, we first need to isolate the term with x on one side of the equation. To do this, we'll get rid of the constant on the left side by subtracting 7 from both sides of the equation.\", output='8x + 7 - 7 = -23 - 7'), Step(explanation='After simplifying, the left side has 7 - 7, which cancels out, leaving us with only the 8x term. The right side, -23 - 7, simplifies to -30.', output='8x = -30'), Step(explanation=\"Now we need to solve for x by getting x alone. Since x is currently multiplied by 8, we'll divide both sides of the equation by 8 to isolate x.\", output='8x / 8 = -30 / 8'), Step(explanation=\"Similarly, when we simplify -30 divided by 8, we initially get -3.75, but it can also be represented as a fraction -15/4 if needed. However, let's use the decimal since it is simpler in this case.\", output='x = -3.75')], final_answer='x = -3.75')"
      ]
     },
     "execution_count": 6,
     "metadata": {},
     "output_type": "execute_result"
    }
   ],
   "source": [
    "math_reasoning"
   ]
  },
  {
   "cell_type": "markdown",
   "id": "d3709d07-287a-41d9-8e62-574490a45f83",
   "metadata": {},
   "source": [
    "### Generating `enum` value \n",
    "In some cases we might want the model to choose a single option from a list of options. To implement this behavior, we can pass an `enum` into our schema. LIke JSON schema, an enum lets us constrain the model output to meet the requirements of our application.\n",
    "\n"
   ]
  },
  {
   "cell_type": "markdown",
   "id": "afbef7ee-22d0-4af4-82c6-7cb023430aa0",
   "metadata": {},
   "source": [
    "# Case Study\n",
    "\n",
    "Why “residential vs commercial” is worth automating\n",
    "\n",
    "A postal clerk, a utility company, and a Statistics Canada survey designer all need the same first decision: is this line of text a home or a place of business?\n",
    "\n",
    "- Canada Post applies different delivery rules and fees once an address is flagged commercial.\n",
    "- StatsCan’s Address Register keeps separate residential and collective‑dwelling frames to hit the right households during the census.\n",
    "- Small firms tune marketing spend by excluding PO boxes and corporate towers from “neighbourhood flyer” campaigns.\n",
    "\n",
    "Doing the split by hand is slow and error‑prone; doing it with a plain LLM prompt is brittle because the model might drift off schema.  Structured output fixes that drift by validating the JSON response against your own Python types before your code ever touches it.\n",
    "\n"
   ]
  },
  {
   "cell_type": "code",
   "execution_count": 8,
   "id": "5c731124-a1f6-4cdc-9862-055535291d4e",
   "metadata": {},
   "outputs": [],
   "source": [
    "from enum import Enum\n",
    "from pydantic import BaseModel\n",
    "from openai import OpenAI\n",
    "client = OpenAI()\n",
    "\n",
    "class AddressKind(str, Enum):\n",
    "    residential = \"residential\"\n",
    "    commercial  = \"commercial\"\n",
    "    review      = \"review\"      # model must choose this if uncertain\n",
    "\n",
    "class ClassifiedAddress(BaseModel):\n",
    "    kind: AddressKind\n",
    "    original: str"
   ]
  },
  {
   "cell_type": "markdown",
   "id": "11278571-46db-4494-b1c9-0131356dd0b4",
   "metadata": {},
   "source": [
    "Enum forces the model to pick exactly one of three admissible strings; Pydantic refuses the response otherwise.  That guarantee is straight out of Pydantic’s enum‑validation rules.\n",
    "\n",
    "The review sentinel embodies OpenAI’s own advice: when the task is a judgment call, bake in a “hand‑off to human” option instead of hoping the model never hesitates. \n",
    "\n",
    "We pass full cues, not naked street lines, so a human—and therefore the model—can judge without guessing:"
   ]
  },
  {
   "cell_type": "code",
   "execution_count": 9,
   "id": "a40c4610-1525-4c58-9de5-69228ff21c82",
   "metadata": {},
   "outputs": [],
   "source": [
    "ADDRESSES = [\n",
    "    \"TD Bank, 700 Sussex Dr, Ottawa ON K1N 1K4\",\n",
    "    \"The French Baker, 119 Murray St, Ottawa ON K1N 5M5\",\n",
    "    \"126 Glenview Ave, Ottawa ON K1S 1R2 — 3‑bed detached home\",\n",
    "    \"225 Main St, Ottawa ON\",\n",
    "]"
   ]
  },
  {
   "cell_type": "code",
   "execution_count": 20,
   "id": "72943214-f3e4-49e3-bb8c-38982d1a9bc1",
   "metadata": {},
   "outputs": [
    {
     "name": "stdout",
     "output_type": "stream",
     "text": [
      "kind=<AddressKind.commercial: 'commercial'> certainty=<Certainty.high: 'high'> original='TD Bank, 700 Sussex Dr, Ottawa ON K1N 1K4'\n",
      "kind=<AddressKind.commercial: 'commercial'> certainty=<Certainty.high: 'high'> original='The French Baker, 119 Murray St, Ottawa ON K1N 5M5'\n",
      "kind=<AddressKind.residential: 'residential'> certainty=<Certainty.high: 'high'> original='126 Glenview Ave, Ottawa ON K1S 1R2 — 3‑bed detached home'\n",
      "kind=<AddressKind.review: 'review'> certainty=<Certainty.low: 'low'> original='225 Main St, Ottawa ON'\n"
     ]
    }
   ],
   "source": [
    "SYSTEM_PROMPT = (\n",
    "    \"Return a ClassifiedAddress object. \"\n",
    "    \"If you cannot tell from the text whether it is residential or commercial, \"\n",
    "    \"set kind='review'.\"\n",
    ")\n",
    "\n",
    "for line in ADDRESSES:\n",
    "    out = client.beta.chat.completions.parse(\n",
    "        model=\"gpt-4o-mini\",\n",
    "        messages=[{\"role\": \"system\", \"content\": SYSTEM_PROMPT},\n",
    "                  {\"role\": \"user\",   \"content\": line}],\n",
    "        response_format=ClassifiedAddress,\n",
    "    ).choices[0].message.parsed\n",
    "    print(out)"
   ]
  },
  {
   "cell_type": "markdown",
   "id": "1edf3de5-d039-4ac6-894e-5f77e00253ac",
   "metadata": {},
   "source": [
    "### Example 1 Binary label only"
   ]
  },
  {
   "cell_type": "code",
   "execution_count": 15,
   "id": "86d0b695-26c5-40f1-948d-3d8bdbd6bffb",
   "metadata": {},
   "outputs": [
    {
     "name": "stdout",
     "output_type": "stream",
     "text": [
      "Example 1 –results:\n",
      "[{'kind': <AddressKind.commercial: 'commercial'>,\n",
      "  'original': 'TD Bank, 700 Sussex Dr, Ottawa ON K1N 1K4'},\n",
      " {'kind': <AddressKind.commercial: 'commercial'>,\n",
      "  'original': 'The French Baker, 119 Murray St, Ottawa ON K1N 5M5'},\n",
      " {'kind': <AddressKind.residential: 'residential'>,\n",
      "  'original': '126 Glenview Ave, Ottawa ON K1S 1R2 — 3‑bed detached home'},\n",
      " {'kind': <AddressKind.commercial: 'commercial'>,\n",
      "  'original': '225 Main St, Ottawa ON'}]\n"
     ]
    }
   ],
   "source": [
    "from enum import Enum\n",
    "from pydantic import BaseModel\n",
    "from openai import OpenAI\n",
    "from pprint import pprint\n",
    "\n",
    "client = OpenAI()              # expects OPENAI_API_KEY in env\n",
    "\n",
    "class AddressKind(str, Enum):\n",
    "    residential = \"residential\"\n",
    "    commercial  = \"commercial\"\n",
    "\n",
    "class ClassifiedAddress(BaseModel):\n",
    "    kind: AddressKind\n",
    "    original: str\n",
    "\n",
    "ADDRESSES = [\n",
    "    \"TD Bank, 700 Sussex Dr, Ottawa ON K1N 1K4\",\n",
    "    \"The French Baker, 119 Murray St, Ottawa ON K1N 5M5\",\n",
    "    \"126 Glenview Ave, Ottawa ON K1S 1R2 — 3‑bed detached home\",\n",
    "    \"225 Main St, Ottawa ON\",\n",
    "]\n",
    "\n",
    "SYSTEM = \"Label the address as residential or commercial.\"\n",
    "\n",
    "results = [\n",
    "    client.beta.chat.completions.parse(\n",
    "        model=\"gpt-4o-mini\",\n",
    "        messages=[{\"role\": \"system\", \"content\": SYSTEM},\n",
    "                  {\"role\": \"user\", \"content\": line}],\n",
    "        response_format=ClassifiedAddress,\n",
    "    ).choices[0].message.parsed.model_dump()\n",
    "    for line in ADDRESSES\n",
    "]\n",
    "\n",
    "print(\"Example 1 –results:\"); pprint(results, compact=True)"
   ]
  },
  {
   "cell_type": "code",
   "execution_count": 19,
   "id": "63fa808c-9d14-4ff3-9f5a-4f789f97574f",
   "metadata": {},
   "outputs": [
    {
     "name": "stdout",
     "output_type": "stream",
     "text": [
      "Example 2 – with certainty:\n",
      "\n",
      "[{'certainty': <Certainty.high: 'high'>,\n",
      "  'kind': <AddressKind.commercial: 'commercial'>,\n",
      "  'original': 'TD\\u202fBank,\\u202f700\\u202fSussex\\u202fDr, Ottawa ON K1N\\u202f'\n",
      "              '1K4'},\n",
      " {'certainty': <Certainty.high: 'high'>,\n",
      "  'kind': <AddressKind.commercial: 'commercial'>,\n",
      "  'original': 'The French\\u202fBaker,\\u202f119\\u202fMurray\\u202fSt, '\n",
      "              'Ottawa\\u202fON\\u202fK1N\\u202f5M5'},\n",
      " {'certainty': <Certainty.high: 'high'>,\n",
      "  'kind': <AddressKind.residential: 'residential'>,\n",
      "  'original': '126\\u202fGlenview\\u202fAve, Ottawa\\u202fON\\u202fK1S\\u202f1R2 — '\n",
      "              '3‑bed detached home'},\n",
      " {'certainty': <Certainty.low: 'low'>,\n",
      "  'kind': <AddressKind.review: 'review'>,\n",
      "  'original': '225\\u202fMain\\u202fSt, Ottawa\\u202fON'}]\n"
     ]
    }
   ],
   "source": [
    "\n",
    "from pydantic import Field, model_validator\n",
    "from enum import Enum\n",
    "\n",
    "class Certainty(str, Enum):\n",
    "    high = \"high\"\n",
    "    low  = \"low\"\n",
    "\n",
    "class AddressKind(str, Enum):\n",
    "    residential = \"residential\"\n",
    "    commercial  = \"commercial\"\n",
    "    review      = \"review\"          # forced fallback\n",
    "\n",
    "class ClassifiedAddress(BaseModel):\n",
    "    kind: AddressKind\n",
    "    certainty: Certainty\n",
    "    original: str\n",
    "\n",
    "    @model_validator(mode=\"before\")\n",
    "    def route_low_confidence(cls, data):\n",
    "        if data.get(\"certainty\") == \"low\":\n",
    "            data[\"kind\"] = \"review\"\n",
    "        return data\n",
    "\n",
    "SYSTEM = (\n",
    "    \"Return a ClassifiedAddress object. \"\n",
    "    \"If you are not confident, set certainty='low'.\"\n",
    ")\n",
    "\n",
    "results2 = [\n",
    "    client.beta.chat.completions.parse(\n",
    "        model=\"gpt-4o\",\n",
    "        messages=[{\"role\": \"system\", \"content\": SYSTEM},\n",
    "                  {\"role\": \"user\", \"content\": line}],\n",
    "        response_format=ClassifiedAddress,\n",
    "    ).choices[0].message.parsed.model_dump()\n",
    "    for line in ADDRESSES\n",
    "]\n",
    "\n",
    "print(\"Example 2 – with certainty:\\n\"); pprint(results2, compact=True)\n"
   ]
  },
  {
   "cell_type": "code",
   "execution_count": null,
   "id": "503fbdca-9760-47ee-9ede-71297dfd3d84",
   "metadata": {},
   "outputs": [],
   "source": []
  }
 ],
 "metadata": {
  "kernelspec": {
   "display_name": "Python 3 (ipykernel)",
   "language": "python",
   "name": "python3"
  },
  "language_info": {
   "codemirror_mode": {
    "name": "ipython",
    "version": 3
   },
   "file_extension": ".py",
   "mimetype": "text/x-python",
   "name": "python",
   "nbconvert_exporter": "python",
   "pygments_lexer": "ipython3",
   "version": "3.13.1"
  }
 },
 "nbformat": 4,
 "nbformat_minor": 5
}
