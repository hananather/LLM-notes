{
 "cells": [
  {
   "cell_type": "markdown",
   "id": "a7c90463-feb6-4363-865f-b9e4f5a2bac3",
   "metadata": {},
   "source": [
    "# Structured output\n",
    "Structured output is a models capability to output JSON, acquired during fine-tuning. \n",
    "\n",
    "To get the intution, lets implement a natural langugage processing parser that allows us to create structured tabular data from unstructued data. We can accomplish this by: \n",
    "- pipe user input into the LLM -> LLM outputs JSON -> Python picks it up and formats the JSON into HTML\n",
    "- Without LLMs, this is not such an easy task to tackle. Its easy to build a demo, but not easy to build-high quality prodcut that handles edge cases well. \n",
    "\n"
   ]
  },
  {
   "cell_type": "code",
   "execution_count": 1,
   "id": "9752380a-19c3-4989-abdf-00b8e5208610",
   "metadata": {},
   "outputs": [],
   "source": [
    "import os\n",
    "from openai import OpenAI\n",
    "from openai.types.chat import ChatCompletion  \n",
    "\n",
    "\n",
    "def eval(prompt: str, message: str, model: str = \"gpt-4o\") -> ChatCompletion:\n",
    "    client = OpenAI(api_key=os.environ[\"OPENAI_API_KEY\"])\n",
    "    messages = [\n",
    "        {\"role\": \"system\", \"content\": prompt},\n",
    "        {\"role\": \"user\", \"content\": message},\n",
    "    ]\n",
    "\n",
    "    return client.chat.completions.create(\n",
    "        model=model,\n",
    "        messages=messages\n",
    "    )"
   ]
  },
  {
   "cell_type": "code",
   "execution_count": 2,
   "id": "c53373b4-78fa-4089-9ce9-ece77f4aa8fe",
   "metadata": {},
   "outputs": [
    {
     "name": "stdout",
     "output_type": "stream",
     "text": [
      "```json\n",
      "[\n",
      "    {\n",
      "        \"name\": \"Ottawa Public Library\",\n",
      "        \"address\": \"150 Elgin Street, Ottawa\"\n",
      "    },\n",
      "    {\n",
      "        \"name\": \"Sarah Wilson's Bakery\",\n",
      "        \"address\": \"240 Laurier Avenue, Ottawa\"\n",
      "    },\n",
      "    {\n",
      "        \"name\": \"Tech Corp's Office\",\n",
      "        \"address\": \"1385 Terry Fox Drive, Kanata\"\n",
      "    }\n",
      "]\n",
      "```\n"
     ]
    }
   ],
   "source": [
    "prompt = \"\"\"\n",
    "You are a data parsing assistant. \n",
    "User provides unstructued data containing addresses. \n",
    "Your goal is to output it as JSON.\n",
    "\"\"\"\n",
    "data =  \"\"\"\n",
    "The Ottawa Public Library is at 150 Elgin Street, Ottawa.\n",
    "Down the street, Sarah Wilson runs her bakery at 240 Laurier Avenue, Ottawa.\n",
    "Over in Kanata, Tech Corp's office is at 1385 Terry Fox Drive.\n",
    "\"\"\"\n",
    "\n",
    "\n",
    "res = eval(prompt=prompt, message=data)\n",
    "json_data = res.choices[0].message.content\n",
    "\n",
    "print(json_data)"
   ]
  },
  {
   "cell_type": "markdown",
   "id": "071ae70c-42b5-44b1-a24c-486567fdd6ec",
   "metadata": {},
   "source": [
    "We can see that the model didn't return JSON, it returned markdown formated string containing JSON. The reason is that we didn't enable structured output in the API call."
   ]
  },
  {
   "cell_type": "code",
   "execution_count": 4,
   "id": "edcd677a-69b4-4182-beed-bdbecf0a9549",
   "metadata": {},
   "outputs": [
    {
     "name": "stdout",
     "output_type": "stream",
     "text": [
      "\n",
      "{\n",
      "  \"addresses\": [\n",
      "    {\n",
      "      \"name\": \"Ottawa Public Library\",\n",
      "      \"address\": \"150 Elgin Street, Ottawa\"\n",
      "    },\n",
      "    {\n",
      "      \"name\": \"Sarah Wilson's Bakery\",\n",
      "      \"address\": \"240 Laurier Avenue, Ottawa\"\n",
      "    },\n",
      "    {\n",
      "      \"name\": \"Tech Corp\",\n",
      "      \"address\": \"1385 Terry Fox Drive, Kanata\"\n",
      "    }\n",
      "  ]\n",
      "}\n"
     ]
    }
   ],
   "source": [
    "def eval(prompt: str, message: str, model: str = \"gpt-4o\") -> ChatCompletion:\n",
    "    client = OpenAI(api_key=os.environ[\"OPENAI_API_KEY\"])\n",
    "    messages = [\n",
    "        {\"role\": \"system\", \"content\": prompt},\n",
    "        {\"role\": \"user\", \"content\": message},\n",
    "    ]\n",
    "\n",
    "    return client.chat.completions.create(\n",
    "        model=model,\n",
    "        messages=messages,\n",
    "        # Enable strctured output\n",
    "        response_format={\"type\": \"json_object\"},\n",
    "    )\n",
    "prompt = \"\"\"\n",
    "You are a data parsing assistant. \n",
    "User provides unstructued data containing addresses. \n",
    "Your goal is to output it as JSON.\n",
    "\"\"\"\n",
    "data =  \"\"\"\n",
    "The Ottawa Public Library is at 150 Elgin Street, Ottawa.\n",
    "Down the street, Sarah Wilson runs her bakery at 240 Laurier Avenue, Ottawa.\n",
    "Over in Kanata, Tech Corp's office is at 1385 Terry Fox Drive.\n",
    "\"\"\"\n",
    "\n",
    "\n",
    "res = eval(prompt=prompt, message=data)\n",
    "json_data = res.choices[0].message.content\n",
    "\n",
    "print(json_data)"
   ]
  },
  {
   "cell_type": "markdown",
   "id": "788e3e20-1d61-43ca-ae94-c11f72668423",
   "metadata": {},
   "source": [
    "Now, running the same code returns plain JSON. This is not only great because we don't need to parse anything extra but, but it also guarantees that the LLM won't include any free-from text such as \"Sure, here is your data!{}\"\n",
    "\n",
    "\n",
    "The problem is, we don't have the data shaped defined; lets call it *schema*. Our schema is now up to the LLM, and it might change based on user input. Lets reformatt the data to see it in action. "
   ]
  },
  {
   "cell_type": "code",
   "execution_count": 5,
   "id": "e6be852a-6681-4c3e-af33-c7f4cdd0e6a8",
   "metadata": {},
   "outputs": [
    {
     "name": "stdout",
     "output_type": "stream",
     "text": [
      "\n",
      "{\n",
      "  \"addresses\": [\n",
      "    {\n",
      "      \"name\": \"Ottawa Public Library - Main Branch\",\n",
      "      \"address\": {\n",
      "        \"street\": \"150 Elgin Street\",\n",
      "        \"city\": \"Ottawa\"\n",
      "      },\n",
      "      \"status\": \"Open Now\"\n",
      "    },\n",
      "    {\n",
      "      \"name\": \"Sarah's Bakery & Café\",\n",
      "      \"rating\": \"4.8\",\n",
      "      \"address\": {\n",
      "        \"line_1\": \"240 Laurier Avenue\",\n",
      "        \"city\": \"Ottawa\"\n",
      "      }\n",
      "    },\n",
      "    {\n",
      "      \"name\": \"Tech Corp Global\",\n",
      "      \"website\": \"www.techcorp.com/contact\",\n",
      "      \"address\": {\n",
      "        \"street\": \"1385 Terry Fox Drive\",\n",
      "        \"city\": \"Kanata\",\n",
      "        \"province\": \"Ontario\"\n",
      "      },\n",
      "      \"email\": \"info@techcorp.com\"\n",
      "    }\n",
      "  ]\n",
      "}\n"
     ]
    }
   ],
   "source": [
    "# Messy web-scraped format with typical HTML artifacts and inconsistent formatting\n",
    "data_2 = \"\"\"\n",
    "[Search Results]\n",
    "* Ottawa Public Library *\n",
    "Contact Us > Main Branch\n",
    "Located at: &nbsp;150 Elgin Street, Ottawa\n",
    "Status: OPEN NOW! 📚\n",
    "---------------------\n",
    "<div class=\"business-listing\">\n",
    "Sarah's Bakery & Café [⭐️4.8]\n",
    "Address line 1: 240 \n",
    "Address line 2: Laurier Avenue\n",
    "City: Ottawa\n",
    "</div>\n",
    "...Read More...\n",
    "---------------------\n",
    "TECH CORP GLOBAL\n",
    "www.techcorp.com/contact\n",
    "📍 1385 Terry Fox Drive\n",
    "Kanata, Ontario\n",
    "[Click to view map]\n",
    "Email: info@techcorp.com\n",
    "\"\"\"\n",
    "\n",
    "res = eval(prompt=prompt, message=data_2)\n",
    "json_data = res.choices[0].message.content\n",
    "\n",
    "print(json_data)"
   ]
  }
 ],
 "metadata": {
  "kernelspec": {
   "display_name": "Python 3 (ipykernel)",
   "language": "python",
   "name": "python3"
  },
  "language_info": {
   "codemirror_mode": {
    "name": "ipython",
    "version": 3
   },
   "file_extension": ".py",
   "mimetype": "text/x-python",
   "name": "python",
   "nbconvert_exporter": "python",
   "pygments_lexer": "ipython3",
   "version": "3.13.1"
  }
 },
 "nbformat": 4,
 "nbformat_minor": 5
}
