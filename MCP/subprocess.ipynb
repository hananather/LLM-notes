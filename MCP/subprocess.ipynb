{
 "cells": [
  {
   "cell_type": "code",
   "execution_count": 2,
   "id": "2d39714c-e2c4-4522-9043-48ecf3ef4bc4",
   "metadata": {},
   "outputs": [
    {
     "name": "stdout",
     "output_type": "stream",
     "text": [
      "total 56\n",
      "-rw-r--r--  1 hananather  staff  17908 May 30 19:29 MCP.ipynb\n",
      "drwxr-xr-x  4 hananather  staff    128 May 30 19:28 \u001b[1m\u001b[36mpapers\u001b[m\u001b[m\n",
      "-rw-r--r--  1 hananather  staff     99 May 30 18:42 research_server.py\n",
      "-rw-r--r--  1 hananather  staff    337 May 30 21:04 Subprocess.ipynb\n",
      "\n",
      "0\n"
     ]
    }
   ],
   "source": [
    "import subprocess\n",
    "\n",
    "# Run a simple command\n",
    "result = subprocess.run(['ls', '-l'], capture_output=True, text=True)\n",
    "print(result.stdout)\n",
    "print(result.returncode)  # 0 for success\n"
   ]
  },
  {
   "cell_type": "code",
   "execution_count": 3,
   "id": "3bc08943-1bb2-48e0-9a31-2e644f834c56",
   "metadata": {},
   "outputs": [
    {
     "name": "stdout",
     "output_type": "stream",
     "text": [
      "Python 3.13.1\n",
      "\n"
     ]
    }
   ],
   "source": [
    "# Run a command and get output\n",
    "output = subprocess.check_output(['python', '--version'], text=True)\n",
    "print(output)"
   ]
  },
  {
   "cell_type": "code",
   "execution_count": 5,
   "id": "18cf66c2-c1b6-494a-bdae-9e26585342cb",
   "metadata": {},
   "outputs": [
    {
     "name": "stdout",
     "output_type": "stream",
     "text": [
      "Error occurred: /opt/homebrew/Cellar/python@3.13/3.13.1/Frameworks/Python.framework/Versions/3.13/Resources/Python.app/Contents/MacOS/Python: can't open file '/Users/hananather/Desktop/LLM-notes/MCP/process_data.py': [Errno 2] No such file or directory\n",
      "\n"
     ]
    }
   ],
   "source": [
    "import subprocess\n",
    "\n",
    "# Run a data processing script and capture its output\n",
    "result = subprocess.run([\n",
    "    'python', 'process_data.py', \n",
    "    '--input', 'data.csv', \n",
    "    '--format', 'json'\n",
    "], capture_output=True, text=True)\n",
    "\n",
    "if result.returncode == 0:\n",
    "    print(\"Processing completed successfully\")\n",
    "    processed_data = result.stdout\n",
    "    print(f\"Output: {processed_data}\")\n",
    "else:\n",
    "    print(f\"Error occurred: {result.stderr}\")"
   ]
  },
  {
   "cell_type": "code",
   "execution_count": null,
   "id": "487b40dc-0f99-444c-86b9-459ed4bcd6f2",
   "metadata": {},
   "outputs": [],
   "source": []
  }
 ],
 "metadata": {
  "kernelspec": {
   "display_name": "Python 3 (ipykernel)",
   "language": "python",
   "name": "python3"
  },
  "language_info": {
   "codemirror_mode": {
    "name": "ipython",
    "version": 3
   },
   "file_extension": ".py",
   "mimetype": "text/x-python",
   "name": "python",
   "nbconvert_exporter": "python",
   "pygments_lexer": "ipython3",
   "version": "3.13.1"
  }
 },
 "nbformat": 4,
 "nbformat_minor": 5
}
